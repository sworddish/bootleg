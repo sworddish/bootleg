{
 "cells": [
  {
   "cell_type": "code",
   "execution_count": 1,
   "id": "c0fd72c8",
   "metadata": {},
   "outputs": [
    {
     "name": "stdout",
     "output_type": "stream",
     "text": [
      "bootleg\n"
     ]
    }
   ],
   "source": [
    "import os\n",
    "print (os.environ['CONDA_DEFAULT_ENV'])"
   ]
  },
  {
   "cell_type": "code",
   "execution_count": 2,
   "id": "fe7127a5",
   "metadata": {},
   "outputs": [],
   "source": [
    "from pathlib import Path\n",
    "import ujson, os\n",
    "from tqdm.auto import tqdm\n",
    "from bootleg.symbols.entity_profile import EntityProfile"
   ]
  },
  {
   "cell_type": "code",
   "execution_count": 4,
   "id": "e04e7750",
   "metadata": {},
   "outputs": [
    {
     "name": "stdout",
     "output_type": "stream",
     "text": [
      "kg_mappings\n",
      "    config.json\n",
      "    qid2relations\n",
      "        max_value.json\n",
      "        value_vocabulary_trie.marisa\n",
      "        key_vocabulary_trie.marisa\n",
      "        record_trie.marisa\n",
      "entity_mappings\n",
      "    config.json\n",
      "    alias2id\n",
      "        config.json\n",
      "        itoexti.npy\n",
      "        vocabulary_trie.marisa\n",
      "    qid2desc.json\n",
      "    qid2eid\n",
      "        config.json\n",
      "        itoexti.npy\n",
      "        vocabulary_trie.marisa\n",
      "    alias2qids\n",
      "        max_value.json\n",
      "        vocabulary_trie.marisa\n",
      "        record_trie.marisa\n",
      "    qid2title.json\n",
      "type_mappings\n",
      "    wiki\n",
      "        config.json\n",
      "        qid2typenames\n"
     ]
    }
   ],
   "source": [
    "# MODIFY THE PATH TO THE DOWNLOADED ENTITY_DB DATA.\n",
    "entity_profile_cache = Path(\"/opt/data/cchang/bootleg_train/data/entity_db\")\n",
    "# Print out directory structure\n",
    "for fold in entity_profile_cache.iterdir():\n",
    "    # Skip showing our prep directory as that's used when loading a model\n",
    "    if fold.name in [\"prep\"]:\n",
    "        continue\n",
    "    print(fold.name)\n",
    "    for sub_file in fold.iterdir():\n",
    "        print(\"   \", sub_file.name)\n",
    "        if sub_file.is_dir():\n",
    "            for subsub_file in sub_file.iterdir():\n",
    "                print(\"       \", subsub_file.name)"
   ]
  },
  {
   "cell_type": "code",
   "execution_count": 13,
   "id": "f97f9505",
   "metadata": {},
   "outputs": [
    {
     "name": "stderr",
     "output_type": "stream",
     "text": [
      "[2022-05-11 10:58:31,456][INFO] emmental.meta:122 - Setting logging directory to: /opt/data/cchang/bootleg_train/logs/2022_05_11/10_58_31/3de169cb\n",
      "[2022-05-11 10:58:31,475][INFO] emmental.meta:64 - Loading Emmental default config from /home/cchang/miniconda/envs/bootleg/lib/python3.8/site-packages/emmental/emmental-default-config.yaml.\n",
      "[2022-05-11 10:58:31,475][INFO] emmental.meta:174 - Updating Emmental config from user provided config.\n",
      "[2022-05-11 10:58:31,476][INFO] emmental.utils.seed:23 - Set random seed to 1234.\n",
      "[2022-05-11 10:58:31,477][DEBUG] bootleg.end2end.bootleg_annotator:236 - Reading entity database\n",
      "[2022-05-11 10:58:34,640][DEBUG] bootleg.end2end.bootleg_annotator:251 - Reading entity type database\n",
      "[2022-05-11 10:58:34,642][DEBUG] bootleg.end2end.bootleg_annotator:262 - Reading entity kg database\n",
      "[2022-05-11 10:58:34,643][DEBUG] bootleg.end2end.bootleg_annotator:269 - Reading word tokenizers\n",
      "[2022-05-11 10:58:34,646][DEBUG] urllib3.connectionpool:1001 - Starting new HTTPS connection (1): huggingface.co:443\n",
      "[2022-05-11 10:58:37,016][DEBUG] urllib3.connectionpool:456 - https://huggingface.co:443 \"HEAD /bert-base-chinese/resolve/main/tokenizer_config.json HTTP/1.1\" 200 0\n",
      "[2022-05-11 10:58:37,020][DEBUG] urllib3.connectionpool:1001 - Starting new HTTPS connection (1): huggingface.co:443\n",
      "[2022-05-11 10:58:38,686][DEBUG] urllib3.connectionpool:456 - https://huggingface.co:443 \"HEAD /bert-base-chinese/resolve/main/config.json HTTP/1.1\" 200 0\n",
      "[2022-05-11 10:58:38,692][DEBUG] urllib3.connectionpool:1001 - Starting new HTTPS connection (1): huggingface.co:443\n",
      "[2022-05-11 10:58:40,328][DEBUG] urllib3.connectionpool:456 - https://huggingface.co:443 \"HEAD /bert-base-chinese/resolve/main/tokenizer_config.json HTTP/1.1\" 200 0\n",
      "[2022-05-11 10:58:40,331][DEBUG] urllib3.connectionpool:1001 - Starting new HTTPS connection (1): huggingface.co:443\n",
      "[2022-05-11 10:58:41,902][DEBUG] urllib3.connectionpool:456 - https://huggingface.co:443 \"HEAD /bert-base-chinese/resolve/main/vocab.txt HTTP/1.1\" 200 0\n",
      "[2022-05-11 10:58:41,906][DEBUG] urllib3.connectionpool:1001 - Starting new HTTPS connection (1): huggingface.co:443\n",
      "[2022-05-11 10:58:43,398][DEBUG] urllib3.connectionpool:456 - https://huggingface.co:443 \"HEAD /bert-base-chinese/resolve/main/tokenizer.json HTTP/1.1\" 200 0\n",
      "[2022-05-11 10:58:43,402][DEBUG] urllib3.connectionpool:1001 - Starting new HTTPS connection (1): huggingface.co:443\n",
      "[2022-05-11 10:58:44,343][DEBUG] urllib3.connectionpool:456 - https://huggingface.co:443 \"HEAD /bert-base-chinese/resolve/main/added_tokens.json HTTP/1.1\" 404 0\n",
      "[2022-05-11 10:58:44,346][DEBUG] urllib3.connectionpool:1001 - Starting new HTTPS connection (1): huggingface.co:443\n",
      "[2022-05-11 10:58:45,283][DEBUG] urllib3.connectionpool:456 - https://huggingface.co:443 \"HEAD /bert-base-chinese/resolve/main/special_tokens_map.json HTTP/1.1\" 404 0\n",
      "[2022-05-11 10:58:45,287][DEBUG] urllib3.connectionpool:1001 - Starting new HTTPS connection (1): huggingface.co:443\n",
      "[2022-05-11 10:58:46,952][DEBUG] urllib3.connectionpool:456 - https://huggingface.co:443 \"HEAD /bert-base-chinese/resolve/main/tokenizer_config.json HTTP/1.1\" 200 0\n",
      "[2022-05-11 10:58:46,956][DEBUG] urllib3.connectionpool:1001 - Starting new HTTPS connection (1): huggingface.co:443\n",
      "[2022-05-11 10:58:47,843][DEBUG] urllib3.connectionpool:456 - https://huggingface.co:443 \"HEAD /bert-base-chinese/resolve/main/config.json HTTP/1.1\" 200 0\n",
      "[2022-05-11 10:58:47,859][INFO] emmental.model:72 - Created emmental model Bootleg that contains task set().\n",
      "[2022-05-11 10:58:47,861][DEBUG] urllib3.connectionpool:1001 - Starting new HTTPS connection (1): huggingface.co:443\n",
      "[2022-05-11 10:58:48,810][DEBUG] urllib3.connectionpool:456 - https://huggingface.co:443 \"HEAD /bert-base-chinese/resolve/main/config.json HTTP/1.1\" 200 0\n",
      "[2022-05-11 10:58:48,916][DEBUG] urllib3.connectionpool:1001 - Starting new HTTPS connection (1): huggingface.co:443\n",
      "[2022-05-11 10:58:49,906][DEBUG] urllib3.connectionpool:456 - https://huggingface.co:443 \"HEAD /bert-base-chinese/resolve/main/pytorch_model.bin HTTP/1.1\" 302 0\n",
      "Some weights of the model checkpoint at bert-base-chinese were not used when initializing BertModel: ['cls.predictions.transform.dense.bias', 'cls.predictions.transform.LayerNorm.weight', 'cls.predictions.transform.dense.weight', 'cls.seq_relationship.bias', 'cls.predictions.transform.LayerNorm.bias', 'cls.predictions.decoder.weight', 'cls.seq_relationship.weight', 'cls.predictions.bias']\n",
      "- This IS expected if you are initializing BertModel from the checkpoint of a model trained on another task or with another architecture (e.g. initializing a BertForSequenceClassification model from a BertForPreTraining model).\n",
      "- This IS NOT expected if you are initializing BertModel from the checkpoint of a model that you expect to be exactly identical (initializing a BertForSequenceClassification model from a BertForSequenceClassification model).\n",
      "[2022-05-11 10:58:51,484][DEBUG] urllib3.connectionpool:1001 - Starting new HTTPS connection (1): huggingface.co:443\n",
      "[2022-05-11 10:58:53,368][DEBUG] urllib3.connectionpool:456 - https://huggingface.co:443 \"HEAD /bert-base-chinese/resolve/main/config.json HTTP/1.1\" 200 0\n",
      "[2022-05-11 10:58:53,372][DEBUG] urllib3.connectionpool:1001 - Starting new HTTPS connection (1): huggingface.co:443\n",
      "[2022-05-11 10:58:54,268][DEBUG] urllib3.connectionpool:456 - https://huggingface.co:443 \"HEAD /bert-base-chinese/resolve/main/pytorch_model.bin HTTP/1.1\" 302 0\n",
      "Some weights of the model checkpoint at bert-base-chinese were not used when initializing BertModel: ['cls.predictions.transform.dense.bias', 'cls.predictions.transform.LayerNorm.weight', 'cls.predictions.transform.dense.weight', 'cls.seq_relationship.bias', 'cls.predictions.transform.LayerNorm.bias', 'cls.predictions.decoder.weight', 'cls.seq_relationship.weight', 'cls.predictions.bias']\n",
      "- This IS expected if you are initializing BertModel from the checkpoint of a model trained on another task or with another architecture (e.g. initializing a BertForSequenceClassification model from a BertForPreTraining model).\n",
      "- This IS NOT expected if you are initializing BertModel from the checkpoint of a model that you expect to be exactly identical (initializing a BertForSequenceClassification model from a BertForSequenceClassification model).\n",
      "[2022-05-11 10:58:55,753][INFO] emmental.task:137 - Created task: NED\n",
      "[2022-05-11 10:58:55,753][INFO] emmental.model:108 - Moving context_encoder module to CPU.\n",
      "[2022-05-11 10:58:55,755][INFO] emmental.model:108 - Moving entity_encoder module to CPU.\n",
      "[2022-05-11 10:58:55,757][DEBUG] bootleg.end2end.bootleg_annotator:298 - Loading model\n",
      "[2022-05-11 10:58:55,964][INFO] emmental.model:801 - [Bootleg] Model loaded from /opt/data/cchang/bootleg_train/models/last_model.pth\n",
      "[2022-05-11 10:58:55,965][INFO] emmental.model:108 - Moving context_encoder module to CPU.\n",
      "[2022-05-11 10:58:55,966][INFO] emmental.model:108 - Moving entity_encoder module to CPU.\n"
     ]
    }
   ],
   "source": [
    "from bootleg.utils.utils import load_yaml_file\n",
    "from bootleg.end2end.bootleg_annotator import BootlegAnnotator\n",
    "from pathlib import Path\n",
    "\n",
    "# root_dir = FILL IN FULL PATH TO DIRECTORY WHERE DATA IS DOWNLOADED (i.e., root_dir/data and root_dir/models)\n",
    "root_dir = Path(\"/opt/data/cchang/bootleg_train\")\n",
    "# entity_dir = FILL IN PATH TO ENTITY_DB DATA (i.e., tutorial_data/data\n",
    "data_dir = root_dir / \"data\"\n",
    "entity_dir = data_dir / \"entity_db\"\n",
    "# model_dir = FILL IN PATH TO MODELS\n",
    "model_dir = root_dir / \"models\"\n",
    "\n",
    "\n",
    "config_in_path = model_dir / \"run_config.yaml\"\n",
    "\n",
    "config_args = load_yaml_file(config_in_path)\n",
    "\n",
    "# set the model checkpoint path\n",
    "config_args[\"emmental\"][\"model_path\"] = str(\n",
    "    model_dir / \"last_model.pth\"\n",
    ")\n",
    "\n",
    "device = -1 # 0 :gpu\n",
    "# set the path for the entity db and candidate map\n",
    "config_args[\"data_config\"][\"entity_dir\"] = str(entity_dir)\n",
    "\n",
    "ann = BootlegAnnotator(\n",
    "    config=config_args, device=device, return_embs=False, verbose=True, \n",
    "    cache_dir = \"/opt/data/cchang/cache\"\n",
    ")"
   ]
  },
  {
   "cell_type": "code",
   "execution_count": 15,
   "id": "49ead017",
   "metadata": {},
   "outputs": [
    {
     "data": {
      "application/vnd.jupyter.widget-view+json": {
       "model_id": "cdddd417dad84aa09fccce00a3a66469",
       "version_major": 2,
       "version_minor": 0
      },
      "text/plain": [
       "Prepping data:   0%|          | 0/1 [00:00<?, ?it/s]"
      ]
     },
     "metadata": {},
     "output_type": "display_data"
    },
    {
     "data": {
      "application/vnd.jupyter.widget-view+json": {
       "model_id": "c269249523464f1cbf9008241cb2965f",
       "version_major": 2,
       "version_minor": 0
      },
      "text/plain": [
       "Evaluating model:   0%|          | 0/1 [00:00<?, ?it/s]"
      ]
     },
     "metadata": {},
     "output_type": "display_data"
    },
    {
     "name": "stdout",
     "output_type": "stream",
     "text": [
      "{'qids': [['Q5582', 'Q11629']], 'probs': [[0.9999488592147827, 0.9997074007987976]], 'titles': [['文森特·梵高', '绘画']], 'cands': [[['NC', 'Q5582', '-1', '-1', '-1', '-1', '-1', '-1', '-1', '-1', '-1', '-1', '-1', '-1', '-1', '-1', '-1', '-1', '-1', '-1', '-1', '-1', '-1', '-1', '-1', '-1', '-1', '-1', '-1', '-1', '-1'], ['NC', 'Q11629', '-1', '-1', '-1', '-1', '-1', '-1', '-1', '-1', '-1', '-1', '-1', '-1', '-1', '-1', '-1', '-1', '-1', '-1', '-1', '-1', '-1', '-1', '-1', '-1', '-1', '-1', '-1', '-1', '-1']]], 'cand_probs': [[[5.1136601541657e-05, 0.9999488592147827, 0.0, 0.0, 0.0, 0.0, 0.0, 0.0, 0.0, 0.0, 0.0, 0.0, 0.0, 0.0, 0.0, 0.0, 0.0, 0.0, 0.0, 0.0, 0.0, 0.0, 0.0, 0.0, 0.0, 0.0, 0.0, 0.0, 0.0, 0.0, 0.0], [0.0002925781300291419, 0.9997074007987976, 0.0, 0.0, 0.0, 0.0, 0.0, 0.0, 0.0, 0.0, 0.0, 0.0, 0.0, 0.0, 0.0, 0.0, 0.0, 0.0, 0.0, 0.0, 0.0, 0.0, 0.0, 0.0, 0.0, 0.0, 0.0, 0.0, 0.0, 0.0, 0.0]]], 'char_spans': [[[4, 6], [7, 8]]], 'aliases': [['梵高', '画']]}\n"
     ]
    }
   ],
   "source": [
    "sentence = \"我很喜欢梵高的画, 露营的时候常常想起他\"\n",
    "res = ann.label_mentions(sentence)\n",
    "print(res)"
   ]
  },
  {
   "cell_type": "code",
   "execution_count": 5,
   "id": "4dcaecc7",
   "metadata": {},
   "outputs": [
    {
     "name": "stdout",
     "output_type": "stream",
     "text": [
      "Loading Entity Symbols\n",
      "Loading Type Symbols from /opt/data/cchang/bootleg_train/data/entity_db/type_mappings/wiki\n",
      "Loading KG Symbols\n",
      "Loaded full ep in 3.8229048252105713\n"
     ]
    }
   ],
   "source": [
    "import time\n",
    "\n",
    "# edit_mode=True 需要占用内存 30-40GB\n",
    "\n",
    "st = time.time()\n",
    "# Load up ALL profile data - don't forget to set edit_mode = True if you want edit the profile\n",
    "# As edit_mode triggers the profile to build some index structures for fast editing,\n",
    "# the loading takes a few minutes for all of wiki\n",
    "ep = EntityProfile.load_from_cache(entity_profile_cache, edit_mode=False, verbose=True)\n",
    "print(f\"Loaded full ep in {time.time() - st}\")\n",
    "st = time.time()"
   ]
  },
  {
   "cell_type": "code",
   "execution_count": 28,
   "id": "f0e33cb0",
   "metadata": {},
   "outputs": [
    {
     "name": "stdout",
     "output_type": "stream",
     "text": [
      "Q5582\n",
      "文森特·梵高\n",
      "['人类', '画家', '画家']\n",
      "Q11629\n",
      "绘画\n",
      "['活动', '方法', '风格']\n"
     ]
    }
   ],
   "source": [
    "for qid in res['qids'][0]:\n",
    "    print(qid)\n",
    "    try:\n",
    "        #print(ep.get_mentions(qid))\n",
    "        print(ep.get_title(qid))\n",
    "        print(ep.get_types(qid,'wiki'))\n",
    "    except:\n",
    "        pass"
   ]
  },
  {
   "cell_type": "code",
   "execution_count": 29,
   "id": "0dc0265d",
   "metadata": {},
   "outputs": [
    {
     "name": "stdout",
     "output_type": "stream",
     "text": [
      "['__class__', '__delattr__', '__dir__', '__eq__', '__format__', '__ge__', '__getattribute__', '__gt__', '__hash__', '__init__', '__init_subclass__', '__le__', '__lt__', '__ne__', '__new__', '__reduce__', '__reduce_ex__', '__repr__', '__setattr__', '__sizeof__', '__str__', '__subclasshook__', '_read_profile_file', 'add_entity', 'add_mention', 'add_relation', 'add_type', 'get_all_mentions', 'get_all_qids', 'get_all_types', 'get_all_typesystems', 'get_desc', 'get_eid', 'get_entities_of_type', 'get_mentions', 'get_mentions_with_scores', 'get_qid_cands', 'get_qid_count_cands', 'get_relations_between', 'get_relations_tails_for_qid', 'get_title', 'get_type_typeid', 'get_types', 'load_from_cache', 'load_from_jsonl', 'mention_exists', 'prune_to_entities', 'qid_exists', 'reidentify_entity', 'remove_mention', 'remove_relation', 'remove_type', 'save', 'save_to_jsonl', 'update_entity']\n"
     ]
    }
   ],
   "source": [
    "object_methods = [\n",
    "    method_name for method_name in dir(ep) if callable(getattr(ep, method_name))\n",
    "]\n",
    "\n",
    "print(object_methods)"
   ]
  },
  {
   "cell_type": "code",
   "execution_count": 33,
   "id": "44e22067",
   "metadata": {},
   "outputs": [],
   "source": [
    "# Get the title of an entity\n",
    "#print(\"Title:\", ep.get_mentions_with_scores(\"Q11172960\"))\n"
   ]
  },
  {
   "cell_type": "code",
   "execution_count": 20,
   "id": "3e307ae9",
   "metadata": {},
   "outputs": [
    {
     "name": "stdout",
     "output_type": "stream",
     "text": [
      "Existing Types: ['人类', '画家', '画家']\n"
     ]
    }
   ],
   "source": [
    "qid = \"Q5582\"\n",
    "type_system = \"wiki\"\n",
    "print(\"Existing Types:\", ep.get_types(qid, type_system))"
   ]
  },
  {
   "cell_type": "code",
   "execution_count": 31,
   "id": "7e9e804d",
   "metadata": {},
   "outputs": [
    {
     "data": {
      "text/plain": [
       "43551"
      ]
     },
     "execution_count": 31,
     "metadata": {},
     "output_type": "execute_result"
    }
   ],
   "source": [
    "len(set(ep.get_all_types('wiki')))"
   ]
  },
  {
   "cell_type": "code",
   "execution_count": 32,
   "id": "a8e3a696",
   "metadata": {},
   "outputs": [
    {
     "data": {
      "text/plain": [
       "1252201"
      ]
     },
     "execution_count": 32,
     "metadata": {},
     "output_type": "execute_result"
    }
   ],
   "source": [
    "len(set(ep.get_all_qids()))"
   ]
  },
  {
   "cell_type": "code",
   "execution_count": null,
   "id": "a2f1f304",
   "metadata": {},
   "outputs": [],
   "source": []
  }
 ],
 "metadata": {
  "kernelspec": {
   "display_name": "Python 3 (ipykernel)",
   "language": "python",
   "name": "python3"
  },
  "language_info": {
   "codemirror_mode": {
    "name": "ipython",
    "version": 3
   },
   "file_extension": ".py",
   "mimetype": "text/x-python",
   "name": "python",
   "nbconvert_exporter": "python",
   "pygments_lexer": "ipython3",
   "version": "3.8.13"
  }
 },
 "nbformat": 4,
 "nbformat_minor": 5
}
