{
 "cells": [
  {
   "cell_type": "code",
   "execution_count": null,
   "id": "8f052740",
   "metadata": {},
   "outputs": [],
   "source": [
    "#!pip3 install https://github.com/explosion/spacy-models/releases/download/zh_core_web_sm-3.3.0/zh_core_web_sm-3.3.0.tar.gz\n",
    "#!python3 -m spacy download zh_core_web_sm"
   ]
  },
  {
   "cell_type": "code",
   "execution_count": 1,
   "id": "f95d28e9",
   "metadata": {},
   "outputs": [
    {
     "data": {
      "text/plain": [
       "'3.2.0'"
      ]
     },
     "execution_count": 1,
     "metadata": {},
     "output_type": "execute_result"
    }
   ],
   "source": [
    "import spacy\n",
    "spacy.__version__\n"
   ]
  },
  {
   "cell_type": "code",
   "execution_count": 2,
   "id": "35d86ad7",
   "metadata": {},
   "outputs": [
    {
     "name": "stdout",
     "output_type": "stream",
     "text": [
      "zh\r\n"
     ]
    }
   ],
   "source": [
    "!echo $BOOTLEG_LANG_CODE"
   ]
  },
  {
   "cell_type": "code",
   "execution_count": 3,
   "id": "4fafcd03",
   "metadata": {},
   "outputs": [
    {
     "name": "stdout",
     "output_type": "stream",
     "text": [
      "這是一個中文的句子\n",
      "這 NOUN nsubj\n",
      "是 VERB cop\n",
      "一 NUM nummod\n",
      "個 NUM mark:clf\n",
      "中文 NOUN ROOT\n",
      "的 PART case\n",
      "句子 NOUN ROOT\n"
     ]
    }
   ],
   "source": [
    "# load language model\n",
    "nlp_zh = spacy.load('zh_core_web_sm')## disable=[\"parser\"]\n",
    "# parse text \n",
    "doc = nlp_zh('這是一個中文的句子')\n",
    "print(doc.text)\n",
    "for token in doc:\n",
    "    print(token.text, token.pos_, token.dep_)"
   ]
  },
  {
   "cell_type": "code",
   "execution_count": 4,
   "id": "061c0ca8",
   "metadata": {},
   "outputs": [],
   "source": [
    "from pathlib import Path\n",
    "\n",
    "# root_dir = FILL IN FULL PATH TO DIRECTORY WHERE DATA IS DOWNLOADED (i.e., root_dir/data and root_dir/models)\n",
    "root_dir = Path(\"/opt/data/cchang/bootleg_train\")\n",
    "# entity_dir = FILL IN PATH TO ENTITY_DB DATA (i.e., tutorial_data/data\n",
    "data_dir = root_dir / \"data\"\n",
    "entity_dir = data_dir / \"entity_db\"\n",
    "# model_dir = FILL IN PATH TO MODELS\n",
    "model_dir = root_dir / \"models\""
   ]
  },
  {
   "cell_type": "code",
   "execution_count": 5,
   "id": "7d62a44c",
   "metadata": {},
   "outputs": [],
   "source": [
    "device = -1"
   ]
  },
  {
   "cell_type": "code",
   "execution_count": 6,
   "id": "0107d3d3",
   "metadata": {},
   "outputs": [
    {
     "name": "stdout",
     "output_type": "stream",
     "text": [
      "2022-05-17 22:53:28,904 loading file /opt/data/cchang/bootleg_train/models/flair_ner_model.pt\n",
      "2022-05-17 22:53:33,344 SequenceTagger predicts: Dictionary with 35 tags: O, S-PER.NOM, B-PER.NOM, E-PER.NOM, I-PER.NOM, S-PER.NAM, B-PER.NAM, E-PER.NAM, I-PER.NAM, S-GPE.NAM, B-GPE.NAM, E-GPE.NAM, I-GPE.NAM, S-ORG.NAM, B-ORG.NAM, E-ORG.NAM, I-ORG.NAM, S-LOC.NAM, B-LOC.NAM, E-LOC.NAM, I-LOC.NAM, S-LOC.NOM, B-LOC.NOM, E-LOC.NOM, I-LOC.NOM, S-ORG.NOM, B-ORG.NOM, E-ORG.NOM, I-ORG.NOM, S-GPE.NOM, B-GPE.NOM, E-GPE.NOM, I-GPE.NOM, <START>, <STOP>\n"
     ]
    },
    {
     "name": "stderr",
     "output_type": "stream",
     "text": [
      "[2022-05-17 22:53:38,123][INFO] emmental.meta:122 - Setting logging directory to: /opt/data/cchang/bootleg_train/logs\n",
      "[2022-05-17 22:53:38,142][INFO] emmental.meta:64 - Loading Emmental default config from /opt/data/cchang/conda/envs/bootleg/lib/python3.8/site-packages/emmental/emmental-default-config.yaml.\n",
      "[2022-05-17 22:53:38,143][INFO] emmental.meta:174 - Updating Emmental config from user provided config.\n",
      "[2022-05-17 22:53:38,143][INFO] emmental.utils.seed:23 - Set random seed to 1234.\n",
      "[2022-05-17 22:53:38,144][DEBUG] bootleg.end2end.bootleg_annotator:236 - Reading entity database\n",
      "[2022-05-17 22:53:41,227][DEBUG] bootleg.end2end.bootleg_annotator:251 - Reading entity type database\n",
      "[2022-05-17 22:53:41,228][DEBUG] bootleg.end2end.bootleg_annotator:262 - Reading entity kg database\n",
      "[2022-05-17 22:53:41,229][DEBUG] bootleg.end2end.bootleg_annotator:269 - Reading word tokenizers\n",
      "[2022-05-17 22:53:41,232][DEBUG] urllib3.connectionpool:1001 - Starting new HTTPS connection (1): huggingface.co:443\n",
      "[2022-05-17 22:53:43,058][DEBUG] urllib3.connectionpool:456 - https://huggingface.co:443 \"HEAD /bert-base-chinese/resolve/main/tokenizer_config.json HTTP/1.1\" 200 0\n",
      "[2022-05-17 22:53:43,062][DEBUG] urllib3.connectionpool:1001 - Starting new HTTPS connection (1): huggingface.co:443\n",
      "[2022-05-17 22:53:43,993][DEBUG] urllib3.connectionpool:456 - https://huggingface.co:443 \"HEAD /bert-base-chinese/resolve/main/config.json HTTP/1.1\" 200 0\n",
      "[2022-05-17 22:53:43,997][DEBUG] urllib3.connectionpool:1001 - Starting new HTTPS connection (1): huggingface.co:443\n",
      "[2022-05-17 22:53:46,965][DEBUG] urllib3.connectionpool:456 - https://huggingface.co:443 \"HEAD /bert-base-chinese/resolve/main/tokenizer_config.json HTTP/1.1\" 200 0\n",
      "[2022-05-17 22:53:46,969][DEBUG] urllib3.connectionpool:1001 - Starting new HTTPS connection (1): huggingface.co:443\n",
      "[2022-05-17 22:53:48,808][DEBUG] urllib3.connectionpool:456 - https://huggingface.co:443 \"HEAD /bert-base-chinese/resolve/main/vocab.txt HTTP/1.1\" 200 0\n",
      "[2022-05-17 22:53:48,811][DEBUG] urllib3.connectionpool:1001 - Starting new HTTPS connection (1): huggingface.co:443\n",
      "[2022-05-17 22:53:59,043][DEBUG] urllib3.connectionpool:1001 - Starting new HTTPS connection (1): huggingface.co:443\n",
      "[2022-05-17 22:54:00,842][DEBUG] urllib3.connectionpool:456 - https://huggingface.co:443 \"HEAD /bert-base-chinese/resolve/main/added_tokens.json HTTP/1.1\" 404 0\n",
      "[2022-05-17 22:54:00,845][DEBUG] urllib3.connectionpool:1001 - Starting new HTTPS connection (1): huggingface.co:443\n",
      "[2022-05-17 22:54:01,764][DEBUG] urllib3.connectionpool:456 - https://huggingface.co:443 \"HEAD /bert-base-chinese/resolve/main/special_tokens_map.json HTTP/1.1\" 404 0\n",
      "[2022-05-17 22:54:01,768][DEBUG] urllib3.connectionpool:1001 - Starting new HTTPS connection (1): huggingface.co:443\n",
      "[2022-05-17 22:54:09,857][DEBUG] urllib3.connectionpool:456 - https://huggingface.co:443 \"HEAD /bert-base-chinese/resolve/main/tokenizer_config.json HTTP/1.1\" 200 0\n",
      "[2022-05-17 22:54:09,861][DEBUG] urllib3.connectionpool:1001 - Starting new HTTPS connection (1): huggingface.co:443\n",
      "[2022-05-17 22:54:11,099][DEBUG] urllib3.connectionpool:456 - https://huggingface.co:443 \"HEAD /bert-base-chinese/resolve/main/config.json HTTP/1.1\" 200 0\n",
      "[2022-05-17 22:54:11,139][INFO] emmental.model:72 - Created emmental model Bootleg that contains task set().\n",
      "[2022-05-17 22:54:11,141][DEBUG] urllib3.connectionpool:1001 - Starting new HTTPS connection (1): huggingface.co:443\n",
      "[2022-05-17 22:54:12,049][DEBUG] urllib3.connectionpool:456 - https://huggingface.co:443 \"HEAD /bert-base-chinese/resolve/main/config.json HTTP/1.1\" 200 0\n",
      "[2022-05-17 22:54:12,079][DEBUG] urllib3.connectionpool:1001 - Starting new HTTPS connection (1): huggingface.co:443\n",
      "[2022-05-17 22:54:14,946][DEBUG] urllib3.connectionpool:456 - https://huggingface.co:443 \"HEAD /bert-base-chinese/resolve/main/pytorch_model.bin HTTP/1.1\" 302 0\n",
      "Some weights of the model checkpoint at bert-base-chinese were not used when initializing BertModel: ['cls.predictions.transform.dense.bias', 'cls.predictions.transform.dense.weight', 'cls.predictions.bias', 'cls.seq_relationship.bias', 'cls.predictions.transform.LayerNorm.bias', 'cls.predictions.transform.LayerNorm.weight', 'cls.seq_relationship.weight', 'cls.predictions.decoder.weight']\n",
      "- This IS expected if you are initializing BertModel from the checkpoint of a model trained on another task or with another architecture (e.g. initializing a BertForSequenceClassification model from a BertForPreTraining model).\n",
      "- This IS NOT expected if you are initializing BertModel from the checkpoint of a model that you expect to be exactly identical (initializing a BertForSequenceClassification model from a BertForSequenceClassification model).\n",
      "[2022-05-17 22:54:16,462][DEBUG] urllib3.connectionpool:1001 - Starting new HTTPS connection (1): huggingface.co:443\n",
      "[2022-05-17 22:54:19,053][DEBUG] urllib3.connectionpool:456 - https://huggingface.co:443 \"HEAD /bert-base-chinese/resolve/main/config.json HTTP/1.1\" 200 0\n",
      "[2022-05-17 22:54:19,057][DEBUG] urllib3.connectionpool:1001 - Starting new HTTPS connection (1): huggingface.co:443\n",
      "[2022-05-17 22:54:24,416][DEBUG] urllib3.connectionpool:456 - https://huggingface.co:443 \"HEAD /bert-base-chinese/resolve/main/pytorch_model.bin HTTP/1.1\" 302 0\n",
      "Some weights of the model checkpoint at bert-base-chinese were not used when initializing BertModel: ['cls.predictions.transform.dense.bias', 'cls.predictions.transform.dense.weight', 'cls.predictions.bias', 'cls.seq_relationship.bias', 'cls.predictions.transform.LayerNorm.bias', 'cls.predictions.transform.LayerNorm.weight', 'cls.seq_relationship.weight', 'cls.predictions.decoder.weight']\n",
      "- This IS expected if you are initializing BertModel from the checkpoint of a model trained on another task or with another architecture (e.g. initializing a BertForSequenceClassification model from a BertForPreTraining model).\n",
      "- This IS NOT expected if you are initializing BertModel from the checkpoint of a model that you expect to be exactly identical (initializing a BertForSequenceClassification model from a BertForSequenceClassification model).\n",
      "[2022-05-17 22:54:25,791][INFO] emmental.task:137 - Created task: NED\n",
      "[2022-05-17 22:54:25,791][INFO] emmental.model:108 - Moving context_encoder module to CPU.\n",
      "[2022-05-17 22:54:25,794][INFO] emmental.model:108 - Moving entity_encoder module to CPU.\n",
      "[2022-05-17 22:54:25,797][DEBUG] bootleg.end2end.bootleg_annotator:299 - Loading model\n",
      "[2022-05-17 22:54:26,255][INFO] emmental.model:801 - [Bootleg] Model loaded from /opt/data/cchang/bootleg_train/models/last_model.pth\n",
      "[2022-05-17 22:54:26,256][INFO] emmental.model:108 - Moving context_encoder module to CPU.\n",
      "[2022-05-17 22:54:26,258][INFO] emmental.model:108 - Moving entity_encoder module to CPU.\n"
     ]
    }
   ],
   "source": [
    "from bootleg.utils.utils import load_yaml_file\n",
    "from bootleg.end2end.bootleg_annotator import BootlegAnnotator\n",
    "\n",
    "config_in_path = model_dir / \"run_config.yaml\"\n",
    "\n",
    "config_args = load_yaml_file(config_in_path)\n",
    "\n",
    "# set the model checkpoint path\n",
    "config_args[\"emmental\"][\"model_path\"] = str(\n",
    "    model_dir / \"last_model.pth\"\n",
    ")\n",
    "\n",
    "# set the path for the entity db and candidate map\n",
    "config_args[\"data_config\"][\"entity_dir\"] = str(entity_dir)\n",
    "\n",
    "ann = BootlegAnnotator(\n",
    "    config=config_args, device=device, return_embs=False, verbose=True\n",
    ")"
   ]
  },
  {
   "cell_type": "code",
   "execution_count": 7,
   "id": "ca526d38",
   "metadata": {},
   "outputs": [
    {
     "data": {
      "text/plain": [
       "EmmentalModel(name=Bootleg)"
      ]
     },
     "execution_count": 7,
     "metadata": {},
     "output_type": "execute_result"
    }
   ],
   "source": [
    "ann.model"
   ]
  },
  {
   "cell_type": "code",
   "execution_count": 8,
   "id": "0c54a5c2",
   "metadata": {},
   "outputs": [
    {
     "data": {
      "text/plain": [
       "{'data_config': {'context_mask_perc': 0.0,\n",
       "  'data_dir': '/opt/data/cchang/bootleg_train/data',\n",
       "  'data_prep_dir': 'prep',\n",
       "  'dev_dataset': {'file': 'dev.jsonl', 'use_weak_label': False},\n",
       "  'entity_dir': '/opt/data/cchang/bootleg_train/data/entity_db',\n",
       "  'entity_kg_data': {'kg_symbols_dir': 'kg_mappings', 'use_entity_kg': True},\n",
       "  'entity_type_data': {'type_symbols_dir': 'type_mappings/wiki',\n",
       "   'use_entity_types': True},\n",
       "  'eval_slices': ['unif_all',\n",
       "   'unif_NS_all',\n",
       "   'unif_HD',\n",
       "   'unif_TO',\n",
       "   'unif_TL',\n",
       "   'unif_TS'],\n",
       "  'max_ent_len': 128,\n",
       "  'max_seq_len': 128,\n",
       "  'max_seq_window_len': 64,\n",
       "  'overwrite_preprocessed_data': False,\n",
       "  'test_dataset': {'file': 'test.jsonl', 'use_weak_label': False},\n",
       "  'train_dataset': {'file': 'train.jsonl', 'use_weak_label': False},\n",
       "  'train_in_candidates': False,\n",
       "  'use_entity_desc': True,\n",
       "  'word_embedding': {'bert_model': 'bert-base-chinese',\n",
       "   'cache_dir': '/opt/data/cchang/bootleg_train/pretrained_bert_models',\n",
       "   'context_layers': 6,\n",
       "   'entity_layers': 6}},\n",
       " 'emmental': {'checkpoint_all': True,\n",
       "  'checkpoint_freq': 1,\n",
       "  'checkpoint_metric': 'NED/Bootleg/dev/final_loss/acc_boot:max',\n",
       "  'checkpoint_path': '/opt/data/cchang/bootleg_train/checkpoints',\n",
       "  'checkpointing': True,\n",
       "  'clear_intermediate_checkpoints': False,\n",
       "  'counter_unit': 'batch',\n",
       "  'evaluation_freq': 868,\n",
       "  'fp16': True,\n",
       "  'grad_clip': 1.0,\n",
       "  'gradient_accumulation_steps': 1,\n",
       "  'l2': 0.01,\n",
       "  'log_path': '/opt/data/cchang/bootleg_train/logs',\n",
       "  'lr': '2e-5',\n",
       "  'lr_scheduler': 'linear',\n",
       "  'n_steps': 17352,\n",
       "  'online_eval': False,\n",
       "  'use_exact_log_path': True,\n",
       "  'warmup_percentage': 0.1,\n",
       "  'model_path': '/opt/data/cchang/bootleg_train/models/last_model.pth'},\n",
       " 'model_config': {'hidden_size': 200, 'normalize': True, 'temperature': 0.01},\n",
       " 'run_config': {'dataloader_threads': 4,\n",
       "  'dataset_threads': 30,\n",
       "  'eval_batch_size': 16,\n",
       "  'log_level': 'DEBUG',\n",
       "  'spawn_method': 'fork'},\n",
       " 'train_config': {'batch_size': 32}}"
      ]
     },
     "execution_count": 8,
     "metadata": {},
     "output_type": "execute_result"
    }
   ],
   "source": [
    "config_args"
   ]
  },
  {
   "cell_type": "code",
   "execution_count": 9,
   "id": "f6ebb635",
   "metadata": {},
   "outputs": [
    {
     "data": {
      "application/vnd.jupyter.widget-view+json": {
       "model_id": "2eedfe8ee1ff42599a14f13b72ddd44e",
       "version_major": 2,
       "version_minor": 0
      },
      "text/plain": [
       "Prepping data:   0%|          | 0/1 [00:00<?, ?it/s]"
      ]
     },
     "metadata": {},
     "output_type": "display_data"
    },
    {
     "name": "stderr",
     "output_type": "stream",
     "text": [
      "[2022-05-17 22:54:26,324][DEBUG] bootleg.utils.mention_extractor_utils:290 - Extract mention with custom flair model\n"
     ]
    },
    {
     "data": {
      "application/vnd.jupyter.widget-view+json": {
       "model_id": "aec8921fa2e24b0296caf1582d5cc2c5",
       "version_major": 2,
       "version_minor": 0
      },
      "text/plain": [
       "Evaluating model:   0%|          | 0/1 [00:00<?, ?it/s]"
      ]
     },
     "metadata": {},
     "output_type": "display_data"
    },
    {
     "name": "stdout",
     "output_type": "stream",
     "text": [
      "{'qids': [['Q5582']], 'probs': [[0.9490038752555847]], 'titles': [['文森特·梵高']], 'cands': [[['NC', 'Q5582', '-1', '-1', '-1', '-1', '-1', '-1', '-1', '-1', '-1', '-1', '-1', '-1', '-1', '-1', '-1', '-1', '-1', '-1', '-1', '-1', '-1', '-1', '-1', '-1', '-1', '-1', '-1', '-1', '-1']]], 'cand_probs': [[[0.0509960800409317, 0.9490038752555847, 0.0, 0.0, 0.0, 0.0, 0.0, 0.0, 0.0, 0.0, 0.0, 0.0, 0.0, 0.0, 0.0, 0.0, 0.0, 0.0, 0.0, 0.0, 0.0, 0.0, 0.0, 0.0, 0.0, 0.0, 0.0, 0.0, 0.0, 0.0, 0.0]]], 'char_spans': [[[8, 11]]], 'aliases': [['梵高']]}\n"
     ]
    }
   ],
   "source": [
    "sentence = \"我很喜欢梵高的画, 露营的时候常常想起他\"\n",
    "print(ann.label_mentions(sentence))"
   ]
  },
  {
   "cell_type": "code",
   "execution_count": 10,
   "id": "14b0896a",
   "metadata": {},
   "outputs": [
    {
     "data": {
      "application/vnd.jupyter.widget-view+json": {
       "model_id": "ecafbc48e6e841c5b17ec4ce6888f00f",
       "version_major": 2,
       "version_minor": 0
      },
      "text/plain": [
       "Prepping data:   0%|          | 0/1 [00:00<?, ?it/s]"
      ]
     },
     "metadata": {},
     "output_type": "display_data"
    },
    {
     "name": "stderr",
     "output_type": "stream",
     "text": [
      "[2022-05-17 22:54:37,096][DEBUG] bootleg.utils.mention_extractor_utils:290 - Extract mention with custom flair model\n"
     ]
    },
    {
     "data": {
      "application/vnd.jupyter.widget-view+json": {
       "model_id": "d30cb9ef537649b399b2f52f190e23d7",
       "version_major": 2,
       "version_minor": 0
      },
      "text/plain": [
       "Evaluating model:   0%|          | 0/1 [00:00<?, ?it/s]"
      ]
     },
     "metadata": {},
     "output_type": "display_data"
    },
    {
     "name": "stdout",
     "output_type": "stream",
     "text": [
      "{'qids': [['Q5582', 'NC']], 'probs': [[0.9901408553123474, 0.7641107439994812]], 'titles': [['文森特·梵高', 'NC']], 'cands': [[['NC', 'Q5582', '-1', '-1', '-1', '-1', '-1', '-1', '-1', '-1', '-1', '-1', '-1', '-1', '-1', '-1', '-1', '-1', '-1', '-1', '-1', '-1', '-1', '-1', '-1', '-1', '-1', '-1', '-1', '-1', '-1'], ['NC', 'Q37693', '-1', '-1', '-1', '-1', '-1', '-1', '-1', '-1', '-1', '-1', '-1', '-1', '-1', '-1', '-1', '-1', '-1', '-1', '-1', '-1', '-1', '-1', '-1', '-1', '-1', '-1', '-1', '-1', '-1']]], 'cand_probs': [[[0.009859109297394753, 0.9901408553123474, 0.0, 0.0, 0.0, 0.0, 0.0, 0.0, 0.0, 0.0, 0.0, 0.0, 0.0, 0.0, 0.0, 0.0, 0.0, 0.0, 0.0, 0.0, 0.0, 0.0, 0.0, 0.0, 0.0, 0.0, 0.0, 0.0, 0.0, 0.0, 0.0], [0.7641107439994812, 0.23588930070400238, 1.401298464324817e-45, 1.401298464324817e-45, 1.401298464324817e-45, 1.401298464324817e-45, 1.401298464324817e-45, 1.401298464324817e-45, 1.401298464324817e-45, 1.401298464324817e-45, 1.401298464324817e-45, 1.401298464324817e-45, 1.401298464324817e-45, 1.401298464324817e-45, 1.401298464324817e-45, 1.401298464324817e-45, 1.401298464324817e-45, 1.401298464324817e-45, 1.401298464324817e-45, 1.401298464324817e-45, 1.401298464324817e-45, 1.401298464324817e-45, 1.401298464324817e-45, 1.401298464324817e-45, 1.401298464324817e-45, 1.401298464324817e-45, 1.401298464324817e-45, 1.401298464324817e-45, 1.401298464324817e-45, 1.401298464324817e-45, 1.401298464324817e-45]]], 'char_spans': [[[0, 3], [6, 9]]], 'aliases': [['梵高', '高更']]}\n"
     ]
    }
   ],
   "source": [
    "sentence = \"梵高和高更的故事很有意思\"\n",
    "print(ann.label_mentions(sentence))"
   ]
  },
  {
   "cell_type": "code",
   "execution_count": null,
   "id": "0674b04d",
   "metadata": {},
   "outputs": [],
   "source": [
    "from flair.data import Sentence\n",
    "from flair.models import SequenceTagger\n",
    "from flair.data import Corpus\n",
    "import flair\n",
    "flair.__version__"
   ]
  },
  {
   "cell_type": "code",
   "execution_count": null,
   "id": "bac343a4",
   "metadata": {},
   "outputs": [],
   "source": [
    "tagger: SequenceTagger = SequenceTagger.load(\"/opt/data/cchang/bootleg_train/models/flair_ner_model.pt\")\n",
    "\n"
   ]
  },
  {
   "cell_type": "code",
   "execution_count": null,
   "id": "1943eae0",
   "metadata": {},
   "outputs": [],
   "source": [
    "sentence_str = \"梵高和高更的故事很有意思\"\n",
    "sentence_str = \" \".join(list(sentence_str))\n",
    "sentence_str"
   ]
  },
  {
   "cell_type": "code",
   "execution_count": null,
   "id": "e857012b",
   "metadata": {},
   "outputs": [],
   "source": [
    "sentence = Sentence(sentence_str)\n",
    "tagger.predict(sentence, mini_batch_size=16)\n",
    "# iterate over each entity\n",
    "for entity in sentence.get_spans('ner'):\n",
    "    \n",
    "    # print entity text, start_position and end_position\n",
    "    print(f'entity.text is: \"{entity.text}\"')\n",
    "    print(f'entity.start_position is: \"{entity.start_position}\"')\n",
    "    print(f'entity.end_position is: \"{entity.end_position}\"')\n",
    "    \n",
    "    # also print the value and score of its \"ner\"-label\n",
    "    print(f'entity \"ner\"-label value is: \"{entity.get_label(\"ner\").value}\"')\n",
    "    print(f'entity \"ner\"-label score is: \"{entity.get_label(\"ner\").score}\"\\n')\n"
   ]
  },
  {
   "cell_type": "code",
   "execution_count": null,
   "id": "97a06e32",
   "metadata": {},
   "outputs": [],
   "source": [
    "for entity in sentence.get_spans('ner'):\n",
    "    str_main = None\n",
    "    start_pos = -1\n",
    "    end_pos = -1\n",
    "    label = entity.get_label(\"ner\").value\n",
    "    if label.split('.')[0] in ['PER','GPE','LOC','ORG']:\n",
    "        str_main = entity.text.replace(' ','')\n",
    "        start_pos = entity.start_position\n",
    "        end_pos = entity.end_position"
   ]
  },
  {
   "cell_type": "code",
   "execution_count": null,
   "id": "c967286d",
   "metadata": {},
   "outputs": [],
   "source": [
    "str_main"
   ]
  },
  {
   "cell_type": "code",
   "execution_count": null,
   "id": "c439806d",
   "metadata": {},
   "outputs": [],
   "source": []
  }
 ],
 "metadata": {
  "kernelspec": {
   "display_name": "Python 3 (ipykernel)",
   "language": "python",
   "name": "python3"
  },
  "language_info": {
   "codemirror_mode": {
    "name": "ipython",
    "version": 3
   },
   "file_extension": ".py",
   "mimetype": "text/x-python",
   "name": "python",
   "nbconvert_exporter": "python",
   "pygments_lexer": "ipython3",
   "version": "3.8.13"
  }
 },
 "nbformat": 4,
 "nbformat_minor": 5
}
