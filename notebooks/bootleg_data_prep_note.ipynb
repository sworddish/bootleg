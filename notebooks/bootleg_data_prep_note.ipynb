{
 "cells": [
  {
   "cell_type": "code",
   "execution_count": 1,
   "id": "37933437",
   "metadata": {},
   "outputs": [],
   "source": [
    "import string\n",
    "import unicodedata\n",
    "import nltk\n",
    "from nltk import corpus\n",
    "from nltk.tokenize.punkt import PunktSentenceTokenizer, PunktLanguageVars\n",
    "import re"
   ]
  },
  {
   "cell_type": "code",
   "execution_count": null,
   "id": "92041bfb",
   "metadata": {},
   "outputs": [],
   "source": [
    "nltk.__version__"
   ]
  },
  {
   "cell_type": "code",
   "execution_count": null,
   "id": "a2e290c0",
   "metadata": {},
   "outputs": [],
   "source": [
    "# just for record here if needed\n",
    "_period_context_fmt = r\"\"\"\n",
    "    %(SentEndChars)s             # a potential sentence ending\n",
    "    (?=(?P<after_tok>\n",
    "        %(NonWord)s              # either other punctuation\n",
    "        |\n",
    "        \\s*(?P<next_tok>\\S+)     # or whitespace and some other token\n",
    "    ))\"\"\"\n"
   ]
  },
  {
   "cell_type": "code",
   "execution_count": 20,
   "id": "7fa77045",
   "metadata": {},
   "outputs": [],
   "source": [
    "\n",
    "PUNC = string.punctuation\n",
    "PUNC_TRANSLATION_TABLE = str.maketrans(dict.fromkeys(PUNC))  # OR {key: None for key in string.punctuation}\n",
    "BASE_STOPWORDS = {\"的\",\"一\",\"不\",\"在\",\"人\",\"有\",\"是\",\"为\",\"以\",\"于\",\"上\",\"他\",\"而\",\"后\",\"之\",\"来\",\"及\",\"了\",\"因\",\n",
    "                  \"下\",\"可\",\"到\",\"由\",\"这\",\"与\",\"也\",\"此\",\"但\",\"并\",\"个\",\"其\",\"已\",\"无\",\"小\",\"我\",\"们\",\"起\",\"最\",\n",
    "                  \"再\",\"今\",\"去\",\"好\",\"只\",\"又\",\"或\",\"很\",\"亦\",\"某\",\"把\",\"那\",\"你\",\"乃\",\"它\",\"吧\",\"被\",\"比\",\"别\",\n",
    "                  \"趁\",\"当\",\"从\",\"得\",\"打\",\"凡\",\"儿\",\"尔\",\"该\",\"各\",\"给\",\"跟\",\"和\",\"何\",\"还\",\"即\",\"几\",\"既\",\"看\",\n",
    "                  \"据\",\"距\",\"靠\",\"啦\",\"另\",\"么\",\"每\",\"嘛\",\"拿\",\"哪\",\"您\",\"凭\",\"且\",\"却\",\"让\",\"仍\",\"啥\",\"如\",\"若\",\n",
    "                  \"使\",\"谁\",\"虽\",\"随\",\"同\",\"所\",\"她\",\"哇\",\"嗡\",\"往\",\"些\",\"向\",\"沿\",\"哟\",\"用\",\"咱\",\"则\",\"怎\",\"曾\",\n",
    "                  \"至\",\"致\",\"着\",\"诸\",\"自\"}\n",
    "NOUNS = ['NN', 'NNS', 'NNP', 'NNPS', 'PRP']\n",
    "ENSURE_ASCII = False\n",
    "CATEGORY_LINE_START = '[[Category:'\n",
    "CATEGORY_LINE_CAPTURE = r'\\[\\[Category:([^\\|]+).*\\]\\].*'\n",
    "# https://en.wikipedia.org/wiki/Wikipedia:Namespace\n",
    "STANDARD_NAMESPACE = {\"category\", \"user\", \"help\", \"portal\", \"draft\", \"module\", \"file\", \"wikipedia\", \"wiktionary\",\n",
    "                      \"wikt\", \"wp\", \"wt\", \"w\", \"cat\", \"image\", \"special\", \"template\", \"talk\", \"centralwikia\",\n",
    "                      \"s\", \"creativecommons\", \"wikisource\"}\n",
    "\n",
    "##\n",
    "# Recognize only these namespaces in links\n",
    "# w: Internal links to the Wikipedia\n",
    "# wiktionary: Wiki dictionary\n",
    "# wikt: shortcut for Wiktionary\n",
    "#\n",
    "ACCEPTED_NAMESPACE = {'w', 'wiktionary', 'wikt'}\n",
    "\n",
    "\n",
    "class CustomLangVars(PunktLanguageVars):\n",
    "    sent_end_chars = ('.','。','！','？','…','!','?','；',';','﹗','！','!','﹖','？','?')\n",
    "    \n",
    "\n",
    "def sent_tokenize(sent):\n",
    "    # TODO: chinese sent tokenized ok ? \n",
    "    return tokenize.sent_tokenize(sent)\n",
    "\n",
    "def sent_offset_tokenize(sent):\n",
    "    # TODO: chinese sent tokenized ok ? \n",
    "    # adding sentence ending character to correctly identify boundaries in different languages\n",
    "    tokenizer = PunktSentenceTokenizer(lang_vars = CustomLangVars())\n",
    "    return tokenizer.span_tokenize(sent)\n",
    "\n",
    "def word_offset_tokenize(sent):\n",
    "    return tokenize.WhitespaceTokenizer().span_tokenize(sent)\n",
    "\n",
    "def word_tokenize(sent):\n",
    "    return tokenize.word_tokenize(sent)\n",
    "\n",
    "def pos_tag(tokens):\n",
    "    return nltk.pos_tag(tokens)\n",
    "\n",
    "def ngrams(tags, n):\n",
    "    return nltk.ngrams(tags, n)\n",
    "\n",
    "def get_lnrm(s, strip, lower):\n",
    "    \"\"\"Convert a string to its lnrm form\n",
    "    We form the lower-cased normalized version l(s) of a string s by canonicalizing\n",
    "    its UTF-8 characters, eliminating diacritics, lower-casing the UTF-8 and\n",
    "    throwing out all ASCII-range characters that are not alpha-numeric.\n",
    "    from http://nlp.stanford.edu/pubs/subctackbp.pdf Section 2.3\n",
    "    Args:\n",
    "        input string\n",
    "    Returns:\n",
    "        the lnrm form of the string\n",
    "    \"\"\"\n",
    "    if not strip and not lower:\n",
    "        return s\n",
    "    lnrm = str(s)\n",
    "    if lower:\n",
    "        lnrm = lnrm.lower()\n",
    "    if strip:\n",
    "        lnrm = unicodedata.normalize('NFD', lnrm)\n",
    "        lnrm = ''.join([x for x in lnrm if (not unicodedata.combining(x)\n",
    "                                            and x.isalnum() or x == ' ')]).strip()\n",
    "    # will remove if there are any duplicate white spaces e.g. \"the  alias    is here\"\n",
    "    lnrm = \" \".join(lnrm.split())\n",
    "    return lnrm\n",
    "\n",
    "class HumanNameParser:\n",
    "    def __init__(self, name):\n",
    "        self.last = \"\"\n",
    "        self.first = name"
   ]
  },
  {
   "cell_type": "code",
   "execution_count": 21,
   "id": "0e9c85c5",
   "metadata": {},
   "outputs": [],
   "source": [
    "page_text = \"\"\"埃斯特拉达·帕尔马是在十年战争中一个重要的古巴将军。\\n曾被西班牙军队俘虏并流放，在被放逐期间，他前往纽约，在那里他与何塞·马蒂一起工作。\\n马蒂死后，埃斯特拉达·帕尔马成为古巴革命党新的领导人。\\n他在华盛顿寻求。\\n援助，成功地使美国国会通过联合决议，这项法案是导致美国宣战西班牙的其中一个因素，美国介入了战争，史称美西战争，要求古巴摆脱西班牙殖民统治。\\n在伦纳德·伍德将军管理古巴几年后，举行了选举。\\n以何塞·米格尔·戈麦斯为首的共和党保守派和阿尔弗雷·扎亚斯为首的国家自由派，双方支持埃斯特拉达·帕尔玛。\\n他虽然停留的全部时间都在美国，在那儿他是一个公民。\\n1901年12月31日埃斯特拉达·帕尔马当选总统，他的政治取向如同美国总统西奥多·罗斯福開明。\\n美军离开后，古巴政府签署了一项法案，降低对美国产品关税，并将普拉特修正案纳入自己的宪法。1903年2月16日埃斯特拉达·帕尔玛签订了美国-古巴互惠条约，同意租借关塔那摩湾地区给美国，用作海军基地和煤站。\\n1906年埃斯特拉达·帕尔马连任，但这次自由派反对，称选举舞弊。\\n美国军事介入，不久帕尔马辞职，抗议罗斯福的意愿，查尔斯·马贡在古巴建立了另一个親美政府，美國对古巴实行军事占领。\\n个人生活.\"\"\""
   ]
  },
  {
   "cell_type": "code",
   "execution_count": 22,
   "id": "ec311ce1",
   "metadata": {},
   "outputs": [
    {
     "name": "stdout",
     "output_type": "stream",
     "text": [
      "埃斯特拉达·帕尔马是在十年战争中一个重要的古巴将军。\n",
      "-----\n",
      "曾被西班牙军队俘虏并流放，在被放逐期间，他前往纽约，在那里他与何塞·马蒂一起工作。\n",
      "-----\n",
      "马蒂死后，埃斯特拉达·帕尔马成为古巴革命党新的领导人。\n",
      "-----\n",
      "他在华盛顿寻求。\n",
      "-----\n",
      "援助，成功地使美国国会通过联合决议，这项法案是导致美国宣战西班牙的其中一个因素，美国介入了战争，史称美西战争，要求古巴摆脱西班牙殖民统治。\n",
      "-----\n",
      "在伦纳德·伍德将军管理古巴几年后，举行了选举。\n",
      "-----\n",
      "以何塞·米格尔·戈麦斯为首的共和党保守派和阿尔弗雷·扎亚斯为首的国家自由派，双方支持埃斯特拉达·帕尔玛。\n",
      "-----\n",
      "他虽然停留的全部时间都在美国，在那儿他是一个公民。\n",
      "-----\n",
      "1901年12月31日埃斯特拉达·帕尔马当选总统，他的政治取向如同美国总统西奥多·罗斯福開明。\n",
      "-----\n",
      "美军离开后，古巴政府签署了一项法案，降低对美国产品关税，并将普拉特修正案纳入自己的宪法。1903年2月16日埃斯特拉达·帕尔玛签订了美国-古巴互惠条约，同意租借关塔那摩湾地区给美国，用作海军基地和煤站。\n",
      "-----\n",
      "1906年埃斯特拉达·帕尔马连任，但这次自由派反对，称选举舞弊。\n",
      "-----\n",
      "美国军事介入，不久帕尔马辞职，抗议罗斯福的意愿，查尔斯·马贡在古巴建立了另一个親美政府，美國对古巴实行军事占领。\n",
      "-----\n",
      "个人生活.\n",
      "-----\n"
     ]
    }
   ],
   "source": [
    "sentence_all_data = []\n",
    "sent_idx = 0\n",
    "last_cur_offset = -1\n",
    "for i, [cur_offset, end_offset] in enumerate(sent_offset_tokenize(page_text)):\n",
    "    cur_offset = cur_offset if last_cur_offset == -1 else last_cur_offset\n",
    "    sent = page_text[cur_offset:end_offset]\n",
    "    print(sent)\n",
    "    print('-----')"
   ]
  },
  {
   "cell_type": "code",
   "execution_count": 23,
   "id": "3844daeb",
   "metadata": {},
   "outputs": [
    {
     "name": "stdout",
     "output_type": "stream",
     "text": [
      "It is thought to spread mainly from person to person。mainly through respiratory droplets produced when an infected person coughs or sneezes.\n",
      "---\n",
      "These droplets can land in the mouths or noses of people who are nearby or possibly be inhaled into the lungs.\n",
      "---\n",
      "Spread is more likely when people are in close contact with one another (within about 6 feet).\n",
      "---\n",
      "It may be possible that a person can get COVID-19 by touching a surface or object that has the virus on it and then touching their own mouth, nose, or possibly their eyes.\n",
      "---\n",
      "This is not thought to be the main way the virus spreads, but we are still learning more about this virus.\n",
      "---\n"
     ]
    }
   ],
   "source": [
    "\n",
    "text = '''It is thought to spread mainly from person to person。mainly through respiratory droplets produced when an infected person coughs or sneezes. These droplets can land in the mouths or noses of people who are nearby or possibly be inhaled into the lungs. Spread is more likely when people are in close contact with one another (within about 6 feet). It may be possible that a person can get COVID-19 by touching a surface or object that has the virus on it and then touching their own mouth, nose, or possibly their eyes. This is not thought to be the main way the virus spreads, but we are still learning more about this virus.'''\n",
    "\n",
    "\n",
    "tokenizer = PunktSentenceTokenizer(lang_vars = CustomLangVars())\n",
    "for sent in tokenizer.tokenize(text):\n",
    "    print(sent)\n",
    "    print('---')"
   ]
  },
  {
   "cell_type": "code",
   "execution_count": 24,
   "id": "3abec947",
   "metadata": {},
   "outputs": [],
   "source": [
    "sentence_delimiters = \".。！？……!?\\n；;﹗！!﹖？?\"\n",
    "\n",
    "def split_to_sentences(text, method=\"re\"):\n",
    "    if not text:\n",
    "        return []\n",
    "\n",
    "    sents = re.findall(\n",
    "        f\"[^{sentence_delimiters}]*[{sentence_delimiters}]+\",\n",
    "        text,\n",
    "    )\n",
    "    return sents if sents else [text]\n",
    "\n",
    "#re.sub('(every).*?(\\\\s.*\\\\.)',r'\\1body\\2',src) # everybody is alright.\n",
    "\n",
    "def preprocess(raw_text):\n",
    "    raw_text = re.sub(r'([….。?﹖？!﹗！])([\\s])?(\\w+)', '\\\\1 \\\\3', raw_text)\n",
    "    return raw_text"
   ]
  },
  {
   "cell_type": "code",
   "execution_count": 25,
   "id": "4089c60e",
   "metadata": {},
   "outputs": [
    {
     "name": "stdout",
     "output_type": "stream",
     "text": [
      "埃斯特拉达·帕尔马是在十年战争中一个重要的古巴将军。\n",
      "曾被西班牙军队俘虏并流放，在被放逐期间，他前往纽约，在那里他与何塞·马蒂一起工作。\n",
      "马蒂死后，埃斯特拉达·帕尔马成为古巴革命党新的领导人。\n",
      "他在华盛顿寻求。\n",
      "援助，成功地使美国国会通过联合决议，这项法案是导致美国宣战西班牙的其中一个因素，美国介入了战争，史称美西战争，要求古巴摆脱西班牙殖民统治。\n",
      "在伦纳德·伍德将军管理古巴几年后，举行了选举。\n",
      "以何塞·米格尔·戈麦斯为首的共和党保守派和阿尔弗雷·扎亚斯为首的国家自由派，双方支持埃斯特拉达·帕尔玛。\n",
      "他虽然停留的全部时间都在美国，在那儿他是一个公民。\n",
      "1901年12月31日埃斯特拉达·帕尔马当选总统，他的政治取向如同美国总统西奥多·罗斯福開明。\n",
      "美军离开后，古巴政府签署了一项法案，降低对美国产品关税，并将普拉特修正案纳入自己的宪法。1903年2月16日埃斯特拉达·帕尔玛签订了美国-古巴互惠条约，同意租借关塔那摩湾地区给美国，用作海军基地和煤站。\n",
      "1906年埃斯特拉达·帕尔马连任，但这次自由派反对，称选举舞弊。\n",
      "美国军事介入，不久帕尔马辞职，抗议罗斯福的意愿，查尔斯·马贡在古巴建立了另一个親美政府，美國对古巴实行军事占领。\n",
      "个人生活.\n"
     ]
    }
   ],
   "source": [
    "print(page_text)"
   ]
  },
  {
   "cell_type": "code",
   "execution_count": 26,
   "id": "9700768e",
   "metadata": {},
   "outputs": [
    {
     "name": "stdout",
     "output_type": "stream",
     "text": [
      "It is thought to spread mainly from person to person。\n",
      "---\n",
      "mainly through respiratory droplets produced when an infected person coughs or sneezes.\n",
      "---\n",
      "These droplets can land in the mouths or noses of people who are nearby or possibly be inhaled into the lungs.\n",
      "---\n",
      "Spread is more likely when people are in close contact with one another (within about 6 feet).\n",
      "---\n",
      "It may be possible that a person can get COVID-19 by touching a surface or object that has the virus on it and then touching their own mouth, nose, or possibly their eyes.\n",
      "---\n",
      "This is not thought to be the main way the virus spreads, but we are still learning more about this virus.\n",
      "---\n"
     ]
    }
   ],
   "source": [
    "text = '''It is thought to spread mainly from person to person。mainly through respiratory droplets produced when an infected person coughs or sneezes. These droplets can land in the mouths or noses of people who are nearby or possibly be inhaled into the lungs. Spread is more likely when people are in close contact with one another (within about 6 feet). It may be possible that a person can get COVID-19 by touching a surface or object that has the virus on it and then touching their own mouth, nose, or possibly their eyes. This is not thought to be the main way the virus spreads, but we are still learning more about this virus.'''\n",
    "#split_to_sentences(preprocess(text))\n",
    "tokenizer = PunktSentenceTokenizer(lang_vars = CustomLangVars())\n",
    "for sent in tokenizer.tokenize(preprocess(text)):\n",
    "    print(sent)\n",
    "    print('---')"
   ]
  },
  {
   "cell_type": "code",
   "execution_count": null,
   "id": "e122b8a2",
   "metadata": {},
   "outputs": [],
   "source": [
    "\n",
    "filtered_text = preprocess(page_text)\n",
    "split_to_sentences(filtered_text)"
   ]
  },
  {
   "cell_type": "code",
   "execution_count": null,
   "id": "92bcd80b",
   "metadata": {},
   "outputs": [],
   "source": [
    "print(filtered_text)"
   ]
  },
  {
   "cell_type": "code",
   "execution_count": 12,
   "id": "74f9f175",
   "metadata": {},
   "outputs": [
    {
     "name": "stdout",
     "output_type": "stream",
     "text": [
      "It is thought to spread mainly from person to person。\n",
      "---\n",
      "mainly through respiratory droplets produced when an infected person coughs or sneezes.\n",
      "---\n",
      "These droplets can land in the mouths or noses of people who are nearby or possibly be inhaled into the lungs.\n",
      "---\n",
      "Spread is more likely when people are in close contact with one another (within about 6 feet).\n",
      "---\n",
      "It may be possible that a person can get COVID-19 by touching a surface or object that has the virus on it and then touching their own mouth, nose, or possibly their eyes.\n",
      "---\n",
      "This is not thought to be the main way the virus spreads, but we are still learning more about this virus.\n",
      "---\n"
     ]
    }
   ],
   "source": []
  },
  {
   "cell_type": "code",
   "execution_count": null,
   "id": "83fd0390",
   "metadata": {},
   "outputs": [],
   "source": []
  }
 ],
 "metadata": {
  "kernelspec": {
   "display_name": "Python 3 (ipykernel)",
   "language": "python",
   "name": "python3"
  },
  "language_info": {
   "codemirror_mode": {
    "name": "ipython",
    "version": 3
   },
   "file_extension": ".py",
   "mimetype": "text/x-python",
   "name": "python",
   "nbconvert_exporter": "python",
   "pygments_lexer": "ipython3",
   "version": "3.8.13"
  }
 },
 "nbformat": 4,
 "nbformat_minor": 5
}
