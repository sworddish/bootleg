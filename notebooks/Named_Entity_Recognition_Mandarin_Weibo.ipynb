{
  "nbformat": 4,
  "nbformat_minor": 0,
  "metadata": {
    "colab": {
      "name": "Named_Entity_Recognition_Mandarin_Weibo.ipynb",
      "provenance": [],
      "include_colab_link": true
    },
    "kernelspec": {
      "name": "python3",
      "display_name": "Python 3"
    },
    "accelerator": "GPU",
    "widgets": {
      "application/vnd.jupyter.widget-state+json": {
        "1ea66ecd53da49ef8a9ba2f795cefee4": {
          "model_module": "@jupyter-widgets/controls",
          "model_name": "HBoxModel",
          "model_module_version": "1.5.0",
          "state": {
            "_dom_classes": [],
            "_model_module": "@jupyter-widgets/controls",
            "_model_module_version": "1.5.0",
            "_model_name": "HBoxModel",
            "_view_count": null,
            "_view_module": "@jupyter-widgets/controls",
            "_view_module_version": "1.5.0",
            "_view_name": "HBoxView",
            "box_style": "",
            "children": [
              "IPY_MODEL_1e95b1f37de546a99bdeea22cc031505",
              "IPY_MODEL_8b2fcc41ffa04c45b172246016286646",
              "IPY_MODEL_d0407a48239b41148966a4b5e7dc7def"
            ],
            "layout": "IPY_MODEL_808c122556084ce78e5bf3928395df40"
          }
        },
        "1e95b1f37de546a99bdeea22cc031505": {
          "model_module": "@jupyter-widgets/controls",
          "model_name": "HTMLModel",
          "model_module_version": "1.5.0",
          "state": {
            "_dom_classes": [],
            "_model_module": "@jupyter-widgets/controls",
            "_model_module_version": "1.5.0",
            "_model_name": "HTMLModel",
            "_view_count": null,
            "_view_module": "@jupyter-widgets/controls",
            "_view_module_version": "1.5.0",
            "_view_name": "HTMLView",
            "description": "",
            "description_tooltip": null,
            "layout": "IPY_MODEL_e9fc66967a4342008bdd3990252b6f00",
            "placeholder": "​",
            "style": "IPY_MODEL_0d7f39426dbc407cae1efaebf54c94d8",
            "value": "Downloading: 100%"
          }
        },
        "8b2fcc41ffa04c45b172246016286646": {
          "model_module": "@jupyter-widgets/controls",
          "model_name": "FloatProgressModel",
          "model_module_version": "1.5.0",
          "state": {
            "_dom_classes": [],
            "_model_module": "@jupyter-widgets/controls",
            "_model_module_version": "1.5.0",
            "_model_name": "FloatProgressModel",
            "_view_count": null,
            "_view_module": "@jupyter-widgets/controls",
            "_view_module_version": "1.5.0",
            "_view_name": "ProgressView",
            "bar_style": "success",
            "description": "",
            "description_tooltip": null,
            "layout": "IPY_MODEL_e4d01b55022f4e0880e8d36239628fdc",
            "max": 109540,
            "min": 0,
            "orientation": "horizontal",
            "style": "IPY_MODEL_7cfa4345347e4ceaaf523e3a12638039",
            "value": 109540
          }
        },
        "d0407a48239b41148966a4b5e7dc7def": {
          "model_module": "@jupyter-widgets/controls",
          "model_name": "HTMLModel",
          "model_module_version": "1.5.0",
          "state": {
            "_dom_classes": [],
            "_model_module": "@jupyter-widgets/controls",
            "_model_module_version": "1.5.0",
            "_model_name": "HTMLModel",
            "_view_count": null,
            "_view_module": "@jupyter-widgets/controls",
            "_view_module_version": "1.5.0",
            "_view_name": "HTMLView",
            "description": "",
            "description_tooltip": null,
            "layout": "IPY_MODEL_2d9041428ea347949ca4c95f0fe7fab2",
            "placeholder": "​",
            "style": "IPY_MODEL_2d39bb0b998f4155809bafb8a76e35e2",
            "value": " 107k/107k [00:00&lt;00:00, 1.20MB/s]"
          }
        },
        "808c122556084ce78e5bf3928395df40": {
          "model_module": "@jupyter-widgets/base",
          "model_name": "LayoutModel",
          "model_module_version": "1.2.0",
          "state": {
            "_model_module": "@jupyter-widgets/base",
            "_model_module_version": "1.2.0",
            "_model_name": "LayoutModel",
            "_view_count": null,
            "_view_module": "@jupyter-widgets/base",
            "_view_module_version": "1.2.0",
            "_view_name": "LayoutView",
            "align_content": null,
            "align_items": null,
            "align_self": null,
            "border": null,
            "bottom": null,
            "display": null,
            "flex": null,
            "flex_flow": null,
            "grid_area": null,
            "grid_auto_columns": null,
            "grid_auto_flow": null,
            "grid_auto_rows": null,
            "grid_column": null,
            "grid_gap": null,
            "grid_row": null,
            "grid_template_areas": null,
            "grid_template_columns": null,
            "grid_template_rows": null,
            "height": null,
            "justify_content": null,
            "justify_items": null,
            "left": null,
            "margin": null,
            "max_height": null,
            "max_width": null,
            "min_height": null,
            "min_width": null,
            "object_fit": null,
            "object_position": null,
            "order": null,
            "overflow": null,
            "overflow_x": null,
            "overflow_y": null,
            "padding": null,
            "right": null,
            "top": null,
            "visibility": null,
            "width": null
          }
        },
        "e9fc66967a4342008bdd3990252b6f00": {
          "model_module": "@jupyter-widgets/base",
          "model_name": "LayoutModel",
          "model_module_version": "1.2.0",
          "state": {
            "_model_module": "@jupyter-widgets/base",
            "_model_module_version": "1.2.0",
            "_model_name": "LayoutModel",
            "_view_count": null,
            "_view_module": "@jupyter-widgets/base",
            "_view_module_version": "1.2.0",
            "_view_name": "LayoutView",
            "align_content": null,
            "align_items": null,
            "align_self": null,
            "border": null,
            "bottom": null,
            "display": null,
            "flex": null,
            "flex_flow": null,
            "grid_area": null,
            "grid_auto_columns": null,
            "grid_auto_flow": null,
            "grid_auto_rows": null,
            "grid_column": null,
            "grid_gap": null,
            "grid_row": null,
            "grid_template_areas": null,
            "grid_template_columns": null,
            "grid_template_rows": null,
            "height": null,
            "justify_content": null,
            "justify_items": null,
            "left": null,
            "margin": null,
            "max_height": null,
            "max_width": null,
            "min_height": null,
            "min_width": null,
            "object_fit": null,
            "object_position": null,
            "order": null,
            "overflow": null,
            "overflow_x": null,
            "overflow_y": null,
            "padding": null,
            "right": null,
            "top": null,
            "visibility": null,
            "width": null
          }
        },
        "0d7f39426dbc407cae1efaebf54c94d8": {
          "model_module": "@jupyter-widgets/controls",
          "model_name": "DescriptionStyleModel",
          "model_module_version": "1.5.0",
          "state": {
            "_model_module": "@jupyter-widgets/controls",
            "_model_module_version": "1.5.0",
            "_model_name": "DescriptionStyleModel",
            "_view_count": null,
            "_view_module": "@jupyter-widgets/base",
            "_view_module_version": "1.2.0",
            "_view_name": "StyleView",
            "description_width": ""
          }
        },
        "e4d01b55022f4e0880e8d36239628fdc": {
          "model_module": "@jupyter-widgets/base",
          "model_name": "LayoutModel",
          "model_module_version": "1.2.0",
          "state": {
            "_model_module": "@jupyter-widgets/base",
            "_model_module_version": "1.2.0",
            "_model_name": "LayoutModel",
            "_view_count": null,
            "_view_module": "@jupyter-widgets/base",
            "_view_module_version": "1.2.0",
            "_view_name": "LayoutView",
            "align_content": null,
            "align_items": null,
            "align_self": null,
            "border": null,
            "bottom": null,
            "display": null,
            "flex": null,
            "flex_flow": null,
            "grid_area": null,
            "grid_auto_columns": null,
            "grid_auto_flow": null,
            "grid_auto_rows": null,
            "grid_column": null,
            "grid_gap": null,
            "grid_row": null,
            "grid_template_areas": null,
            "grid_template_columns": null,
            "grid_template_rows": null,
            "height": null,
            "justify_content": null,
            "justify_items": null,
            "left": null,
            "margin": null,
            "max_height": null,
            "max_width": null,
            "min_height": null,
            "min_width": null,
            "object_fit": null,
            "object_position": null,
            "order": null,
            "overflow": null,
            "overflow_x": null,
            "overflow_y": null,
            "padding": null,
            "right": null,
            "top": null,
            "visibility": null,
            "width": null
          }
        },
        "7cfa4345347e4ceaaf523e3a12638039": {
          "model_module": "@jupyter-widgets/controls",
          "model_name": "ProgressStyleModel",
          "model_module_version": "1.5.0",
          "state": {
            "_model_module": "@jupyter-widgets/controls",
            "_model_module_version": "1.5.0",
            "_model_name": "ProgressStyleModel",
            "_view_count": null,
            "_view_module": "@jupyter-widgets/base",
            "_view_module_version": "1.2.0",
            "_view_name": "StyleView",
            "bar_color": null,
            "description_width": ""
          }
        },
        "2d9041428ea347949ca4c95f0fe7fab2": {
          "model_module": "@jupyter-widgets/base",
          "model_name": "LayoutModel",
          "model_module_version": "1.2.0",
          "state": {
            "_model_module": "@jupyter-widgets/base",
            "_model_module_version": "1.2.0",
            "_model_name": "LayoutModel",
            "_view_count": null,
            "_view_module": "@jupyter-widgets/base",
            "_view_module_version": "1.2.0",
            "_view_name": "LayoutView",
            "align_content": null,
            "align_items": null,
            "align_self": null,
            "border": null,
            "bottom": null,
            "display": null,
            "flex": null,
            "flex_flow": null,
            "grid_area": null,
            "grid_auto_columns": null,
            "grid_auto_flow": null,
            "grid_auto_rows": null,
            "grid_column": null,
            "grid_gap": null,
            "grid_row": null,
            "grid_template_areas": null,
            "grid_template_columns": null,
            "grid_template_rows": null,
            "height": null,
            "justify_content": null,
            "justify_items": null,
            "left": null,
            "margin": null,
            "max_height": null,
            "max_width": null,
            "min_height": null,
            "min_width": null,
            "object_fit": null,
            "object_position": null,
            "order": null,
            "overflow": null,
            "overflow_x": null,
            "overflow_y": null,
            "padding": null,
            "right": null,
            "top": null,
            "visibility": null,
            "width": null
          }
        },
        "2d39bb0b998f4155809bafb8a76e35e2": {
          "model_module": "@jupyter-widgets/controls",
          "model_name": "DescriptionStyleModel",
          "model_module_version": "1.5.0",
          "state": {
            "_model_module": "@jupyter-widgets/controls",
            "_model_module_version": "1.5.0",
            "_model_name": "DescriptionStyleModel",
            "_view_count": null,
            "_view_module": "@jupyter-widgets/base",
            "_view_module_version": "1.2.0",
            "_view_name": "StyleView",
            "description_width": ""
          }
        },
        "7f129cfeef554a69bdefbd94cc9c9057": {
          "model_module": "@jupyter-widgets/controls",
          "model_name": "HBoxModel",
          "model_module_version": "1.5.0",
          "state": {
            "_dom_classes": [],
            "_model_module": "@jupyter-widgets/controls",
            "_model_module_version": "1.5.0",
            "_model_name": "HBoxModel",
            "_view_count": null,
            "_view_module": "@jupyter-widgets/controls",
            "_view_module_version": "1.5.0",
            "_view_name": "HBoxView",
            "box_style": "",
            "children": [
              "IPY_MODEL_48e010acdb664219ad95b6830d27744c",
              "IPY_MODEL_cdb0f6d06f924c42b10b35ecd5e73889",
              "IPY_MODEL_885f31dc78e64a118af81163a914a60a"
            ],
            "layout": "IPY_MODEL_106fd85e295d4929a649be4f10b2a163"
          }
        },
        "48e010acdb664219ad95b6830d27744c": {
          "model_module": "@jupyter-widgets/controls",
          "model_name": "HTMLModel",
          "model_module_version": "1.5.0",
          "state": {
            "_dom_classes": [],
            "_model_module": "@jupyter-widgets/controls",
            "_model_module_version": "1.5.0",
            "_model_name": "HTMLModel",
            "_view_count": null,
            "_view_module": "@jupyter-widgets/controls",
            "_view_module_version": "1.5.0",
            "_view_name": "HTMLView",
            "description": "",
            "description_tooltip": null,
            "layout": "IPY_MODEL_23c54dc72aa0483588525e12b494aaf8",
            "placeholder": "​",
            "style": "IPY_MODEL_5b5f40077a984c92b5d42ffad32020fb",
            "value": "Downloading: 100%"
          }
        },
        "cdb0f6d06f924c42b10b35ecd5e73889": {
          "model_module": "@jupyter-widgets/controls",
          "model_name": "FloatProgressModel",
          "model_module_version": "1.5.0",
          "state": {
            "_dom_classes": [],
            "_model_module": "@jupyter-widgets/controls",
            "_model_module_version": "1.5.0",
            "_model_name": "FloatProgressModel",
            "_view_count": null,
            "_view_module": "@jupyter-widgets/controls",
            "_view_module_version": "1.5.0",
            "_view_name": "ProgressView",
            "bar_style": "success",
            "description": "",
            "description_tooltip": null,
            "layout": "IPY_MODEL_09e0552c02e948a788d580dd6b15b333",
            "max": 29,
            "min": 0,
            "orientation": "horizontal",
            "style": "IPY_MODEL_f8194212f4fd46a28337999aec072ee5",
            "value": 29
          }
        },
        "885f31dc78e64a118af81163a914a60a": {
          "model_module": "@jupyter-widgets/controls",
          "model_name": "HTMLModel",
          "model_module_version": "1.5.0",
          "state": {
            "_dom_classes": [],
            "_model_module": "@jupyter-widgets/controls",
            "_model_module_version": "1.5.0",
            "_model_name": "HTMLModel",
            "_view_count": null,
            "_view_module": "@jupyter-widgets/controls",
            "_view_module_version": "1.5.0",
            "_view_name": "HTMLView",
            "description": "",
            "description_tooltip": null,
            "layout": "IPY_MODEL_1108df7b2b3a44e398bb09903bb8c758",
            "placeholder": "​",
            "style": "IPY_MODEL_dcc24d6d1b444d2a971bfcb88fa82db9",
            "value": " 29.0/29.0 [00:00&lt;00:00, 733B/s]"
          }
        },
        "106fd85e295d4929a649be4f10b2a163": {
          "model_module": "@jupyter-widgets/base",
          "model_name": "LayoutModel",
          "model_module_version": "1.2.0",
          "state": {
            "_model_module": "@jupyter-widgets/base",
            "_model_module_version": "1.2.0",
            "_model_name": "LayoutModel",
            "_view_count": null,
            "_view_module": "@jupyter-widgets/base",
            "_view_module_version": "1.2.0",
            "_view_name": "LayoutView",
            "align_content": null,
            "align_items": null,
            "align_self": null,
            "border": null,
            "bottom": null,
            "display": null,
            "flex": null,
            "flex_flow": null,
            "grid_area": null,
            "grid_auto_columns": null,
            "grid_auto_flow": null,
            "grid_auto_rows": null,
            "grid_column": null,
            "grid_gap": null,
            "grid_row": null,
            "grid_template_areas": null,
            "grid_template_columns": null,
            "grid_template_rows": null,
            "height": null,
            "justify_content": null,
            "justify_items": null,
            "left": null,
            "margin": null,
            "max_height": null,
            "max_width": null,
            "min_height": null,
            "min_width": null,
            "object_fit": null,
            "object_position": null,
            "order": null,
            "overflow": null,
            "overflow_x": null,
            "overflow_y": null,
            "padding": null,
            "right": null,
            "top": null,
            "visibility": null,
            "width": null
          }
        },
        "23c54dc72aa0483588525e12b494aaf8": {
          "model_module": "@jupyter-widgets/base",
          "model_name": "LayoutModel",
          "model_module_version": "1.2.0",
          "state": {
            "_model_module": "@jupyter-widgets/base",
            "_model_module_version": "1.2.0",
            "_model_name": "LayoutModel",
            "_view_count": null,
            "_view_module": "@jupyter-widgets/base",
            "_view_module_version": "1.2.0",
            "_view_name": "LayoutView",
            "align_content": null,
            "align_items": null,
            "align_self": null,
            "border": null,
            "bottom": null,
            "display": null,
            "flex": null,
            "flex_flow": null,
            "grid_area": null,
            "grid_auto_columns": null,
            "grid_auto_flow": null,
            "grid_auto_rows": null,
            "grid_column": null,
            "grid_gap": null,
            "grid_row": null,
            "grid_template_areas": null,
            "grid_template_columns": null,
            "grid_template_rows": null,
            "height": null,
            "justify_content": null,
            "justify_items": null,
            "left": null,
            "margin": null,
            "max_height": null,
            "max_width": null,
            "min_height": null,
            "min_width": null,
            "object_fit": null,
            "object_position": null,
            "order": null,
            "overflow": null,
            "overflow_x": null,
            "overflow_y": null,
            "padding": null,
            "right": null,
            "top": null,
            "visibility": null,
            "width": null
          }
        },
        "5b5f40077a984c92b5d42ffad32020fb": {
          "model_module": "@jupyter-widgets/controls",
          "model_name": "DescriptionStyleModel",
          "model_module_version": "1.5.0",
          "state": {
            "_model_module": "@jupyter-widgets/controls",
            "_model_module_version": "1.5.0",
            "_model_name": "DescriptionStyleModel",
            "_view_count": null,
            "_view_module": "@jupyter-widgets/base",
            "_view_module_version": "1.2.0",
            "_view_name": "StyleView",
            "description_width": ""
          }
        },
        "09e0552c02e948a788d580dd6b15b333": {
          "model_module": "@jupyter-widgets/base",
          "model_name": "LayoutModel",
          "model_module_version": "1.2.0",
          "state": {
            "_model_module": "@jupyter-widgets/base",
            "_model_module_version": "1.2.0",
            "_model_name": "LayoutModel",
            "_view_count": null,
            "_view_module": "@jupyter-widgets/base",
            "_view_module_version": "1.2.0",
            "_view_name": "LayoutView",
            "align_content": null,
            "align_items": null,
            "align_self": null,
            "border": null,
            "bottom": null,
            "display": null,
            "flex": null,
            "flex_flow": null,
            "grid_area": null,
            "grid_auto_columns": null,
            "grid_auto_flow": null,
            "grid_auto_rows": null,
            "grid_column": null,
            "grid_gap": null,
            "grid_row": null,
            "grid_template_areas": null,
            "grid_template_columns": null,
            "grid_template_rows": null,
            "height": null,
            "justify_content": null,
            "justify_items": null,
            "left": null,
            "margin": null,
            "max_height": null,
            "max_width": null,
            "min_height": null,
            "min_width": null,
            "object_fit": null,
            "object_position": null,
            "order": null,
            "overflow": null,
            "overflow_x": null,
            "overflow_y": null,
            "padding": null,
            "right": null,
            "top": null,
            "visibility": null,
            "width": null
          }
        },
        "f8194212f4fd46a28337999aec072ee5": {
          "model_module": "@jupyter-widgets/controls",
          "model_name": "ProgressStyleModel",
          "model_module_version": "1.5.0",
          "state": {
            "_model_module": "@jupyter-widgets/controls",
            "_model_module_version": "1.5.0",
            "_model_name": "ProgressStyleModel",
            "_view_count": null,
            "_view_module": "@jupyter-widgets/base",
            "_view_module_version": "1.2.0",
            "_view_name": "StyleView",
            "bar_color": null,
            "description_width": ""
          }
        },
        "1108df7b2b3a44e398bb09903bb8c758": {
          "model_module": "@jupyter-widgets/base",
          "model_name": "LayoutModel",
          "model_module_version": "1.2.0",
          "state": {
            "_model_module": "@jupyter-widgets/base",
            "_model_module_version": "1.2.0",
            "_model_name": "LayoutModel",
            "_view_count": null,
            "_view_module": "@jupyter-widgets/base",
            "_view_module_version": "1.2.0",
            "_view_name": "LayoutView",
            "align_content": null,
            "align_items": null,
            "align_self": null,
            "border": null,
            "bottom": null,
            "display": null,
            "flex": null,
            "flex_flow": null,
            "grid_area": null,
            "grid_auto_columns": null,
            "grid_auto_flow": null,
            "grid_auto_rows": null,
            "grid_column": null,
            "grid_gap": null,
            "grid_row": null,
            "grid_template_areas": null,
            "grid_template_columns": null,
            "grid_template_rows": null,
            "height": null,
            "justify_content": null,
            "justify_items": null,
            "left": null,
            "margin": null,
            "max_height": null,
            "max_width": null,
            "min_height": null,
            "min_width": null,
            "object_fit": null,
            "object_position": null,
            "order": null,
            "overflow": null,
            "overflow_x": null,
            "overflow_y": null,
            "padding": null,
            "right": null,
            "top": null,
            "visibility": null,
            "width": null
          }
        },
        "dcc24d6d1b444d2a971bfcb88fa82db9": {
          "model_module": "@jupyter-widgets/controls",
          "model_name": "DescriptionStyleModel",
          "model_module_version": "1.5.0",
          "state": {
            "_model_module": "@jupyter-widgets/controls",
            "_model_module_version": "1.5.0",
            "_model_name": "DescriptionStyleModel",
            "_view_count": null,
            "_view_module": "@jupyter-widgets/base",
            "_view_module_version": "1.2.0",
            "_view_name": "StyleView",
            "description_width": ""
          }
        },
        "584dbe8a81d0417794a1a5ad8706d0d3": {
          "model_module": "@jupyter-widgets/controls",
          "model_name": "HBoxModel",
          "model_module_version": "1.5.0",
          "state": {
            "_dom_classes": [],
            "_model_module": "@jupyter-widgets/controls",
            "_model_module_version": "1.5.0",
            "_model_name": "HBoxModel",
            "_view_count": null,
            "_view_module": "@jupyter-widgets/controls",
            "_view_module_version": "1.5.0",
            "_view_name": "HBoxView",
            "box_style": "",
            "children": [
              "IPY_MODEL_958362bb88af44a1bf4b23995188abc5",
              "IPY_MODEL_ab06ba5768f840d493ef3bfb7fa46a68",
              "IPY_MODEL_5fd8c3d0eec946989b01d7bc145534f5"
            ],
            "layout": "IPY_MODEL_90a0e7dc49164f67a20ede96f6297e4f"
          }
        },
        "958362bb88af44a1bf4b23995188abc5": {
          "model_module": "@jupyter-widgets/controls",
          "model_name": "HTMLModel",
          "model_module_version": "1.5.0",
          "state": {
            "_dom_classes": [],
            "_model_module": "@jupyter-widgets/controls",
            "_model_module_version": "1.5.0",
            "_model_name": "HTMLModel",
            "_view_count": null,
            "_view_module": "@jupyter-widgets/controls",
            "_view_module_version": "1.5.0",
            "_view_name": "HTMLView",
            "description": "",
            "description_tooltip": null,
            "layout": "IPY_MODEL_4d2a9f2446e54159850ed303469e8926",
            "placeholder": "​",
            "style": "IPY_MODEL_67837da1230443a3a4a1a264cd78d01c",
            "value": "Downloading: 100%"
          }
        },
        "ab06ba5768f840d493ef3bfb7fa46a68": {
          "model_module": "@jupyter-widgets/controls",
          "model_name": "FloatProgressModel",
          "model_module_version": "1.5.0",
          "state": {
            "_dom_classes": [],
            "_model_module": "@jupyter-widgets/controls",
            "_model_module_version": "1.5.0",
            "_model_name": "FloatProgressModel",
            "_view_count": null,
            "_view_module": "@jupyter-widgets/controls",
            "_view_module_version": "1.5.0",
            "_view_name": "ProgressView",
            "bar_style": "success",
            "description": "",
            "description_tooltip": null,
            "layout": "IPY_MODEL_1d9ea31d134a44b490675f200c54e464",
            "max": 624,
            "min": 0,
            "orientation": "horizontal",
            "style": "IPY_MODEL_0478f73a9a494d9aa84cdf8d8027f1ce",
            "value": 624
          }
        },
        "5fd8c3d0eec946989b01d7bc145534f5": {
          "model_module": "@jupyter-widgets/controls",
          "model_name": "HTMLModel",
          "model_module_version": "1.5.0",
          "state": {
            "_dom_classes": [],
            "_model_module": "@jupyter-widgets/controls",
            "_model_module_version": "1.5.0",
            "_model_name": "HTMLModel",
            "_view_count": null,
            "_view_module": "@jupyter-widgets/controls",
            "_view_module_version": "1.5.0",
            "_view_name": "HTMLView",
            "description": "",
            "description_tooltip": null,
            "layout": "IPY_MODEL_0a2d15a358844788af2bd22f66498851",
            "placeholder": "​",
            "style": "IPY_MODEL_dd965b285c4141fd917d1ef24febc784",
            "value": " 624/624 [00:00&lt;00:00, 13.4kB/s]"
          }
        },
        "90a0e7dc49164f67a20ede96f6297e4f": {
          "model_module": "@jupyter-widgets/base",
          "model_name": "LayoutModel",
          "model_module_version": "1.2.0",
          "state": {
            "_model_module": "@jupyter-widgets/base",
            "_model_module_version": "1.2.0",
            "_model_name": "LayoutModel",
            "_view_count": null,
            "_view_module": "@jupyter-widgets/base",
            "_view_module_version": "1.2.0",
            "_view_name": "LayoutView",
            "align_content": null,
            "align_items": null,
            "align_self": null,
            "border": null,
            "bottom": null,
            "display": null,
            "flex": null,
            "flex_flow": null,
            "grid_area": null,
            "grid_auto_columns": null,
            "grid_auto_flow": null,
            "grid_auto_rows": null,
            "grid_column": null,
            "grid_gap": null,
            "grid_row": null,
            "grid_template_areas": null,
            "grid_template_columns": null,
            "grid_template_rows": null,
            "height": null,
            "justify_content": null,
            "justify_items": null,
            "left": null,
            "margin": null,
            "max_height": null,
            "max_width": null,
            "min_height": null,
            "min_width": null,
            "object_fit": null,
            "object_position": null,
            "order": null,
            "overflow": null,
            "overflow_x": null,
            "overflow_y": null,
            "padding": null,
            "right": null,
            "top": null,
            "visibility": null,
            "width": null
          }
        },
        "4d2a9f2446e54159850ed303469e8926": {
          "model_module": "@jupyter-widgets/base",
          "model_name": "LayoutModel",
          "model_module_version": "1.2.0",
          "state": {
            "_model_module": "@jupyter-widgets/base",
            "_model_module_version": "1.2.0",
            "_model_name": "LayoutModel",
            "_view_count": null,
            "_view_module": "@jupyter-widgets/base",
            "_view_module_version": "1.2.0",
            "_view_name": "LayoutView",
            "align_content": null,
            "align_items": null,
            "align_self": null,
            "border": null,
            "bottom": null,
            "display": null,
            "flex": null,
            "flex_flow": null,
            "grid_area": null,
            "grid_auto_columns": null,
            "grid_auto_flow": null,
            "grid_auto_rows": null,
            "grid_column": null,
            "grid_gap": null,
            "grid_row": null,
            "grid_template_areas": null,
            "grid_template_columns": null,
            "grid_template_rows": null,
            "height": null,
            "justify_content": null,
            "justify_items": null,
            "left": null,
            "margin": null,
            "max_height": null,
            "max_width": null,
            "min_height": null,
            "min_width": null,
            "object_fit": null,
            "object_position": null,
            "order": null,
            "overflow": null,
            "overflow_x": null,
            "overflow_y": null,
            "padding": null,
            "right": null,
            "top": null,
            "visibility": null,
            "width": null
          }
        },
        "67837da1230443a3a4a1a264cd78d01c": {
          "model_module": "@jupyter-widgets/controls",
          "model_name": "DescriptionStyleModel",
          "model_module_version": "1.5.0",
          "state": {
            "_model_module": "@jupyter-widgets/controls",
            "_model_module_version": "1.5.0",
            "_model_name": "DescriptionStyleModel",
            "_view_count": null,
            "_view_module": "@jupyter-widgets/base",
            "_view_module_version": "1.2.0",
            "_view_name": "StyleView",
            "description_width": ""
          }
        },
        "1d9ea31d134a44b490675f200c54e464": {
          "model_module": "@jupyter-widgets/base",
          "model_name": "LayoutModel",
          "model_module_version": "1.2.0",
          "state": {
            "_model_module": "@jupyter-widgets/base",
            "_model_module_version": "1.2.0",
            "_model_name": "LayoutModel",
            "_view_count": null,
            "_view_module": "@jupyter-widgets/base",
            "_view_module_version": "1.2.0",
            "_view_name": "LayoutView",
            "align_content": null,
            "align_items": null,
            "align_self": null,
            "border": null,
            "bottom": null,
            "display": null,
            "flex": null,
            "flex_flow": null,
            "grid_area": null,
            "grid_auto_columns": null,
            "grid_auto_flow": null,
            "grid_auto_rows": null,
            "grid_column": null,
            "grid_gap": null,
            "grid_row": null,
            "grid_template_areas": null,
            "grid_template_columns": null,
            "grid_template_rows": null,
            "height": null,
            "justify_content": null,
            "justify_items": null,
            "left": null,
            "margin": null,
            "max_height": null,
            "max_width": null,
            "min_height": null,
            "min_width": null,
            "object_fit": null,
            "object_position": null,
            "order": null,
            "overflow": null,
            "overflow_x": null,
            "overflow_y": null,
            "padding": null,
            "right": null,
            "top": null,
            "visibility": null,
            "width": null
          }
        },
        "0478f73a9a494d9aa84cdf8d8027f1ce": {
          "model_module": "@jupyter-widgets/controls",
          "model_name": "ProgressStyleModel",
          "model_module_version": "1.5.0",
          "state": {
            "_model_module": "@jupyter-widgets/controls",
            "_model_module_version": "1.5.0",
            "_model_name": "ProgressStyleModel",
            "_view_count": null,
            "_view_module": "@jupyter-widgets/base",
            "_view_module_version": "1.2.0",
            "_view_name": "StyleView",
            "bar_color": null,
            "description_width": ""
          }
        },
        "0a2d15a358844788af2bd22f66498851": {
          "model_module": "@jupyter-widgets/base",
          "model_name": "LayoutModel",
          "model_module_version": "1.2.0",
          "state": {
            "_model_module": "@jupyter-widgets/base",
            "_model_module_version": "1.2.0",
            "_model_name": "LayoutModel",
            "_view_count": null,
            "_view_module": "@jupyter-widgets/base",
            "_view_module_version": "1.2.0",
            "_view_name": "LayoutView",
            "align_content": null,
            "align_items": null,
            "align_self": null,
            "border": null,
            "bottom": null,
            "display": null,
            "flex": null,
            "flex_flow": null,
            "grid_area": null,
            "grid_auto_columns": null,
            "grid_auto_flow": null,
            "grid_auto_rows": null,
            "grid_column": null,
            "grid_gap": null,
            "grid_row": null,
            "grid_template_areas": null,
            "grid_template_columns": null,
            "grid_template_rows": null,
            "height": null,
            "justify_content": null,
            "justify_items": null,
            "left": null,
            "margin": null,
            "max_height": null,
            "max_width": null,
            "min_height": null,
            "min_width": null,
            "object_fit": null,
            "object_position": null,
            "order": null,
            "overflow": null,
            "overflow_x": null,
            "overflow_y": null,
            "padding": null,
            "right": null,
            "top": null,
            "visibility": null,
            "width": null
          }
        },
        "dd965b285c4141fd917d1ef24febc784": {
          "model_module": "@jupyter-widgets/controls",
          "model_name": "DescriptionStyleModel",
          "model_module_version": "1.5.0",
          "state": {
            "_model_module": "@jupyter-widgets/controls",
            "_model_module_version": "1.5.0",
            "_model_name": "DescriptionStyleModel",
            "_view_count": null,
            "_view_module": "@jupyter-widgets/base",
            "_view_module_version": "1.2.0",
            "_view_name": "StyleView",
            "description_width": ""
          }
        },
        "f522b7602a1d4f3a9cf7465c70b5778c": {
          "model_module": "@jupyter-widgets/controls",
          "model_name": "HBoxModel",
          "model_module_version": "1.5.0",
          "state": {
            "_dom_classes": [],
            "_model_module": "@jupyter-widgets/controls",
            "_model_module_version": "1.5.0",
            "_model_name": "HBoxModel",
            "_view_count": null,
            "_view_module": "@jupyter-widgets/controls",
            "_view_module_version": "1.5.0",
            "_view_name": "HBoxView",
            "box_style": "",
            "children": [
              "IPY_MODEL_2ca9d4e526b84c4ea521e091cfbad0e8",
              "IPY_MODEL_16c214cfae6f48819cf909ae17eef5ec",
              "IPY_MODEL_442d259f168e432cadc01d30d75ae194"
            ],
            "layout": "IPY_MODEL_684b5357e85948a5980e30f5974f9d91"
          }
        },
        "2ca9d4e526b84c4ea521e091cfbad0e8": {
          "model_module": "@jupyter-widgets/controls",
          "model_name": "HTMLModel",
          "model_module_version": "1.5.0",
          "state": {
            "_dom_classes": [],
            "_model_module": "@jupyter-widgets/controls",
            "_model_module_version": "1.5.0",
            "_model_name": "HTMLModel",
            "_view_count": null,
            "_view_module": "@jupyter-widgets/controls",
            "_view_module_version": "1.5.0",
            "_view_name": "HTMLView",
            "description": "",
            "description_tooltip": null,
            "layout": "IPY_MODEL_3908d7a1859c40fd86acb4bdb28e1a12",
            "placeholder": "​",
            "style": "IPY_MODEL_a737164df4f1440cbe566e301bc3c0f4",
            "value": "Downloading: 100%"
          }
        },
        "16c214cfae6f48819cf909ae17eef5ec": {
          "model_module": "@jupyter-widgets/controls",
          "model_name": "FloatProgressModel",
          "model_module_version": "1.5.0",
          "state": {
            "_dom_classes": [],
            "_model_module": "@jupyter-widgets/controls",
            "_model_module_version": "1.5.0",
            "_model_name": "FloatProgressModel",
            "_view_count": null,
            "_view_module": "@jupyter-widgets/controls",
            "_view_module_version": "1.5.0",
            "_view_name": "ProgressView",
            "bar_style": "success",
            "description": "",
            "description_tooltip": null,
            "layout": "IPY_MODEL_3f1571b7d39042e4a6965b14a76fffc1",
            "max": 411577189,
            "min": 0,
            "orientation": "horizontal",
            "style": "IPY_MODEL_2b8482adf6cc42d7a6cd2c8ee25e9bdd",
            "value": 411577189
          }
        },
        "442d259f168e432cadc01d30d75ae194": {
          "model_module": "@jupyter-widgets/controls",
          "model_name": "HTMLModel",
          "model_module_version": "1.5.0",
          "state": {
            "_dom_classes": [],
            "_model_module": "@jupyter-widgets/controls",
            "_model_module_version": "1.5.0",
            "_model_name": "HTMLModel",
            "_view_count": null,
            "_view_module": "@jupyter-widgets/controls",
            "_view_module_version": "1.5.0",
            "_view_name": "HTMLView",
            "description": "",
            "description_tooltip": null,
            "layout": "IPY_MODEL_8f3343dd25c9493989f12ac7883ed2d9",
            "placeholder": "​",
            "style": "IPY_MODEL_64249a28d9db41f28e96232bbe0ed4f3",
            "value": " 393M/393M [00:17&lt;00:00, 40.4MB/s]"
          }
        },
        "684b5357e85948a5980e30f5974f9d91": {
          "model_module": "@jupyter-widgets/base",
          "model_name": "LayoutModel",
          "model_module_version": "1.2.0",
          "state": {
            "_model_module": "@jupyter-widgets/base",
            "_model_module_version": "1.2.0",
            "_model_name": "LayoutModel",
            "_view_count": null,
            "_view_module": "@jupyter-widgets/base",
            "_view_module_version": "1.2.0",
            "_view_name": "LayoutView",
            "align_content": null,
            "align_items": null,
            "align_self": null,
            "border": null,
            "bottom": null,
            "display": null,
            "flex": null,
            "flex_flow": null,
            "grid_area": null,
            "grid_auto_columns": null,
            "grid_auto_flow": null,
            "grid_auto_rows": null,
            "grid_column": null,
            "grid_gap": null,
            "grid_row": null,
            "grid_template_areas": null,
            "grid_template_columns": null,
            "grid_template_rows": null,
            "height": null,
            "justify_content": null,
            "justify_items": null,
            "left": null,
            "margin": null,
            "max_height": null,
            "max_width": null,
            "min_height": null,
            "min_width": null,
            "object_fit": null,
            "object_position": null,
            "order": null,
            "overflow": null,
            "overflow_x": null,
            "overflow_y": null,
            "padding": null,
            "right": null,
            "top": null,
            "visibility": null,
            "width": null
          }
        },
        "3908d7a1859c40fd86acb4bdb28e1a12": {
          "model_module": "@jupyter-widgets/base",
          "model_name": "LayoutModel",
          "model_module_version": "1.2.0",
          "state": {
            "_model_module": "@jupyter-widgets/base",
            "_model_module_version": "1.2.0",
            "_model_name": "LayoutModel",
            "_view_count": null,
            "_view_module": "@jupyter-widgets/base",
            "_view_module_version": "1.2.0",
            "_view_name": "LayoutView",
            "align_content": null,
            "align_items": null,
            "align_self": null,
            "border": null,
            "bottom": null,
            "display": null,
            "flex": null,
            "flex_flow": null,
            "grid_area": null,
            "grid_auto_columns": null,
            "grid_auto_flow": null,
            "grid_auto_rows": null,
            "grid_column": null,
            "grid_gap": null,
            "grid_row": null,
            "grid_template_areas": null,
            "grid_template_columns": null,
            "grid_template_rows": null,
            "height": null,
            "justify_content": null,
            "justify_items": null,
            "left": null,
            "margin": null,
            "max_height": null,
            "max_width": null,
            "min_height": null,
            "min_width": null,
            "object_fit": null,
            "object_position": null,
            "order": null,
            "overflow": null,
            "overflow_x": null,
            "overflow_y": null,
            "padding": null,
            "right": null,
            "top": null,
            "visibility": null,
            "width": null
          }
        },
        "a737164df4f1440cbe566e301bc3c0f4": {
          "model_module": "@jupyter-widgets/controls",
          "model_name": "DescriptionStyleModel",
          "model_module_version": "1.5.0",
          "state": {
            "_model_module": "@jupyter-widgets/controls",
            "_model_module_version": "1.5.0",
            "_model_name": "DescriptionStyleModel",
            "_view_count": null,
            "_view_module": "@jupyter-widgets/base",
            "_view_module_version": "1.2.0",
            "_view_name": "StyleView",
            "description_width": ""
          }
        },
        "3f1571b7d39042e4a6965b14a76fffc1": {
          "model_module": "@jupyter-widgets/base",
          "model_name": "LayoutModel",
          "model_module_version": "1.2.0",
          "state": {
            "_model_module": "@jupyter-widgets/base",
            "_model_module_version": "1.2.0",
            "_model_name": "LayoutModel",
            "_view_count": null,
            "_view_module": "@jupyter-widgets/base",
            "_view_module_version": "1.2.0",
            "_view_name": "LayoutView",
            "align_content": null,
            "align_items": null,
            "align_self": null,
            "border": null,
            "bottom": null,
            "display": null,
            "flex": null,
            "flex_flow": null,
            "grid_area": null,
            "grid_auto_columns": null,
            "grid_auto_flow": null,
            "grid_auto_rows": null,
            "grid_column": null,
            "grid_gap": null,
            "grid_row": null,
            "grid_template_areas": null,
            "grid_template_columns": null,
            "grid_template_rows": null,
            "height": null,
            "justify_content": null,
            "justify_items": null,
            "left": null,
            "margin": null,
            "max_height": null,
            "max_width": null,
            "min_height": null,
            "min_width": null,
            "object_fit": null,
            "object_position": null,
            "order": null,
            "overflow": null,
            "overflow_x": null,
            "overflow_y": null,
            "padding": null,
            "right": null,
            "top": null,
            "visibility": null,
            "width": null
          }
        },
        "2b8482adf6cc42d7a6cd2c8ee25e9bdd": {
          "model_module": "@jupyter-widgets/controls",
          "model_name": "ProgressStyleModel",
          "model_module_version": "1.5.0",
          "state": {
            "_model_module": "@jupyter-widgets/controls",
            "_model_module_version": "1.5.0",
            "_model_name": "ProgressStyleModel",
            "_view_count": null,
            "_view_module": "@jupyter-widgets/base",
            "_view_module_version": "1.2.0",
            "_view_name": "StyleView",
            "bar_color": null,
            "description_width": ""
          }
        },
        "8f3343dd25c9493989f12ac7883ed2d9": {
          "model_module": "@jupyter-widgets/base",
          "model_name": "LayoutModel",
          "model_module_version": "1.2.0",
          "state": {
            "_model_module": "@jupyter-widgets/base",
            "_model_module_version": "1.2.0",
            "_model_name": "LayoutModel",
            "_view_count": null,
            "_view_module": "@jupyter-widgets/base",
            "_view_module_version": "1.2.0",
            "_view_name": "LayoutView",
            "align_content": null,
            "align_items": null,
            "align_self": null,
            "border": null,
            "bottom": null,
            "display": null,
            "flex": null,
            "flex_flow": null,
            "grid_area": null,
            "grid_auto_columns": null,
            "grid_auto_flow": null,
            "grid_auto_rows": null,
            "grid_column": null,
            "grid_gap": null,
            "grid_row": null,
            "grid_template_areas": null,
            "grid_template_columns": null,
            "grid_template_rows": null,
            "height": null,
            "justify_content": null,
            "justify_items": null,
            "left": null,
            "margin": null,
            "max_height": null,
            "max_width": null,
            "min_height": null,
            "min_width": null,
            "object_fit": null,
            "object_position": null,
            "order": null,
            "overflow": null,
            "overflow_x": null,
            "overflow_y": null,
            "padding": null,
            "right": null,
            "top": null,
            "visibility": null,
            "width": null
          }
        },
        "64249a28d9db41f28e96232bbe0ed4f3": {
          "model_module": "@jupyter-widgets/controls",
          "model_name": "DescriptionStyleModel",
          "model_module_version": "1.5.0",
          "state": {
            "_model_module": "@jupyter-widgets/controls",
            "_model_module_version": "1.5.0",
            "_model_name": "DescriptionStyleModel",
            "_view_count": null,
            "_view_module": "@jupyter-widgets/base",
            "_view_module_version": "1.2.0",
            "_view_name": "StyleView",
            "description_width": ""
          }
        }
      }
    }
  },
  "cells": [
    {
      "cell_type": "markdown",
      "metadata": {
        "id": "view-in-github",
        "colab_type": "text"
      },
      "source": [
        "<a href=\"https://colab.research.google.com/github/sworddish/bootleg/blob/yx-dev/notebooks/Named_Entity_Recognition_Mandarin_Weibo.ipynb\" target=\"_parent\"><img src=\"https://colab.research.google.com/assets/colab-badge.svg\" alt=\"Open In Colab\"/></a>"
      ]
    },
    {
      "cell_type": "markdown",
      "metadata": {
        "id": "WIsYTir1LdWd"
      },
      "source": [
        "# Named Entity Recognition in Mandarin on a Weibo Social Media Dataset\n",
        "\n",
        "---\n",
        "\n",
        "[Github](https://github.com/eugenesiow/practical-ml/blob/master/notebooks/Named_Entity_Recognition_Mandarin_Weibo.ipynb) | More Notebooks @ [eugenesiow/practical-ml](https://github.com/eugenesiow/practical-ml)\n",
        "\n",
        "---"
      ]
    },
    {
      "cell_type": "markdown",
      "metadata": {
        "id": "2wEHlNdHL8Nv"
      },
      "source": [
        "Notebook to train a [flair](https://github.com/flairNLP/flair) model in mandarin using stacked embeddings (with word and BERT embeddings) to perform named entity recognition (NER). \n",
        "\n",
        "The [dataset](https://github.com/hltcoe/golden-horse) used contains 1,890 Sina Weibo messages annotated with four entity types (person, organization, location and geo-political entity), including named and nominal mentions from the paper [Peng et al. (2015)](https://www.aclweb.org/anthology/D15-1064/) and with revised annotated data from [He et al. (2016)](https://arxiv.org/abs/1611.04234).\n",
        "\n",
        "The current state-of-the-art model on this dataset is from [Peng et al. (2016)](https://www.aclweb.org/anthology/P16-2025/) with an average F1-score of **47.0%** (Table 1) and from [Peng et al. (2015)](https://www.aclweb.org/anthology/D15-1064.pdf) with an F1-score of **44.1%** (Table 2). The authors say that the poor results on the test set show the \"difficulty of this task\" - which is true a sense because the dataset is really quite small for the NER task with 4 classes (x2 as they differentiate nominal and named entities) with a test set of only 270 sentences.\n",
        "\n",
        "Our flair model is able to improve the state-of-the-art with an F1-score of **67.5%**, which is a cool 20+ absolute percentage points better than the current state-of-the-art performance.\n",
        "\n",
        "The notebook is structured as follows:\n",
        "* Setting up the GPU Environment\n",
        "* Getting Data\n",
        "* Training and Testing the Model\n",
        "* Using the Model (Running Inference)"
      ]
    },
    {
      "cell_type": "markdown",
      "metadata": {
        "id": "9YbAAbVsOLyp"
      },
      "source": [
        "## Task Description\n",
        "\n",
        "> Named entity recognition (NER) is the task of tagging entities in text with their corresponding type. Approaches typically use BIO notation, which differentiates the beginning (B) and the inside (I) of entities. O is used for non-entity tokens."
      ]
    },
    {
      "cell_type": "markdown",
      "metadata": {
        "id": "ibsCfqKxPwZl"
      },
      "source": [
        "# Setting up the GPU Environment"
      ]
    },
    {
      "cell_type": "markdown",
      "metadata": {
        "id": "9EniXBtDPyEZ"
      },
      "source": [
        "#### Ensure we have a GPU runtime\n",
        "\n",
        "If you're running this notebook in Google Colab, select `Runtime` > `Change Runtime Type` from the menubar. Ensure that `GPU` is selected as the `Hardware accelerator`. This will allow us to use the GPU to train the model subsequently."
      ]
    },
    {
      "cell_type": "markdown",
      "metadata": {
        "id": "qYu2HDP_P0e5"
      },
      "source": [
        "#### Install Dependencies"
      ]
    },
    {
      "cell_type": "code",
      "metadata": {
        "colab": {
          "base_uri": "https://localhost:8080/"
        },
        "id": "G5pgQDNVB20K",
        "outputId": "aa5ed5b9-80a1-4f8d-e857-7e0dcf7d3124"
      },
      "source": [
        "!pip install -q folium==0.2.1 flair==0.11"
      ],
      "execution_count": 7,
      "outputs": [
        {
          "output_type": "stream",
          "name": "stdout",
          "text": [
            "\u001b[?25l\r\u001b[K     |████▊                           | 10 kB 25.0 MB/s eta 0:00:01\r\u001b[K     |█████████▍                      | 20 kB 12.2 MB/s eta 0:00:01\r\u001b[K     |██████████████                  | 30 kB 9.6 MB/s eta 0:00:01\r\u001b[K     |██████████████████▊             | 40 kB 8.7 MB/s eta 0:00:01\r\u001b[K     |███████████████████████▍        | 51 kB 4.6 MB/s eta 0:00:01\r\u001b[K     |████████████████████████████    | 61 kB 5.4 MB/s eta 0:00:01\r\u001b[K     |████████████████████████████████| 69 kB 3.6 MB/s \n",
            "\u001b[?25h  Building wheel for folium (setup.py) ... \u001b[?25l\u001b[?25hdone\n"
          ]
        }
      ]
    },
    {
      "cell_type": "markdown",
      "metadata": {
        "id": "tI558IY2P94A"
      },
      "source": [
        "# Getting Data"
      ]
    },
    {
      "cell_type": "markdown",
      "metadata": {
        "id": "UOMnhOfYP_lw"
      },
      "source": [
        "The dataset, including the train, test and dev sets, has just been included in the `0.7 release` of flair, hence, we just use the `flair.datasets` loader to load the `WEIBO_NER` dataset into the flair `Corpus`. The [raw datasets](https://github.com/87302380/WEIBO_NER) are also available on Github."
      ]
    },
    {
      "cell_type": "code",
      "metadata": {
        "colab": {
          "base_uri": "https://localhost:8080/"
        },
        "id": "JRMA0FcZLuEF",
        "outputId": "0eb577b8-229e-4fa7-9f15-f03dadb6058c"
      },
      "source": [
        "import flair.datasets\n",
        "from flair.data import Corpus\n",
        "corpus = flair.datasets.NER_CHINESE_WEIBO()\n",
        "print(corpus)"
      ],
      "execution_count": 9,
      "outputs": [
        {
          "output_type": "stream",
          "name": "stdout",
          "text": [
            "2022-05-12 04:16:16,862 https://raw.githubusercontent.com/87302380/WEIBO_NER/main/data/weiboNER_2nd_conll_format.train not found in cache, downloading to /tmp/tmpgklsvjzd\n"
          ]
        },
        {
          "output_type": "stream",
          "name": "stderr",
          "text": [
            "462545B [00:00, 12041949.15B/s]          "
          ]
        },
        {
          "output_type": "stream",
          "name": "stdout",
          "text": [
            "2022-05-12 04:16:17,014 copying /tmp/tmpgklsvjzd to cache at /root/.flair/datasets/ner_chinese_weibo/weiboNER_2nd_conll_format.train\n",
            "2022-05-12 04:16:17,024 removing temp file /tmp/tmpgklsvjzd\n"
          ]
        },
        {
          "output_type": "stream",
          "name": "stderr",
          "text": [
            "\n"
          ]
        },
        {
          "output_type": "stream",
          "name": "stdout",
          "text": [
            "2022-05-12 04:16:17,240 https://raw.githubusercontent.com/87302380/WEIBO_NER/main/data/weiboNER_2nd_conll_format.test not found in cache, downloading to /tmp/tmpcu6evg11\n"
          ]
        },
        {
          "output_type": "stream",
          "name": "stderr",
          "text": [
            "94016B [00:00, 12273388.06B/s]          "
          ]
        },
        {
          "output_type": "stream",
          "name": "stdout",
          "text": [
            "2022-05-12 04:16:17,323 copying /tmp/tmpcu6evg11 to cache at /root/.flair/datasets/ner_chinese_weibo/weiboNER_2nd_conll_format.test\n",
            "2022-05-12 04:16:17,328 removing temp file /tmp/tmpcu6evg11\n",
            "2022-05-12 04:16:17,486 https://raw.githubusercontent.com/87302380/WEIBO_NER/main/data/weiboNER_2nd_conll_format.dev not found in cache, downloading to /tmp/tmpjd8fm87d\n"
          ]
        },
        {
          "output_type": "stream",
          "name": "stderr",
          "text": [
            "\n",
            "91510B [00:00, 13857345.62B/s]          "
          ]
        },
        {
          "output_type": "stream",
          "name": "stdout",
          "text": [
            "2022-05-12 04:16:17,545 copying /tmp/tmpjd8fm87d to cache at /root/.flair/datasets/ner_chinese_weibo/weiboNER_2nd_conll_format.dev\n",
            "2022-05-12 04:16:17,549 removing temp file /tmp/tmpjd8fm87d\n",
            "2022-05-12 04:16:17,552 Reading data from /root/.flair/datasets/ner_chinese_weibo\n",
            "2022-05-12 04:16:17,554 Train: /root/.flair/datasets/ner_chinese_weibo/weiboNER_2nd_conll_format.train\n",
            "2022-05-12 04:16:17,556 Dev: /root/.flair/datasets/ner_chinese_weibo/weiboNER_2nd_conll_format.dev\n",
            "2022-05-12 04:16:17,558 Test: /root/.flair/datasets/ner_chinese_weibo/weiboNER_2nd_conll_format.test\n"
          ]
        },
        {
          "output_type": "stream",
          "name": "stderr",
          "text": [
            "\n"
          ]
        },
        {
          "output_type": "stream",
          "name": "stdout",
          "text": [
            "Corpus: 1350 train + 270 dev + 270 test sentences\n"
          ]
        }
      ]
    },
    {
      "cell_type": "markdown",
      "metadata": {
        "id": "AY12224EPHqu"
      },
      "source": [
        "We can see that the total 1,890 sentences have already been split into train (1,350), dev (270) and test (270) sets in a 5:1:1 ratio."
      ]
    },
    {
      "cell_type": "markdown",
      "metadata": {
        "id": "4ltHe5_vR1mw"
      },
      "source": [
        "# Training and Testing the Model"
      ]
    },
    {
      "cell_type": "markdown",
      "metadata": {
        "id": "4H4kP93rR8vA"
      },
      "source": [
        "#### Train the Model\n",
        "\n",
        "To train the flair `SequenceTagger`, we use the `ModelTrainer` object with the corpus and the tagger to be trained. We use flair's sensible default options in the `.train()` method, while specifying the output folder for the `SequenceTagger` model to be `/content/model/`. We also set the `embeddings_storage_mode` to be `gpu` to utilise the GPU to store the embeddings for more speed. Note that if you run this with a larger dataset you might run out of GPU memory, so be sure to set this option to `cpu` - it will still use the GPU to train but the embeddings will not be stored in the CPU and there will be a transfer to the GPU each epoch.\n",
        "\n",
        "Be prepared to allow the training to run for about 0.5 to 1 hour. We set the `max_epochs` to 50 so the the training will complete faster, for higher F1-score you can increase this number to 100 or 150."
      ]
    },
    {
      "cell_type": "code",
      "metadata": {
        "colab": {
          "base_uri": "https://localhost:8080/",
          "height": 1000,
          "referenced_widgets": [
            "1ea66ecd53da49ef8a9ba2f795cefee4",
            "1e95b1f37de546a99bdeea22cc031505",
            "8b2fcc41ffa04c45b172246016286646",
            "d0407a48239b41148966a4b5e7dc7def",
            "808c122556084ce78e5bf3928395df40",
            "e9fc66967a4342008bdd3990252b6f00",
            "0d7f39426dbc407cae1efaebf54c94d8",
            "e4d01b55022f4e0880e8d36239628fdc",
            "7cfa4345347e4ceaaf523e3a12638039",
            "2d9041428ea347949ca4c95f0fe7fab2",
            "2d39bb0b998f4155809bafb8a76e35e2",
            "7f129cfeef554a69bdefbd94cc9c9057",
            "48e010acdb664219ad95b6830d27744c",
            "cdb0f6d06f924c42b10b35ecd5e73889",
            "885f31dc78e64a118af81163a914a60a",
            "106fd85e295d4929a649be4f10b2a163",
            "23c54dc72aa0483588525e12b494aaf8",
            "5b5f40077a984c92b5d42ffad32020fb",
            "09e0552c02e948a788d580dd6b15b333",
            "f8194212f4fd46a28337999aec072ee5",
            "1108df7b2b3a44e398bb09903bb8c758",
            "dcc24d6d1b444d2a971bfcb88fa82db9",
            "584dbe8a81d0417794a1a5ad8706d0d3",
            "958362bb88af44a1bf4b23995188abc5",
            "ab06ba5768f840d493ef3bfb7fa46a68",
            "5fd8c3d0eec946989b01d7bc145534f5",
            "90a0e7dc49164f67a20ede96f6297e4f",
            "4d2a9f2446e54159850ed303469e8926",
            "67837da1230443a3a4a1a264cd78d01c",
            "1d9ea31d134a44b490675f200c54e464",
            "0478f73a9a494d9aa84cdf8d8027f1ce",
            "0a2d15a358844788af2bd22f66498851",
            "dd965b285c4141fd917d1ef24febc784",
            "f522b7602a1d4f3a9cf7465c70b5778c",
            "2ca9d4e526b84c4ea521e091cfbad0e8",
            "16c214cfae6f48819cf909ae17eef5ec",
            "442d259f168e432cadc01d30d75ae194",
            "684b5357e85948a5980e30f5974f9d91",
            "3908d7a1859c40fd86acb4bdb28e1a12",
            "a737164df4f1440cbe566e301bc3c0f4",
            "3f1571b7d39042e4a6965b14a76fffc1",
            "2b8482adf6cc42d7a6cd2c8ee25e9bdd",
            "8f3343dd25c9493989f12ac7883ed2d9",
            "64249a28d9db41f28e96232bbe0ed4f3"
          ]
        },
        "id": "U-cFJ-7iR8mu",
        "outputId": "ae79e718-14e2-4941-ee18-7e2a5696647d"
      },
      "source": [
        "import flair\n",
        "from typing import List\n",
        "from flair.trainers import ModelTrainer\n",
        "from flair.models import SequenceTagger\n",
        "from flair.embeddings import TokenEmbeddings, WordEmbeddings, StackedEmbeddings, BertEmbeddings, BytePairEmbeddings\n",
        "\n",
        "tag_type = 'ner'\n",
        "tag_dictionary = corpus.make_label_dictionary('ner')\n",
        "\n",
        "# For an even faster training time, you can comment out the BytePairEmbeddings\n",
        "# Note: there will be a small drop in performance if you do so.\n",
        "embedding_types: List[TokenEmbeddings] = [\n",
        "    WordEmbeddings('zh-crawl'),\n",
        "    BytePairEmbeddings('zh'),\n",
        "    BertEmbeddings('bert-base-chinese'),\n",
        "]\n",
        "\n",
        "embeddings: StackedEmbeddings = StackedEmbeddings(embeddings=embedding_types)\n",
        "\n",
        "tagger: SequenceTagger = SequenceTagger(hidden_size=256,\n",
        "                                        embeddings=embeddings,\n",
        "                                        tag_dictionary=tag_dictionary,\n",
        "                                        tag_type=tag_type,\n",
        "                                        use_crf=True)\n",
        "\n",
        "trainer: ModelTrainer = ModelTrainer(tagger, corpus)\n",
        "\n",
        "trainer.train('/content/model/',\n",
        "              learning_rate=0.1,\n",
        "              mini_batch_size=32,\n",
        "              max_epochs=50,\n",
        "              embeddings_storage_mode='gpu')"
      ],
      "execution_count": 11,
      "outputs": [
        {
          "output_type": "stream",
          "name": "stdout",
          "text": [
            "2022-05-12 04:18:37,327 Computing label dictionary. Progress:\n"
          ]
        },
        {
          "output_type": "stream",
          "name": "stderr",
          "text": [
            "1350it [00:00, 11120.38it/s]"
          ]
        },
        {
          "output_type": "stream",
          "name": "stdout",
          "text": [
            "2022-05-12 04:18:37,466 Dictionary created for label 'ner' with 9 values: PER.NOM (seen 772 times), PER.NAM (seen 578 times), GPE.NAM (seen 205 times), ORG.NAM (seen 183 times), LOC.NAM (seen 56 times), LOC.NOM (seen 51 times), ORG.NOM (seen 42 times), GPE.NOM (seen 8 times)\n"
          ]
        },
        {
          "output_type": "stream",
          "name": "stderr",
          "text": [
            "\n"
          ]
        },
        {
          "output_type": "stream",
          "name": "stdout",
          "text": [
            "2022-05-12 04:18:38,717 https://flair.informatik.hu-berlin.de/resources/embeddings/token/zh-crawl-fasttext-300d-1M.vectors.npy not found in cache, downloading to /tmp/tmpcvct3ilg\n"
          ]
        },
        {
          "output_type": "stream",
          "name": "stderr",
          "text": [
            "100%|██████████| 1200000128/1200000128 [00:54<00:00, 21924238.18B/s]"
          ]
        },
        {
          "output_type": "stream",
          "name": "stdout",
          "text": [
            "2022-05-12 04:19:33,879 copying /tmp/tmpcvct3ilg to cache at /root/.flair/embeddings/zh-crawl-fasttext-300d-1M.vectors.npy\n"
          ]
        },
        {
          "output_type": "stream",
          "name": "stderr",
          "text": [
            "\n"
          ]
        },
        {
          "output_type": "stream",
          "name": "stdout",
          "text": [
            "2022-05-12 04:19:38,248 removing temp file /tmp/tmpcvct3ilg\n",
            "2022-05-12 04:19:39,034 https://flair.informatik.hu-berlin.de/resources/embeddings/token/zh-crawl-fasttext-300d-1M not found in cache, downloading to /tmp/tmpi_us1qev\n"
          ]
        },
        {
          "output_type": "stream",
          "name": "stderr",
          "text": [
            "100%|██████████| 39369077/39369077 [00:02<00:00, 15788165.12B/s]"
          ]
        },
        {
          "output_type": "stream",
          "name": "stdout",
          "text": [
            "2022-05-12 04:19:41,941 copying /tmp/tmpi_us1qev to cache at /root/.flair/embeddings/zh-crawl-fasttext-300d-1M\n"
          ]
        },
        {
          "output_type": "stream",
          "name": "stderr",
          "text": [
            "\n"
          ]
        },
        {
          "output_type": "stream",
          "name": "stdout",
          "text": [
            "2022-05-12 04:19:42,018 removing temp file /tmp/tmpi_us1qev\n",
            "downloading https://nlp.h-its.org/bpemb/zh/zh.wiki.bpe.vs100000.model\n"
          ]
        },
        {
          "output_type": "stream",
          "name": "stderr",
          "text": [
            "100%|██████████| 1849493/1849493 [00:00<00:00, 2798240.65B/s]\n"
          ]
        },
        {
          "output_type": "stream",
          "name": "stdout",
          "text": [
            "downloading https://nlp.h-its.org/bpemb/zh/zh.wiki.bpe.vs100000.d50.w2v.bin.tar.gz\n"
          ]
        },
        {
          "output_type": "stream",
          "name": "stderr",
          "text": [
            "100%|██████████| 19332029/19332029 [00:01<00:00, 12633553.31B/s]\n",
            "/usr/local/lib/python3.7/dist-packages/ipykernel_launcher.py:15: DeprecationWarning: Call to deprecated method __init__. (Use 'TransformerWordEmbeddings' for all transformer-based word embeddings) -- Deprecated since version 0.4.5.\n",
            "  from ipykernel import kernelapp as app\n"
          ]
        },
        {
          "output_type": "display_data",
          "data": {
            "text/plain": [
              "Downloading:   0%|          | 0.00/107k [00:00<?, ?B/s]"
            ],
            "application/vnd.jupyter.widget-view+json": {
              "version_major": 2,
              "version_minor": 0,
              "model_id": "1ea66ecd53da49ef8a9ba2f795cefee4"
            }
          },
          "metadata": {}
        },
        {
          "output_type": "display_data",
          "data": {
            "text/plain": [
              "Downloading:   0%|          | 0.00/29.0 [00:00<?, ?B/s]"
            ],
            "application/vnd.jupyter.widget-view+json": {
              "version_major": 2,
              "version_minor": 0,
              "model_id": "7f129cfeef554a69bdefbd94cc9c9057"
            }
          },
          "metadata": {}
        },
        {
          "output_type": "display_data",
          "data": {
            "text/plain": [
              "Downloading:   0%|          | 0.00/624 [00:00<?, ?B/s]"
            ],
            "application/vnd.jupyter.widget-view+json": {
              "version_major": 2,
              "version_minor": 0,
              "model_id": "584dbe8a81d0417794a1a5ad8706d0d3"
            }
          },
          "metadata": {}
        },
        {
          "output_type": "display_data",
          "data": {
            "text/plain": [
              "Downloading:   0%|          | 0.00/393M [00:00<?, ?B/s]"
            ],
            "application/vnd.jupyter.widget-view+json": {
              "version_major": 2,
              "version_minor": 0,
              "model_id": "f522b7602a1d4f3a9cf7465c70b5778c"
            }
          },
          "metadata": {}
        },
        {
          "output_type": "stream",
          "name": "stderr",
          "text": [
            "Some weights of the model checkpoint at bert-base-chinese were not used when initializing BertModel: ['cls.predictions.decoder.weight', 'cls.predictions.transform.LayerNorm.bias', 'cls.seq_relationship.weight', 'cls.predictions.transform.dense.weight', 'cls.predictions.bias', 'cls.seq_relationship.bias', 'cls.predictions.transform.dense.bias', 'cls.predictions.transform.LayerNorm.weight']\n",
            "- This IS expected if you are initializing BertModel from the checkpoint of a model trained on another task or with another architecture (e.g. initializing a BertForSequenceClassification model from a BertForPreTraining model).\n",
            "- This IS NOT expected if you are initializing BertModel from the checkpoint of a model that you expect to be exactly identical (initializing a BertForSequenceClassification model from a BertForSequenceClassification model).\n"
          ]
        },
        {
          "output_type": "stream",
          "name": "stdout",
          "text": [
            "2022-05-12 04:20:14,656 SequenceTagger predicts: Dictionary with 33 tags: O, S-PER.NOM, B-PER.NOM, E-PER.NOM, I-PER.NOM, S-PER.NAM, B-PER.NAM, E-PER.NAM, I-PER.NAM, S-GPE.NAM, B-GPE.NAM, E-GPE.NAM, I-GPE.NAM, S-ORG.NAM, B-ORG.NAM, E-ORG.NAM, I-ORG.NAM, S-LOC.NAM, B-LOC.NAM, E-LOC.NAM, I-LOC.NAM, S-LOC.NOM, B-LOC.NOM, E-LOC.NOM, I-LOC.NOM, S-ORG.NOM, B-ORG.NOM, E-ORG.NOM, I-ORG.NOM, S-GPE.NOM, B-GPE.NOM, E-GPE.NOM, I-GPE.NOM\n",
            "2022-05-12 04:20:30,142 ----------------------------------------------------------------------------------------------------\n",
            "2022-05-12 04:20:30,145 Model: \"SequenceTagger(\n",
            "  (embeddings): StackedEmbeddings(\n",
            "    (list_embedding_0): WordEmbeddings(\n",
            "      'zh-crawl'\n",
            "      (embedding): Embedding(1000001, 300)\n",
            "    )\n",
            "    (list_embedding_1): BytePairEmbeddings(model=1-bpe-zh-100000-50)\n",
            "    (list_embedding_2): BertEmbeddings(\n",
            "      (model): BertModel(\n",
            "        (embeddings): BertEmbeddings(\n",
            "          (word_embeddings): Embedding(21128, 768, padding_idx=0)\n",
            "          (position_embeddings): Embedding(512, 768)\n",
            "          (token_type_embeddings): Embedding(2, 768)\n",
            "          (LayerNorm): LayerNorm((768,), eps=1e-12, elementwise_affine=True)\n",
            "          (dropout): Dropout(p=0.1, inplace=False)\n",
            "        )\n",
            "        (encoder): BertEncoder(\n",
            "          (layer): ModuleList(\n",
            "            (0): BertLayer(\n",
            "              (attention): BertAttention(\n",
            "                (self): BertSelfAttention(\n",
            "                  (query): Linear(in_features=768, out_features=768, bias=True)\n",
            "                  (key): Linear(in_features=768, out_features=768, bias=True)\n",
            "                  (value): Linear(in_features=768, out_features=768, bias=True)\n",
            "                  (dropout): Dropout(p=0.1, inplace=False)\n",
            "                )\n",
            "                (output): BertSelfOutput(\n",
            "                  (dense): Linear(in_features=768, out_features=768, bias=True)\n",
            "                  (LayerNorm): LayerNorm((768,), eps=1e-12, elementwise_affine=True)\n",
            "                  (dropout): Dropout(p=0.1, inplace=False)\n",
            "                )\n",
            "              )\n",
            "              (intermediate): BertIntermediate(\n",
            "                (dense): Linear(in_features=768, out_features=3072, bias=True)\n",
            "                (intermediate_act_fn): GELUActivation()\n",
            "              )\n",
            "              (output): BertOutput(\n",
            "                (dense): Linear(in_features=3072, out_features=768, bias=True)\n",
            "                (LayerNorm): LayerNorm((768,), eps=1e-12, elementwise_affine=True)\n",
            "                (dropout): Dropout(p=0.1, inplace=False)\n",
            "              )\n",
            "            )\n",
            "            (1): BertLayer(\n",
            "              (attention): BertAttention(\n",
            "                (self): BertSelfAttention(\n",
            "                  (query): Linear(in_features=768, out_features=768, bias=True)\n",
            "                  (key): Linear(in_features=768, out_features=768, bias=True)\n",
            "                  (value): Linear(in_features=768, out_features=768, bias=True)\n",
            "                  (dropout): Dropout(p=0.1, inplace=False)\n",
            "                )\n",
            "                (output): BertSelfOutput(\n",
            "                  (dense): Linear(in_features=768, out_features=768, bias=True)\n",
            "                  (LayerNorm): LayerNorm((768,), eps=1e-12, elementwise_affine=True)\n",
            "                  (dropout): Dropout(p=0.1, inplace=False)\n",
            "                )\n",
            "              )\n",
            "              (intermediate): BertIntermediate(\n",
            "                (dense): Linear(in_features=768, out_features=3072, bias=True)\n",
            "                (intermediate_act_fn): GELUActivation()\n",
            "              )\n",
            "              (output): BertOutput(\n",
            "                (dense): Linear(in_features=3072, out_features=768, bias=True)\n",
            "                (LayerNorm): LayerNorm((768,), eps=1e-12, elementwise_affine=True)\n",
            "                (dropout): Dropout(p=0.1, inplace=False)\n",
            "              )\n",
            "            )\n",
            "            (2): BertLayer(\n",
            "              (attention): BertAttention(\n",
            "                (self): BertSelfAttention(\n",
            "                  (query): Linear(in_features=768, out_features=768, bias=True)\n",
            "                  (key): Linear(in_features=768, out_features=768, bias=True)\n",
            "                  (value): Linear(in_features=768, out_features=768, bias=True)\n",
            "                  (dropout): Dropout(p=0.1, inplace=False)\n",
            "                )\n",
            "                (output): BertSelfOutput(\n",
            "                  (dense): Linear(in_features=768, out_features=768, bias=True)\n",
            "                  (LayerNorm): LayerNorm((768,), eps=1e-12, elementwise_affine=True)\n",
            "                  (dropout): Dropout(p=0.1, inplace=False)\n",
            "                )\n",
            "              )\n",
            "              (intermediate): BertIntermediate(\n",
            "                (dense): Linear(in_features=768, out_features=3072, bias=True)\n",
            "                (intermediate_act_fn): GELUActivation()\n",
            "              )\n",
            "              (output): BertOutput(\n",
            "                (dense): Linear(in_features=3072, out_features=768, bias=True)\n",
            "                (LayerNorm): LayerNorm((768,), eps=1e-12, elementwise_affine=True)\n",
            "                (dropout): Dropout(p=0.1, inplace=False)\n",
            "              )\n",
            "            )\n",
            "            (3): BertLayer(\n",
            "              (attention): BertAttention(\n",
            "                (self): BertSelfAttention(\n",
            "                  (query): Linear(in_features=768, out_features=768, bias=True)\n",
            "                  (key): Linear(in_features=768, out_features=768, bias=True)\n",
            "                  (value): Linear(in_features=768, out_features=768, bias=True)\n",
            "                  (dropout): Dropout(p=0.1, inplace=False)\n",
            "                )\n",
            "                (output): BertSelfOutput(\n",
            "                  (dense): Linear(in_features=768, out_features=768, bias=True)\n",
            "                  (LayerNorm): LayerNorm((768,), eps=1e-12, elementwise_affine=True)\n",
            "                  (dropout): Dropout(p=0.1, inplace=False)\n",
            "                )\n",
            "              )\n",
            "              (intermediate): BertIntermediate(\n",
            "                (dense): Linear(in_features=768, out_features=3072, bias=True)\n",
            "                (intermediate_act_fn): GELUActivation()\n",
            "              )\n",
            "              (output): BertOutput(\n",
            "                (dense): Linear(in_features=3072, out_features=768, bias=True)\n",
            "                (LayerNorm): LayerNorm((768,), eps=1e-12, elementwise_affine=True)\n",
            "                (dropout): Dropout(p=0.1, inplace=False)\n",
            "              )\n",
            "            )\n",
            "            (4): BertLayer(\n",
            "              (attention): BertAttention(\n",
            "                (self): BertSelfAttention(\n",
            "                  (query): Linear(in_features=768, out_features=768, bias=True)\n",
            "                  (key): Linear(in_features=768, out_features=768, bias=True)\n",
            "                  (value): Linear(in_features=768, out_features=768, bias=True)\n",
            "                  (dropout): Dropout(p=0.1, inplace=False)\n",
            "                )\n",
            "                (output): BertSelfOutput(\n",
            "                  (dense): Linear(in_features=768, out_features=768, bias=True)\n",
            "                  (LayerNorm): LayerNorm((768,), eps=1e-12, elementwise_affine=True)\n",
            "                  (dropout): Dropout(p=0.1, inplace=False)\n",
            "                )\n",
            "              )\n",
            "              (intermediate): BertIntermediate(\n",
            "                (dense): Linear(in_features=768, out_features=3072, bias=True)\n",
            "                (intermediate_act_fn): GELUActivation()\n",
            "              )\n",
            "              (output): BertOutput(\n",
            "                (dense): Linear(in_features=3072, out_features=768, bias=True)\n",
            "                (LayerNorm): LayerNorm((768,), eps=1e-12, elementwise_affine=True)\n",
            "                (dropout): Dropout(p=0.1, inplace=False)\n",
            "              )\n",
            "            )\n",
            "            (5): BertLayer(\n",
            "              (attention): BertAttention(\n",
            "                (self): BertSelfAttention(\n",
            "                  (query): Linear(in_features=768, out_features=768, bias=True)\n",
            "                  (key): Linear(in_features=768, out_features=768, bias=True)\n",
            "                  (value): Linear(in_features=768, out_features=768, bias=True)\n",
            "                  (dropout): Dropout(p=0.1, inplace=False)\n",
            "                )\n",
            "                (output): BertSelfOutput(\n",
            "                  (dense): Linear(in_features=768, out_features=768, bias=True)\n",
            "                  (LayerNorm): LayerNorm((768,), eps=1e-12, elementwise_affine=True)\n",
            "                  (dropout): Dropout(p=0.1, inplace=False)\n",
            "                )\n",
            "              )\n",
            "              (intermediate): BertIntermediate(\n",
            "                (dense): Linear(in_features=768, out_features=3072, bias=True)\n",
            "                (intermediate_act_fn): GELUActivation()\n",
            "              )\n",
            "              (output): BertOutput(\n",
            "                (dense): Linear(in_features=3072, out_features=768, bias=True)\n",
            "                (LayerNorm): LayerNorm((768,), eps=1e-12, elementwise_affine=True)\n",
            "                (dropout): Dropout(p=0.1, inplace=False)\n",
            "              )\n",
            "            )\n",
            "            (6): BertLayer(\n",
            "              (attention): BertAttention(\n",
            "                (self): BertSelfAttention(\n",
            "                  (query): Linear(in_features=768, out_features=768, bias=True)\n",
            "                  (key): Linear(in_features=768, out_features=768, bias=True)\n",
            "                  (value): Linear(in_features=768, out_features=768, bias=True)\n",
            "                  (dropout): Dropout(p=0.1, inplace=False)\n",
            "                )\n",
            "                (output): BertSelfOutput(\n",
            "                  (dense): Linear(in_features=768, out_features=768, bias=True)\n",
            "                  (LayerNorm): LayerNorm((768,), eps=1e-12, elementwise_affine=True)\n",
            "                  (dropout): Dropout(p=0.1, inplace=False)\n",
            "                )\n",
            "              )\n",
            "              (intermediate): BertIntermediate(\n",
            "                (dense): Linear(in_features=768, out_features=3072, bias=True)\n",
            "                (intermediate_act_fn): GELUActivation()\n",
            "              )\n",
            "              (output): BertOutput(\n",
            "                (dense): Linear(in_features=3072, out_features=768, bias=True)\n",
            "                (LayerNorm): LayerNorm((768,), eps=1e-12, elementwise_affine=True)\n",
            "                (dropout): Dropout(p=0.1, inplace=False)\n",
            "              )\n",
            "            )\n",
            "            (7): BertLayer(\n",
            "              (attention): BertAttention(\n",
            "                (self): BertSelfAttention(\n",
            "                  (query): Linear(in_features=768, out_features=768, bias=True)\n",
            "                  (key): Linear(in_features=768, out_features=768, bias=True)\n",
            "                  (value): Linear(in_features=768, out_features=768, bias=True)\n",
            "                  (dropout): Dropout(p=0.1, inplace=False)\n",
            "                )\n",
            "                (output): BertSelfOutput(\n",
            "                  (dense): Linear(in_features=768, out_features=768, bias=True)\n",
            "                  (LayerNorm): LayerNorm((768,), eps=1e-12, elementwise_affine=True)\n",
            "                  (dropout): Dropout(p=0.1, inplace=False)\n",
            "                )\n",
            "              )\n",
            "              (intermediate): BertIntermediate(\n",
            "                (dense): Linear(in_features=768, out_features=3072, bias=True)\n",
            "                (intermediate_act_fn): GELUActivation()\n",
            "              )\n",
            "              (output): BertOutput(\n",
            "                (dense): Linear(in_features=3072, out_features=768, bias=True)\n",
            "                (LayerNorm): LayerNorm((768,), eps=1e-12, elementwise_affine=True)\n",
            "                (dropout): Dropout(p=0.1, inplace=False)\n",
            "              )\n",
            "            )\n",
            "            (8): BertLayer(\n",
            "              (attention): BertAttention(\n",
            "                (self): BertSelfAttention(\n",
            "                  (query): Linear(in_features=768, out_features=768, bias=True)\n",
            "                  (key): Linear(in_features=768, out_features=768, bias=True)\n",
            "                  (value): Linear(in_features=768, out_features=768, bias=True)\n",
            "                  (dropout): Dropout(p=0.1, inplace=False)\n",
            "                )\n",
            "                (output): BertSelfOutput(\n",
            "                  (dense): Linear(in_features=768, out_features=768, bias=True)\n",
            "                  (LayerNorm): LayerNorm((768,), eps=1e-12, elementwise_affine=True)\n",
            "                  (dropout): Dropout(p=0.1, inplace=False)\n",
            "                )\n",
            "              )\n",
            "              (intermediate): BertIntermediate(\n",
            "                (dense): Linear(in_features=768, out_features=3072, bias=True)\n",
            "                (intermediate_act_fn): GELUActivation()\n",
            "              )\n",
            "              (output): BertOutput(\n",
            "                (dense): Linear(in_features=3072, out_features=768, bias=True)\n",
            "                (LayerNorm): LayerNorm((768,), eps=1e-12, elementwise_affine=True)\n",
            "                (dropout): Dropout(p=0.1, inplace=False)\n",
            "              )\n",
            "            )\n",
            "            (9): BertLayer(\n",
            "              (attention): BertAttention(\n",
            "                (self): BertSelfAttention(\n",
            "                  (query): Linear(in_features=768, out_features=768, bias=True)\n",
            "                  (key): Linear(in_features=768, out_features=768, bias=True)\n",
            "                  (value): Linear(in_features=768, out_features=768, bias=True)\n",
            "                  (dropout): Dropout(p=0.1, inplace=False)\n",
            "                )\n",
            "                (output): BertSelfOutput(\n",
            "                  (dense): Linear(in_features=768, out_features=768, bias=True)\n",
            "                  (LayerNorm): LayerNorm((768,), eps=1e-12, elementwise_affine=True)\n",
            "                  (dropout): Dropout(p=0.1, inplace=False)\n",
            "                )\n",
            "              )\n",
            "              (intermediate): BertIntermediate(\n",
            "                (dense): Linear(in_features=768, out_features=3072, bias=True)\n",
            "                (intermediate_act_fn): GELUActivation()\n",
            "              )\n",
            "              (output): BertOutput(\n",
            "                (dense): Linear(in_features=3072, out_features=768, bias=True)\n",
            "                (LayerNorm): LayerNorm((768,), eps=1e-12, elementwise_affine=True)\n",
            "                (dropout): Dropout(p=0.1, inplace=False)\n",
            "              )\n",
            "            )\n",
            "            (10): BertLayer(\n",
            "              (attention): BertAttention(\n",
            "                (self): BertSelfAttention(\n",
            "                  (query): Linear(in_features=768, out_features=768, bias=True)\n",
            "                  (key): Linear(in_features=768, out_features=768, bias=True)\n",
            "                  (value): Linear(in_features=768, out_features=768, bias=True)\n",
            "                  (dropout): Dropout(p=0.1, inplace=False)\n",
            "                )\n",
            "                (output): BertSelfOutput(\n",
            "                  (dense): Linear(in_features=768, out_features=768, bias=True)\n",
            "                  (LayerNorm): LayerNorm((768,), eps=1e-12, elementwise_affine=True)\n",
            "                  (dropout): Dropout(p=0.1, inplace=False)\n",
            "                )\n",
            "              )\n",
            "              (intermediate): BertIntermediate(\n",
            "                (dense): Linear(in_features=768, out_features=3072, bias=True)\n",
            "                (intermediate_act_fn): GELUActivation()\n",
            "              )\n",
            "              (output): BertOutput(\n",
            "                (dense): Linear(in_features=3072, out_features=768, bias=True)\n",
            "                (LayerNorm): LayerNorm((768,), eps=1e-12, elementwise_affine=True)\n",
            "                (dropout): Dropout(p=0.1, inplace=False)\n",
            "              )\n",
            "            )\n",
            "            (11): BertLayer(\n",
            "              (attention): BertAttention(\n",
            "                (self): BertSelfAttention(\n",
            "                  (query): Linear(in_features=768, out_features=768, bias=True)\n",
            "                  (key): Linear(in_features=768, out_features=768, bias=True)\n",
            "                  (value): Linear(in_features=768, out_features=768, bias=True)\n",
            "                  (dropout): Dropout(p=0.1, inplace=False)\n",
            "                )\n",
            "                (output): BertSelfOutput(\n",
            "                  (dense): Linear(in_features=768, out_features=768, bias=True)\n",
            "                  (LayerNorm): LayerNorm((768,), eps=1e-12, elementwise_affine=True)\n",
            "                  (dropout): Dropout(p=0.1, inplace=False)\n",
            "                )\n",
            "              )\n",
            "              (intermediate): BertIntermediate(\n",
            "                (dense): Linear(in_features=768, out_features=3072, bias=True)\n",
            "                (intermediate_act_fn): GELUActivation()\n",
            "              )\n",
            "              (output): BertOutput(\n",
            "                (dense): Linear(in_features=3072, out_features=768, bias=True)\n",
            "                (LayerNorm): LayerNorm((768,), eps=1e-12, elementwise_affine=True)\n",
            "                (dropout): Dropout(p=0.1, inplace=False)\n",
            "              )\n",
            "            )\n",
            "          )\n",
            "        )\n",
            "        (pooler): BertPooler(\n",
            "          (dense): Linear(in_features=768, out_features=768, bias=True)\n",
            "          (activation): Tanh()\n",
            "        )\n",
            "      )\n",
            "    )\n",
            "  )\n",
            "  (word_dropout): WordDropout(p=0.05)\n",
            "  (locked_dropout): LockedDropout(p=0.5)\n",
            "  (embedding2nn): Linear(in_features=3472, out_features=3472, bias=True)\n",
            "  (rnn): LSTM(3472, 256, batch_first=True, bidirectional=True)\n",
            "  (linear): Linear(in_features=512, out_features=35, bias=True)\n",
            "  (loss_function): ViterbiLoss()\n",
            "  (crf): CRF()\n",
            ")\"\n",
            "2022-05-12 04:20:30,152 ----------------------------------------------------------------------------------------------------\n",
            "2022-05-12 04:20:30,155 Corpus: \"Corpus: 1350 train + 270 dev + 270 test sentences\"\n",
            "2022-05-12 04:20:30,158 ----------------------------------------------------------------------------------------------------\n",
            "2022-05-12 04:20:30,162 Parameters:\n",
            "2022-05-12 04:20:30,165  - learning_rate: \"0.100000\"\n",
            "2022-05-12 04:20:30,168  - mini_batch_size: \"32\"\n",
            "2022-05-12 04:20:30,171  - patience: \"3\"\n",
            "2022-05-12 04:20:30,174  - anneal_factor: \"0.5\"\n",
            "2022-05-12 04:20:30,176  - max_epochs: \"50\"\n",
            "2022-05-12 04:20:30,178  - shuffle: \"True\"\n",
            "2022-05-12 04:20:30,181  - train_with_dev: \"False\"\n",
            "2022-05-12 04:20:30,183  - batch_growth_annealing: \"False\"\n",
            "2022-05-12 04:20:30,186 ----------------------------------------------------------------------------------------------------\n",
            "2022-05-12 04:20:30,188 Model training base path: \"/content/model\"\n",
            "2022-05-12 04:20:30,190 ----------------------------------------------------------------------------------------------------\n",
            "2022-05-12 04:20:30,192 Device: cuda:0\n",
            "2022-05-12 04:20:30,196 ----------------------------------------------------------------------------------------------------\n",
            "2022-05-12 04:20:30,198 Embeddings storage mode: gpu\n",
            "2022-05-12 04:20:30,201 ----------------------------------------------------------------------------------------------------\n",
            "2022-05-12 04:20:34,958 epoch 1 - iter 4/43 - loss 2.64224898 - samples/sec: 26.93 - lr: 0.100000\n",
            "2022-05-12 04:20:39,364 epoch 1 - iter 8/43 - loss 1.64630972 - samples/sec: 29.06 - lr: 0.100000\n",
            "2022-05-12 04:20:44,162 epoch 1 - iter 12/43 - loss 1.35769703 - samples/sec: 26.69 - lr: 0.100000\n",
            "2022-05-12 04:20:49,675 epoch 1 - iter 16/43 - loss 1.13564415 - samples/sec: 23.23 - lr: 0.100000\n",
            "2022-05-12 04:20:55,634 epoch 1 - iter 20/43 - loss 1.01885422 - samples/sec: 21.49 - lr: 0.100000\n",
            "2022-05-12 04:21:02,059 epoch 1 - iter 24/43 - loss 0.94255463 - samples/sec: 19.94 - lr: 0.100000\n",
            "2022-05-12 04:21:09,472 epoch 1 - iter 28/43 - loss 0.86141591 - samples/sec: 17.28 - lr: 0.100000\n",
            "2022-05-12 04:21:16,241 epoch 1 - iter 32/43 - loss 0.81258614 - samples/sec: 18.92 - lr: 0.100000\n",
            "2022-05-12 04:21:22,571 epoch 1 - iter 36/43 - loss 0.75510023 - samples/sec: 20.23 - lr: 0.100000\n",
            "2022-05-12 04:21:28,503 epoch 1 - iter 40/43 - loss 0.72297235 - samples/sec: 21.59 - lr: 0.100000\n",
            "2022-05-12 04:21:31,620 ----------------------------------------------------------------------------------------------------\n",
            "2022-05-12 04:21:31,622 EPOCH 1 done: loss 0.7056 - lr 0.100000\n"
          ]
        },
        {
          "output_type": "stream",
          "name": "stderr",
          "text": [
            "100%|██████████| 9/9 [00:10<00:00,  1.19s/it]"
          ]
        },
        {
          "output_type": "stream",
          "name": "stdout",
          "text": [
            "2022-05-12 04:21:42,349 Evaluating as a multi-label problem: False\n",
            "2022-05-12 04:21:42,368 DEV : loss 0.3250114917755127 - f1-score (micro avg)  0.0085\n",
            "2022-05-12 04:21:42,385 BAD EPOCHS (no improvement): 0\n",
            "2022-05-12 04:21:42,387 saving best model\n"
          ]
        },
        {
          "output_type": "stream",
          "name": "stderr",
          "text": [
            "\n"
          ]
        },
        {
          "output_type": "stream",
          "name": "stdout",
          "text": [
            "2022-05-12 04:21:52,428 ----------------------------------------------------------------------------------------------------\n",
            "2022-05-12 04:21:55,293 epoch 2 - iter 4/43 - loss 0.53924934 - samples/sec: 54.62 - lr: 0.100000\n",
            "2022-05-12 04:21:57,724 epoch 2 - iter 8/43 - loss 0.52542018 - samples/sec: 52.74 - lr: 0.100000\n",
            "2022-05-12 04:22:00,021 epoch 2 - iter 12/43 - loss 0.47161560 - samples/sec: 55.87 - lr: 0.100000\n",
            "2022-05-12 04:22:02,590 epoch 2 - iter 16/43 - loss 0.46723536 - samples/sec: 49.90 - lr: 0.100000\n",
            "2022-05-12 04:22:05,184 epoch 2 - iter 20/43 - loss 0.43695566 - samples/sec: 49.45 - lr: 0.100000\n",
            "2022-05-12 04:22:07,424 epoch 2 - iter 24/43 - loss 0.43325369 - samples/sec: 57.22 - lr: 0.100000\n",
            "2022-05-12 04:22:09,786 epoch 2 - iter 28/43 - loss 0.42322609 - samples/sec: 54.26 - lr: 0.100000\n",
            "2022-05-12 04:22:12,230 epoch 2 - iter 32/43 - loss 0.41732579 - samples/sec: 52.45 - lr: 0.100000\n",
            "2022-05-12 04:22:14,621 epoch 2 - iter 36/43 - loss 0.41410835 - samples/sec: 53.69 - lr: 0.100000\n",
            "2022-05-12 04:22:17,032 epoch 2 - iter 40/43 - loss 0.40507783 - samples/sec: 53.16 - lr: 0.100000\n",
            "2022-05-12 04:22:18,365 ----------------------------------------------------------------------------------------------------\n",
            "2022-05-12 04:22:18,367 EPOCH 2 done: loss 0.3981 - lr 0.100000\n"
          ]
        },
        {
          "output_type": "stream",
          "name": "stderr",
          "text": [
            "100%|██████████| 9/9 [00:03<00:00,  2.47it/s]"
          ]
        },
        {
          "output_type": "stream",
          "name": "stdout",
          "text": [
            "2022-05-12 04:22:22,031 Evaluating as a multi-label problem: False\n",
            "2022-05-12 04:22:22,049 DEV : loss 0.3100951910018921 - f1-score (micro avg)  0.0\n",
            "2022-05-12 04:22:22,063 BAD EPOCHS (no improvement): 1\n",
            "2022-05-12 04:22:22,067 ----------------------------------------------------------------------------------------------------\n"
          ]
        },
        {
          "output_type": "stream",
          "name": "stderr",
          "text": [
            "\n"
          ]
        },
        {
          "output_type": "stream",
          "name": "stdout",
          "text": [
            "2022-05-12 04:22:24,602 epoch 3 - iter 4/43 - loss 0.35964629 - samples/sec: 50.61 - lr: 0.100000\n",
            "2022-05-12 04:22:27,197 epoch 3 - iter 8/43 - loss 0.32550703 - samples/sec: 49.42 - lr: 0.100000\n",
            "2022-05-12 04:22:29,505 epoch 3 - iter 12/43 - loss 0.32420563 - samples/sec: 55.55 - lr: 0.100000\n",
            "2022-05-12 04:22:31,753 epoch 3 - iter 16/43 - loss 0.31281902 - samples/sec: 57.08 - lr: 0.100000\n",
            "2022-05-12 04:22:34,182 epoch 3 - iter 20/43 - loss 0.30578056 - samples/sec: 52.75 - lr: 0.100000\n",
            "2022-05-12 04:22:36,638 epoch 3 - iter 24/43 - loss 0.30752144 - samples/sec: 52.16 - lr: 0.100000\n",
            "2022-05-12 04:22:39,174 epoch 3 - iter 28/43 - loss 0.29752374 - samples/sec: 50.54 - lr: 0.100000\n",
            "2022-05-12 04:22:41,446 epoch 3 - iter 32/43 - loss 0.29466199 - samples/sec: 56.41 - lr: 0.100000\n",
            "2022-05-12 04:22:43,833 epoch 3 - iter 36/43 - loss 0.28858574 - samples/sec: 53.69 - lr: 0.100000\n",
            "2022-05-12 04:22:46,368 epoch 3 - iter 40/43 - loss 0.28867905 - samples/sec: 50.62 - lr: 0.100000\n",
            "2022-05-12 04:22:47,726 ----------------------------------------------------------------------------------------------------\n",
            "2022-05-12 04:22:47,730 EPOCH 3 done: loss 0.2906 - lr 0.100000\n"
          ]
        },
        {
          "output_type": "stream",
          "name": "stderr",
          "text": [
            "100%|██████████| 9/9 [00:03<00:00,  2.45it/s]"
          ]
        },
        {
          "output_type": "stream",
          "name": "stdout",
          "text": [
            "2022-05-12 04:22:51,419 Evaluating as a multi-label problem: False\n",
            "2022-05-12 04:22:51,444 DEV : loss 0.16189177334308624 - f1-score (micro avg)  0.4962\n",
            "2022-05-12 04:22:51,459 BAD EPOCHS (no improvement): 0\n",
            "2022-05-12 04:22:51,461 saving best model\n"
          ]
        },
        {
          "output_type": "stream",
          "name": "stderr",
          "text": [
            "\n"
          ]
        },
        {
          "output_type": "stream",
          "name": "stdout",
          "text": [
            "2022-05-12 04:23:01,969 ----------------------------------------------------------------------------------------------------\n",
            "2022-05-12 04:23:04,391 epoch 4 - iter 4/43 - loss 0.29321397 - samples/sec: 53.03 - lr: 0.100000\n",
            "2022-05-12 04:23:06,867 epoch 4 - iter 8/43 - loss 0.25212492 - samples/sec: 51.77 - lr: 0.100000\n",
            "2022-05-12 04:23:09,336 epoch 4 - iter 12/43 - loss 0.26234880 - samples/sec: 51.89 - lr: 0.100000\n",
            "2022-05-12 04:23:11,664 epoch 4 - iter 16/43 - loss 0.25461438 - samples/sec: 55.08 - lr: 0.100000\n",
            "2022-05-12 04:23:14,135 epoch 4 - iter 20/43 - loss 0.26388478 - samples/sec: 51.85 - lr: 0.100000\n",
            "2022-05-12 04:23:16,562 epoch 4 - iter 24/43 - loss 0.25139609 - samples/sec: 52.85 - lr: 0.100000\n",
            "2022-05-12 04:23:18,978 epoch 4 - iter 28/43 - loss 0.23915576 - samples/sec: 53.05 - lr: 0.100000\n",
            "2022-05-12 04:23:21,488 epoch 4 - iter 32/43 - loss 0.23672821 - samples/sec: 51.06 - lr: 0.100000\n",
            "2022-05-12 04:23:23,615 epoch 4 - iter 36/43 - loss 0.23026007 - samples/sec: 60.25 - lr: 0.100000\n",
            "2022-05-12 04:23:26,056 epoch 4 - iter 40/43 - loss 0.22410052 - samples/sec: 52.61 - lr: 0.100000\n",
            "2022-05-12 04:23:27,394 ----------------------------------------------------------------------------------------------------\n",
            "2022-05-12 04:23:27,397 EPOCH 4 done: loss 0.2240 - lr 0.100000\n"
          ]
        },
        {
          "output_type": "stream",
          "name": "stderr",
          "text": [
            "100%|██████████| 9/9 [00:03<00:00,  2.45it/s]"
          ]
        },
        {
          "output_type": "stream",
          "name": "stdout",
          "text": [
            "2022-05-12 04:23:31,081 Evaluating as a multi-label problem: False\n",
            "2022-05-12 04:23:31,104 DEV : loss 0.1266089230775833 - f1-score (micro avg)  0.5731\n",
            "2022-05-12 04:23:31,117 BAD EPOCHS (no improvement): 0\n",
            "2022-05-12 04:23:31,120 saving best model\n"
          ]
        },
        {
          "output_type": "stream",
          "name": "stderr",
          "text": [
            "\n"
          ]
        },
        {
          "output_type": "stream",
          "name": "stdout",
          "text": [
            "2022-05-12 04:23:40,908 ----------------------------------------------------------------------------------------------------\n",
            "2022-05-12 04:23:43,369 epoch 5 - iter 4/43 - loss 0.14745116 - samples/sec: 52.12 - lr: 0.100000\n",
            "2022-05-12 04:23:45,711 epoch 5 - iter 8/43 - loss 0.18044539 - samples/sec: 54.74 - lr: 0.100000\n",
            "2022-05-12 04:23:48,026 epoch 5 - iter 12/43 - loss 0.18975173 - samples/sec: 55.43 - lr: 0.100000\n",
            "2022-05-12 04:23:50,426 epoch 5 - iter 16/43 - loss 0.18612980 - samples/sec: 53.40 - lr: 0.100000\n",
            "2022-05-12 04:23:52,856 epoch 5 - iter 20/43 - loss 0.19766073 - samples/sec: 52.72 - lr: 0.100000\n",
            "2022-05-12 04:23:55,585 epoch 5 - iter 24/43 - loss 0.20745287 - samples/sec: 46.99 - lr: 0.100000\n",
            "2022-05-12 04:23:58,043 epoch 5 - iter 28/43 - loss 0.20848275 - samples/sec: 52.11 - lr: 0.100000\n",
            "2022-05-12 04:24:00,378 epoch 5 - iter 32/43 - loss 0.20445049 - samples/sec: 54.88 - lr: 0.100000\n",
            "2022-05-12 04:24:02,967 epoch 5 - iter 36/43 - loss 0.19998429 - samples/sec: 49.48 - lr: 0.100000\n",
            "2022-05-12 04:24:05,366 epoch 5 - iter 40/43 - loss 0.19430798 - samples/sec: 53.42 - lr: 0.100000\n",
            "2022-05-12 04:24:06,689 ----------------------------------------------------------------------------------------------------\n",
            "2022-05-12 04:24:06,690 EPOCH 5 done: loss 0.1940 - lr 0.100000\n"
          ]
        },
        {
          "output_type": "stream",
          "name": "stderr",
          "text": [
            "100%|██████████| 9/9 [00:03<00:00,  2.47it/s]"
          ]
        },
        {
          "output_type": "stream",
          "name": "stdout",
          "text": [
            "2022-05-12 04:24:10,357 Evaluating as a multi-label problem: False\n",
            "2022-05-12 04:24:10,373 DEV : loss 0.11853788793087006 - f1-score (micro avg)  0.6257\n",
            "2022-05-12 04:24:10,387 BAD EPOCHS (no improvement): 0\n",
            "2022-05-12 04:24:10,391 saving best model\n"
          ]
        },
        {
          "output_type": "stream",
          "name": "stderr",
          "text": [
            "\n"
          ]
        },
        {
          "output_type": "stream",
          "name": "stdout",
          "text": [
            "2022-05-12 04:24:20,158 ----------------------------------------------------------------------------------------------------\n",
            "2022-05-12 04:24:22,496 epoch 6 - iter 4/43 - loss 0.17284584 - samples/sec: 54.87 - lr: 0.100000\n",
            "2022-05-12 04:24:24,875 epoch 6 - iter 8/43 - loss 0.16331151 - samples/sec: 53.87 - lr: 0.100000\n",
            "2022-05-12 04:24:27,304 epoch 6 - iter 12/43 - loss 0.18054703 - samples/sec: 52.81 - lr: 0.100000\n",
            "2022-05-12 04:24:29,591 epoch 6 - iter 16/43 - loss 0.17987794 - samples/sec: 56.01 - lr: 0.100000\n",
            "2022-05-12 04:24:31,788 epoch 6 - iter 20/43 - loss 0.17411043 - samples/sec: 58.36 - lr: 0.100000\n",
            "2022-05-12 04:24:34,369 epoch 6 - iter 24/43 - loss 0.17716816 - samples/sec: 49.63 - lr: 0.100000\n",
            "2022-05-12 04:24:36,832 epoch 6 - iter 28/43 - loss 0.17453703 - samples/sec: 52.04 - lr: 0.100000\n",
            "2022-05-12 04:24:39,371 epoch 6 - iter 32/43 - loss 0.17288398 - samples/sec: 50.46 - lr: 0.100000\n",
            "2022-05-12 04:24:42,026 epoch 6 - iter 36/43 - loss 0.16975519 - samples/sec: 48.25 - lr: 0.100000\n",
            "2022-05-12 04:24:44,456 epoch 6 - iter 40/43 - loss 0.17473077 - samples/sec: 52.76 - lr: 0.100000\n",
            "2022-05-12 04:24:45,649 ----------------------------------------------------------------------------------------------------\n",
            "2022-05-12 04:24:45,651 EPOCH 6 done: loss 0.1731 - lr 0.100000\n"
          ]
        },
        {
          "output_type": "stream",
          "name": "stderr",
          "text": [
            "100%|██████████| 9/9 [00:04<00:00,  2.22it/s]"
          ]
        },
        {
          "output_type": "stream",
          "name": "stdout",
          "text": [
            "2022-05-12 04:24:49,736 Evaluating as a multi-label problem: False\n",
            "2022-05-12 04:24:49,757 DEV : loss 0.10589036345481873 - f1-score (micro avg)  0.6145\n",
            "2022-05-12 04:24:49,772 BAD EPOCHS (no improvement): 1\n",
            "2022-05-12 04:24:49,773 ----------------------------------------------------------------------------------------------------\n"
          ]
        },
        {
          "output_type": "stream",
          "name": "stderr",
          "text": [
            "\n"
          ]
        },
        {
          "output_type": "stream",
          "name": "stdout",
          "text": [
            "2022-05-12 04:24:52,241 epoch 7 - iter 4/43 - loss 0.15810363 - samples/sec: 52.01 - lr: 0.100000\n",
            "2022-05-12 04:24:54,710 epoch 7 - iter 8/43 - loss 0.17803678 - samples/sec: 51.92 - lr: 0.100000\n",
            "2022-05-12 04:24:56,953 epoch 7 - iter 12/43 - loss 0.16949924 - samples/sec: 57.20 - lr: 0.100000\n",
            "2022-05-12 04:24:59,635 epoch 7 - iter 16/43 - loss 0.15357411 - samples/sec: 47.78 - lr: 0.100000\n",
            "2022-05-12 04:25:02,102 epoch 7 - iter 20/43 - loss 0.15419029 - samples/sec: 51.92 - lr: 0.100000\n",
            "2022-05-12 04:25:04,588 epoch 7 - iter 24/43 - loss 0.15365414 - samples/sec: 51.55 - lr: 0.100000\n",
            "2022-05-12 04:25:06,892 epoch 7 - iter 28/43 - loss 0.15224789 - samples/sec: 55.61 - lr: 0.100000\n",
            "2022-05-12 04:25:09,182 epoch 7 - iter 32/43 - loss 0.15253005 - samples/sec: 56.04 - lr: 0.100000\n",
            "2022-05-12 04:25:11,830 epoch 7 - iter 36/43 - loss 0.15535783 - samples/sec: 48.38 - lr: 0.100000\n",
            "2022-05-12 04:25:14,199 epoch 7 - iter 40/43 - loss 0.15639101 - samples/sec: 54.13 - lr: 0.100000\n",
            "2022-05-12 04:25:15,509 ----------------------------------------------------------------------------------------------------\n",
            "2022-05-12 04:25:15,511 EPOCH 7 done: loss 0.1565 - lr 0.100000\n"
          ]
        },
        {
          "output_type": "stream",
          "name": "stderr",
          "text": [
            "100%|██████████| 9/9 [00:03<00:00,  2.48it/s]"
          ]
        },
        {
          "output_type": "stream",
          "name": "stdout",
          "text": [
            "2022-05-12 04:25:19,166 Evaluating as a multi-label problem: False\n",
            "2022-05-12 04:25:19,186 DEV : loss 0.10579219460487366 - f1-score (micro avg)  0.6543\n",
            "2022-05-12 04:25:19,200 BAD EPOCHS (no improvement): 0\n",
            "2022-05-12 04:25:19,204 saving best model\n"
          ]
        },
        {
          "output_type": "stream",
          "name": "stderr",
          "text": [
            "\n"
          ]
        },
        {
          "output_type": "stream",
          "name": "stdout",
          "text": [
            "2022-05-12 04:25:29,040 ----------------------------------------------------------------------------------------------------\n",
            "2022-05-12 04:25:31,458 epoch 8 - iter 4/43 - loss 0.14173988 - samples/sec: 53.71 - lr: 0.100000\n",
            "2022-05-12 04:25:34,161 epoch 8 - iter 8/43 - loss 0.14451532 - samples/sec: 47.42 - lr: 0.100000\n",
            "2022-05-12 04:25:36,589 epoch 8 - iter 12/43 - loss 0.15027665 - samples/sec: 52.79 - lr: 0.100000\n",
            "2022-05-12 04:25:38,881 epoch 8 - iter 16/43 - loss 0.15133201 - samples/sec: 55.94 - lr: 0.100000\n",
            "2022-05-12 04:25:41,286 epoch 8 - iter 20/43 - loss 0.15281260 - samples/sec: 53.34 - lr: 0.100000\n",
            "2022-05-12 04:25:43,770 epoch 8 - iter 24/43 - loss 0.14940072 - samples/sec: 51.58 - lr: 0.100000\n",
            "2022-05-12 04:25:46,177 epoch 8 - iter 28/43 - loss 0.14922917 - samples/sec: 53.22 - lr: 0.100000\n",
            "2022-05-12 04:25:48,540 epoch 8 - iter 32/43 - loss 0.14181368 - samples/sec: 54.22 - lr: 0.100000\n",
            "2022-05-12 04:25:51,105 epoch 8 - iter 36/43 - loss 0.13808012 - samples/sec: 49.96 - lr: 0.100000\n",
            "2022-05-12 04:25:53,452 epoch 8 - iter 40/43 - loss 0.13642412 - samples/sec: 54.63 - lr: 0.100000\n",
            "2022-05-12 04:25:54,732 ----------------------------------------------------------------------------------------------------\n",
            "2022-05-12 04:25:54,734 EPOCH 8 done: loss 0.1373 - lr 0.100000\n"
          ]
        },
        {
          "output_type": "stream",
          "name": "stderr",
          "text": [
            "100%|██████████| 9/9 [00:03<00:00,  2.45it/s]"
          ]
        },
        {
          "output_type": "stream",
          "name": "stdout",
          "text": [
            "2022-05-12 04:25:58,427 Evaluating as a multi-label problem: False\n",
            "2022-05-12 04:25:58,449 DEV : loss 0.10286907106637955 - f1-score (micro avg)  0.6493\n",
            "2022-05-12 04:25:58,462 BAD EPOCHS (no improvement): 1\n",
            "2022-05-12 04:25:58,468 ----------------------------------------------------------------------------------------------------\n"
          ]
        },
        {
          "output_type": "stream",
          "name": "stderr",
          "text": [
            "\n"
          ]
        },
        {
          "output_type": "stream",
          "name": "stdout",
          "text": [
            "2022-05-12 04:26:00,933 epoch 9 - iter 4/43 - loss 0.12739077 - samples/sec: 52.00 - lr: 0.100000\n",
            "2022-05-12 04:26:03,421 epoch 9 - iter 8/43 - loss 0.13104731 - samples/sec: 51.59 - lr: 0.100000\n",
            "2022-05-12 04:26:05,783 epoch 9 - iter 12/43 - loss 0.12798845 - samples/sec: 54.29 - lr: 0.100000\n",
            "2022-05-12 04:26:08,284 epoch 9 - iter 16/43 - loss 0.12758830 - samples/sec: 51.23 - lr: 0.100000\n",
            "2022-05-12 04:26:10,474 epoch 9 - iter 20/43 - loss 0.14352457 - samples/sec: 58.52 - lr: 0.100000\n",
            "2022-05-12 04:26:13,039 epoch 9 - iter 24/43 - loss 0.13726376 - samples/sec: 49.96 - lr: 0.100000\n",
            "2022-05-12 04:26:15,302 epoch 9 - iter 28/43 - loss 0.13824703 - samples/sec: 56.65 - lr: 0.100000\n",
            "2022-05-12 04:26:17,864 epoch 9 - iter 32/43 - loss 0.13429261 - samples/sec: 50.00 - lr: 0.100000\n",
            "2022-05-12 04:26:20,375 epoch 9 - iter 36/43 - loss 0.13064344 - samples/sec: 51.14 - lr: 0.100000\n",
            "2022-05-12 04:26:22,852 epoch 9 - iter 40/43 - loss 0.13146952 - samples/sec: 51.73 - lr: 0.100000\n",
            "2022-05-12 04:26:24,279 ----------------------------------------------------------------------------------------------------\n",
            "2022-05-12 04:26:24,280 EPOCH 9 done: loss 0.1328 - lr 0.100000\n"
          ]
        },
        {
          "output_type": "stream",
          "name": "stderr",
          "text": [
            "100%|██████████| 9/9 [00:04<00:00,  2.23it/s]"
          ]
        },
        {
          "output_type": "stream",
          "name": "stdout",
          "text": [
            "2022-05-12 04:26:28,344 Evaluating as a multi-label problem: False\n",
            "2022-05-12 04:26:28,363 DEV : loss 0.0973888412117958 - f1-score (micro avg)  0.6855\n",
            "2022-05-12 04:26:28,376 BAD EPOCHS (no improvement): 0\n",
            "2022-05-12 04:26:28,379 saving best model\n"
          ]
        },
        {
          "output_type": "stream",
          "name": "stderr",
          "text": [
            "\n"
          ]
        },
        {
          "output_type": "stream",
          "name": "stdout",
          "text": [
            "2022-05-12 04:26:38,110 ----------------------------------------------------------------------------------------------------\n",
            "2022-05-12 04:26:40,377 epoch 10 - iter 4/43 - loss 0.09163178 - samples/sec: 56.76 - lr: 0.100000\n",
            "2022-05-12 04:26:42,684 epoch 10 - iter 8/43 - loss 0.09728861 - samples/sec: 55.57 - lr: 0.100000\n",
            "2022-05-12 04:26:45,163 epoch 10 - iter 12/43 - loss 0.09279694 - samples/sec: 51.72 - lr: 0.100000\n",
            "2022-05-12 04:26:47,437 epoch 10 - iter 16/43 - loss 0.10461594 - samples/sec: 56.36 - lr: 0.100000\n",
            "2022-05-12 04:26:49,744 epoch 10 - iter 20/43 - loss 0.11872666 - samples/sec: 55.62 - lr: 0.100000\n",
            "2022-05-12 04:26:52,196 epoch 10 - iter 24/43 - loss 0.12378488 - samples/sec: 52.26 - lr: 0.100000\n",
            "2022-05-12 04:26:54,727 epoch 10 - iter 28/43 - loss 0.12986059 - samples/sec: 50.62 - lr: 0.100000\n",
            "2022-05-12 04:26:57,278 epoch 10 - iter 32/43 - loss 0.12908624 - samples/sec: 50.26 - lr: 0.100000\n",
            "2022-05-12 04:26:59,996 epoch 10 - iter 36/43 - loss 0.12599601 - samples/sec: 47.15 - lr: 0.100000\n",
            "2022-05-12 04:27:02,384 epoch 10 - iter 40/43 - loss 0.12371738 - samples/sec: 53.68 - lr: 0.100000\n",
            "2022-05-12 04:27:03,776 ----------------------------------------------------------------------------------------------------\n",
            "2022-05-12 04:27:03,778 EPOCH 10 done: loss 0.1229 - lr 0.100000\n"
          ]
        },
        {
          "output_type": "stream",
          "name": "stderr",
          "text": [
            "100%|██████████| 9/9 [00:03<00:00,  2.46it/s]"
          ]
        },
        {
          "output_type": "stream",
          "name": "stdout",
          "text": [
            "2022-05-12 04:27:07,455 Evaluating as a multi-label problem: False\n",
            "2022-05-12 04:27:07,480 DEV : loss 0.08998274058103561 - f1-score (micro avg)  0.6829\n",
            "2022-05-12 04:27:07,494 BAD EPOCHS (no improvement): 1\n",
            "2022-05-12 04:27:07,495 ----------------------------------------------------------------------------------------------------\n"
          ]
        },
        {
          "output_type": "stream",
          "name": "stderr",
          "text": [
            "\n"
          ]
        },
        {
          "output_type": "stream",
          "name": "stdout",
          "text": [
            "2022-05-12 04:27:09,951 epoch 11 - iter 4/43 - loss 0.09178175 - samples/sec: 52.27 - lr: 0.100000\n",
            "2022-05-12 04:27:12,353 epoch 11 - iter 8/43 - loss 0.10155495 - samples/sec: 53.34 - lr: 0.100000\n",
            "2022-05-12 04:27:14,839 epoch 11 - iter 12/43 - loss 0.11581886 - samples/sec: 51.65 - lr: 0.100000\n",
            "2022-05-12 04:27:17,217 epoch 11 - iter 16/43 - loss 0.11844476 - samples/sec: 53.90 - lr: 0.100000\n",
            "2022-05-12 04:27:19,553 epoch 11 - iter 20/43 - loss 0.11669050 - samples/sec: 54.88 - lr: 0.100000\n",
            "2022-05-12 04:27:22,223 epoch 11 - iter 24/43 - loss 0.11360431 - samples/sec: 48.00 - lr: 0.100000\n",
            "2022-05-12 04:27:24,448 epoch 11 - iter 28/43 - loss 0.11812527 - samples/sec: 57.57 - lr: 0.100000\n",
            "2022-05-12 04:27:26,892 epoch 11 - iter 32/43 - loss 0.11763115 - samples/sec: 52.46 - lr: 0.100000\n",
            "2022-05-12 04:27:29,336 epoch 11 - iter 36/43 - loss 0.11505698 - samples/sec: 52.41 - lr: 0.100000\n",
            "2022-05-12 04:27:31,441 epoch 11 - iter 40/43 - loss 0.11723842 - samples/sec: 60.91 - lr: 0.100000\n",
            "2022-05-12 04:27:32,801 ----------------------------------------------------------------------------------------------------\n",
            "2022-05-12 04:27:32,806 EPOCH 11 done: loss 0.1141 - lr 0.100000\n"
          ]
        },
        {
          "output_type": "stream",
          "name": "stderr",
          "text": [
            "100%|██████████| 9/9 [00:03<00:00,  2.44it/s]"
          ]
        },
        {
          "output_type": "stream",
          "name": "stdout",
          "text": [
            "2022-05-12 04:27:36,507 Evaluating as a multi-label problem: False\n",
            "2022-05-12 04:27:36,525 DEV : loss 0.10971860587596893 - f1-score (micro avg)  0.6261\n",
            "2022-05-12 04:27:36,539 BAD EPOCHS (no improvement): 2\n",
            "2022-05-12 04:27:36,542 ----------------------------------------------------------------------------------------------------\n"
          ]
        },
        {
          "output_type": "stream",
          "name": "stderr",
          "text": [
            "\n"
          ]
        },
        {
          "output_type": "stream",
          "name": "stdout",
          "text": [
            "2022-05-12 04:27:38,914 epoch 12 - iter 4/43 - loss 0.08020535 - samples/sec: 54.13 - lr: 0.100000\n",
            "2022-05-12 04:27:41,461 epoch 12 - iter 8/43 - loss 0.11334978 - samples/sec: 50.29 - lr: 0.100000\n",
            "2022-05-12 04:27:44,012 epoch 12 - iter 12/43 - loss 0.11323533 - samples/sec: 50.23 - lr: 0.100000\n",
            "2022-05-12 04:27:46,358 epoch 12 - iter 16/43 - loss 0.11280826 - samples/sec: 54.64 - lr: 0.100000\n",
            "2022-05-12 04:27:48,813 epoch 12 - iter 20/43 - loss 0.11966244 - samples/sec: 52.21 - lr: 0.100000\n",
            "2022-05-12 04:27:51,128 epoch 12 - iter 24/43 - loss 0.11729458 - samples/sec: 55.42 - lr: 0.100000\n",
            "2022-05-12 04:27:53,495 epoch 12 - iter 28/43 - loss 0.11398548 - samples/sec: 54.16 - lr: 0.100000\n",
            "2022-05-12 04:27:56,017 epoch 12 - iter 32/43 - loss 0.11064803 - samples/sec: 50.81 - lr: 0.100000\n",
            "2022-05-12 04:27:58,177 epoch 12 - iter 36/43 - loss 0.10934481 - samples/sec: 59.30 - lr: 0.100000\n",
            "2022-05-12 04:28:00,898 epoch 12 - iter 40/43 - loss 0.10819445 - samples/sec: 47.09 - lr: 0.100000\n",
            "2022-05-12 04:28:02,273 ----------------------------------------------------------------------------------------------------\n",
            "2022-05-12 04:28:02,275 EPOCH 12 done: loss 0.1101 - lr 0.100000\n"
          ]
        },
        {
          "output_type": "stream",
          "name": "stderr",
          "text": [
            "100%|██████████| 9/9 [00:04<00:00,  2.20it/s]"
          ]
        },
        {
          "output_type": "stream",
          "name": "stdout",
          "text": [
            "2022-05-12 04:28:06,379 Evaluating as a multi-label problem: False\n",
            "2022-05-12 04:28:06,399 DEV : loss 0.08272195607423782 - f1-score (micro avg)  0.6835\n",
            "2022-05-12 04:28:06,413 BAD EPOCHS (no improvement): 3\n",
            "2022-05-12 04:28:06,415 ----------------------------------------------------------------------------------------------------\n"
          ]
        },
        {
          "output_type": "stream",
          "name": "stderr",
          "text": [
            "\n"
          ]
        },
        {
          "output_type": "stream",
          "name": "stdout",
          "text": [
            "2022-05-12 04:28:08,818 epoch 13 - iter 4/43 - loss 0.10790380 - samples/sec: 53.38 - lr: 0.100000\n",
            "2022-05-12 04:28:11,331 epoch 13 - iter 8/43 - loss 0.11883120 - samples/sec: 50.99 - lr: 0.100000\n",
            "2022-05-12 04:28:13,565 epoch 13 - iter 12/43 - loss 0.11115810 - samples/sec: 57.37 - lr: 0.100000\n",
            "2022-05-12 04:28:16,109 epoch 13 - iter 16/43 - loss 0.12110384 - samples/sec: 50.35 - lr: 0.100000\n",
            "2022-05-12 04:28:18,461 epoch 13 - iter 20/43 - loss 0.11750127 - samples/sec: 54.47 - lr: 0.100000\n",
            "2022-05-12 04:28:21,023 epoch 13 - iter 24/43 - loss 0.11759915 - samples/sec: 50.08 - lr: 0.100000\n",
            "2022-05-12 04:28:23,362 epoch 13 - iter 28/43 - loss 0.11507808 - samples/sec: 54.79 - lr: 0.100000\n",
            "2022-05-12 04:28:25,909 epoch 13 - iter 32/43 - loss 0.11229183 - samples/sec: 50.30 - lr: 0.100000\n",
            "2022-05-12 04:28:28,261 epoch 13 - iter 36/43 - loss 0.10971581 - samples/sec: 54.47 - lr: 0.100000\n",
            "2022-05-12 04:28:30,668 epoch 13 - iter 40/43 - loss 0.10951698 - samples/sec: 53.24 - lr: 0.100000\n",
            "2022-05-12 04:28:32,074 ----------------------------------------------------------------------------------------------------\n",
            "2022-05-12 04:28:32,075 EPOCH 13 done: loss 0.1069 - lr 0.100000\n"
          ]
        },
        {
          "output_type": "stream",
          "name": "stderr",
          "text": [
            "100%|██████████| 9/9 [00:03<00:00,  2.40it/s]"
          ]
        },
        {
          "output_type": "stream",
          "name": "stdout",
          "text": [
            "2022-05-12 04:28:35,842 Evaluating as a multi-label problem: False\n",
            "2022-05-12 04:28:35,866 DEV : loss 0.10471440106630325 - f1-score (micro avg)  0.6397\n",
            "2022-05-12 04:28:35,880 Epoch    13: reducing learning rate of group 0 to 5.0000e-02.\n",
            "2022-05-12 04:28:35,883 BAD EPOCHS (no improvement): 4\n",
            "2022-05-12 04:28:35,889 ----------------------------------------------------------------------------------------------------\n"
          ]
        },
        {
          "output_type": "stream",
          "name": "stderr",
          "text": [
            "\n"
          ]
        },
        {
          "output_type": "stream",
          "name": "stdout",
          "text": [
            "2022-05-12 04:28:38,506 epoch 14 - iter 4/43 - loss 0.11830724 - samples/sec: 49.08 - lr: 0.050000\n",
            "2022-05-12 04:28:40,859 epoch 14 - iter 8/43 - loss 0.10210243 - samples/sec: 54.53 - lr: 0.050000\n",
            "2022-05-12 04:28:43,486 epoch 14 - iter 12/43 - loss 0.10289845 - samples/sec: 48.76 - lr: 0.050000\n",
            "2022-05-12 04:28:45,948 epoch 14 - iter 16/43 - loss 0.09551704 - samples/sec: 52.06 - lr: 0.050000\n",
            "2022-05-12 04:28:48,349 epoch 14 - iter 20/43 - loss 0.08936982 - samples/sec: 53.43 - lr: 0.050000\n",
            "2022-05-12 04:28:50,771 epoch 14 - iter 24/43 - loss 0.09042298 - samples/sec: 52.89 - lr: 0.050000\n",
            "2022-05-12 04:28:53,225 epoch 14 - iter 28/43 - loss 0.08650579 - samples/sec: 52.27 - lr: 0.050000\n",
            "2022-05-12 04:28:55,642 epoch 14 - iter 32/43 - loss 0.08720251 - samples/sec: 53.01 - lr: 0.050000\n",
            "2022-05-12 04:28:58,062 epoch 14 - iter 36/43 - loss 0.08779875 - samples/sec: 52.96 - lr: 0.050000\n",
            "2022-05-12 04:29:00,561 epoch 14 - iter 40/43 - loss 0.08768883 - samples/sec: 51.28 - lr: 0.050000\n",
            "2022-05-12 04:29:01,901 ----------------------------------------------------------------------------------------------------\n",
            "2022-05-12 04:29:01,902 EPOCH 14 done: loss 0.0871 - lr 0.050000\n"
          ]
        },
        {
          "output_type": "stream",
          "name": "stderr",
          "text": [
            "100%|██████████| 9/9 [00:03<00:00,  2.39it/s]"
          ]
        },
        {
          "output_type": "stream",
          "name": "stdout",
          "text": [
            "2022-05-12 04:29:05,686 Evaluating as a multi-label problem: False\n",
            "2022-05-12 04:29:05,708 DEV : loss 0.08189141750335693 - f1-score (micro avg)  0.6826\n",
            "2022-05-12 04:29:05,730 BAD EPOCHS (no improvement): 1\n",
            "2022-05-12 04:29:05,731 ----------------------------------------------------------------------------------------------------\n"
          ]
        },
        {
          "output_type": "stream",
          "name": "stderr",
          "text": [
            "\n"
          ]
        },
        {
          "output_type": "stream",
          "name": "stdout",
          "text": [
            "2022-05-12 04:29:08,338 epoch 15 - iter 4/43 - loss 0.08594100 - samples/sec: 49.30 - lr: 0.050000\n",
            "2022-05-12 04:29:10,785 epoch 15 - iter 8/43 - loss 0.08379158 - samples/sec: 52.38 - lr: 0.050000\n",
            "2022-05-12 04:29:13,507 epoch 15 - iter 12/43 - loss 0.08124469 - samples/sec: 47.06 - lr: 0.050000\n",
            "2022-05-12 04:29:15,955 epoch 15 - iter 16/43 - loss 0.07669396 - samples/sec: 52.36 - lr: 0.050000\n",
            "2022-05-12 04:29:18,525 epoch 15 - iter 20/43 - loss 0.07799301 - samples/sec: 49.87 - lr: 0.050000\n",
            "2022-05-12 04:29:20,680 epoch 15 - iter 24/43 - loss 0.07944958 - samples/sec: 59.47 - lr: 0.050000\n",
            "2022-05-12 04:29:23,081 epoch 15 - iter 28/43 - loss 0.08260224 - samples/sec: 53.35 - lr: 0.050000\n",
            "2022-05-12 04:29:25,447 epoch 15 - iter 32/43 - loss 0.08334866 - samples/sec: 54.14 - lr: 0.050000\n",
            "2022-05-12 04:29:27,928 epoch 15 - iter 36/43 - loss 0.08383217 - samples/sec: 51.64 - lr: 0.050000\n",
            "2022-05-12 04:29:30,187 epoch 15 - iter 40/43 - loss 0.08433888 - samples/sec: 56.76 - lr: 0.050000\n",
            "2022-05-12 04:29:31,632 ----------------------------------------------------------------------------------------------------\n",
            "2022-05-12 04:29:31,634 EPOCH 15 done: loss 0.0844 - lr 0.050000\n"
          ]
        },
        {
          "output_type": "stream",
          "name": "stderr",
          "text": [
            "100%|██████████| 9/9 [00:03<00:00,  2.43it/s]"
          ]
        },
        {
          "output_type": "stream",
          "name": "stdout",
          "text": [
            "2022-05-12 04:29:35,362 Evaluating as a multi-label problem: False\n",
            "2022-05-12 04:29:35,397 DEV : loss 0.07838036119937897 - f1-score (micro avg)  0.7071\n",
            "2022-05-12 04:29:35,412 BAD EPOCHS (no improvement): 0\n",
            "2022-05-12 04:29:35,414 saving best model\n"
          ]
        },
        {
          "output_type": "stream",
          "name": "stderr",
          "text": [
            "\n"
          ]
        },
        {
          "output_type": "stream",
          "name": "stdout",
          "text": [
            "2022-05-12 04:29:45,282 ----------------------------------------------------------------------------------------------------\n",
            "2022-05-12 04:29:47,908 epoch 16 - iter 4/43 - loss 0.10213129 - samples/sec: 49.28 - lr: 0.050000\n",
            "2022-05-12 04:29:50,323 epoch 16 - iter 8/43 - loss 0.09358369 - samples/sec: 53.07 - lr: 0.050000\n",
            "2022-05-12 04:29:52,639 epoch 16 - iter 12/43 - loss 0.08757496 - samples/sec: 55.35 - lr: 0.050000\n",
            "2022-05-12 04:29:55,095 epoch 16 - iter 16/43 - loss 0.08988210 - samples/sec: 52.19 - lr: 0.050000\n",
            "2022-05-12 04:29:57,657 epoch 16 - iter 20/43 - loss 0.09398299 - samples/sec: 50.01 - lr: 0.050000\n",
            "2022-05-12 04:30:00,172 epoch 16 - iter 24/43 - loss 0.09452279 - samples/sec: 51.03 - lr: 0.050000\n",
            "2022-05-12 04:30:02,631 epoch 16 - iter 28/43 - loss 0.09517965 - samples/sec: 52.11 - lr: 0.050000\n",
            "2022-05-12 04:30:05,024 epoch 16 - iter 32/43 - loss 0.09061059 - samples/sec: 53.55 - lr: 0.050000\n",
            "2022-05-12 04:30:07,464 epoch 16 - iter 36/43 - loss 0.08693938 - samples/sec: 52.50 - lr: 0.050000\n",
            "2022-05-12 04:30:09,792 epoch 16 - iter 40/43 - loss 0.08349586 - samples/sec: 55.03 - lr: 0.050000\n",
            "2022-05-12 04:30:11,302 ----------------------------------------------------------------------------------------------------\n",
            "2022-05-12 04:30:11,305 EPOCH 16 done: loss 0.0822 - lr 0.050000\n"
          ]
        },
        {
          "output_type": "stream",
          "name": "stderr",
          "text": [
            "100%|██████████| 9/9 [00:03<00:00,  2.44it/s]"
          ]
        },
        {
          "output_type": "stream",
          "name": "stdout",
          "text": [
            "2022-05-12 04:30:15,010 Evaluating as a multi-label problem: False\n",
            "2022-05-12 04:30:15,029 DEV : loss 0.0815553218126297 - f1-score (micro avg)  0.7113\n",
            "2022-05-12 04:30:15,044 BAD EPOCHS (no improvement): 0\n",
            "2022-05-12 04:30:15,047 saving best model\n"
          ]
        },
        {
          "output_type": "stream",
          "name": "stderr",
          "text": [
            "\n"
          ]
        },
        {
          "output_type": "stream",
          "name": "stdout",
          "text": [
            "2022-05-12 04:30:24,917 ----------------------------------------------------------------------------------------------------\n",
            "2022-05-12 04:30:27,143 epoch 17 - iter 4/43 - loss 0.07834535 - samples/sec: 57.62 - lr: 0.050000\n",
            "2022-05-12 04:30:29,428 epoch 17 - iter 8/43 - loss 0.08024369 - samples/sec: 56.08 - lr: 0.050000\n",
            "2022-05-12 04:30:31,809 epoch 17 - iter 12/43 - loss 0.07761245 - samples/sec: 53.82 - lr: 0.050000\n",
            "2022-05-12 04:30:34,389 epoch 17 - iter 16/43 - loss 0.07965358 - samples/sec: 49.65 - lr: 0.050000\n",
            "2022-05-12 04:30:36,795 epoch 17 - iter 20/43 - loss 0.08269086 - samples/sec: 53.25 - lr: 0.050000\n",
            "2022-05-12 04:30:39,186 epoch 17 - iter 24/43 - loss 0.08330799 - samples/sec: 53.57 - lr: 0.050000\n",
            "2022-05-12 04:30:41,660 epoch 17 - iter 28/43 - loss 0.08149945 - samples/sec: 51.81 - lr: 0.050000\n",
            "2022-05-12 04:30:44,178 epoch 17 - iter 32/43 - loss 0.08067311 - samples/sec: 50.88 - lr: 0.050000\n",
            "2022-05-12 04:30:46,696 epoch 17 - iter 36/43 - loss 0.08273476 - samples/sec: 50.86 - lr: 0.050000\n",
            "2022-05-12 04:30:49,263 epoch 17 - iter 40/43 - loss 0.08105718 - samples/sec: 49.93 - lr: 0.050000\n",
            "2022-05-12 04:30:50,648 ----------------------------------------------------------------------------------------------------\n",
            "2022-05-12 04:30:50,650 EPOCH 17 done: loss 0.0790 - lr 0.050000\n"
          ]
        },
        {
          "output_type": "stream",
          "name": "stderr",
          "text": [
            "100%|██████████| 9/9 [00:04<00:00,  2.20it/s]"
          ]
        },
        {
          "output_type": "stream",
          "name": "stdout",
          "text": [
            "2022-05-12 04:30:54,767 Evaluating as a multi-label problem: False\n",
            "2022-05-12 04:30:54,784 DEV : loss 0.07177051156759262 - f1-score (micro avg)  0.7073\n",
            "2022-05-12 04:30:54,799 BAD EPOCHS (no improvement): 1\n",
            "2022-05-12 04:30:54,803 ----------------------------------------------------------------------------------------------------\n"
          ]
        },
        {
          "output_type": "stream",
          "name": "stderr",
          "text": [
            "\n"
          ]
        },
        {
          "output_type": "stream",
          "name": "stdout",
          "text": [
            "2022-05-12 04:30:57,277 epoch 18 - iter 4/43 - loss 0.07278139 - samples/sec: 51.89 - lr: 0.050000\n",
            "2022-05-12 04:30:59,701 epoch 18 - iter 8/43 - loss 0.06873833 - samples/sec: 52.84 - lr: 0.050000\n",
            "2022-05-12 04:31:02,281 epoch 18 - iter 12/43 - loss 0.06877147 - samples/sec: 49.70 - lr: 0.050000\n",
            "2022-05-12 04:31:04,556 epoch 18 - iter 16/43 - loss 0.07147487 - samples/sec: 56.35 - lr: 0.050000\n",
            "2022-05-12 04:31:06,718 epoch 18 - iter 20/43 - loss 0.07321524 - samples/sec: 59.26 - lr: 0.050000\n",
            "2022-05-12 04:31:09,094 epoch 18 - iter 24/43 - loss 0.07084196 - samples/sec: 53.95 - lr: 0.050000\n",
            "2022-05-12 04:31:11,616 epoch 18 - iter 28/43 - loss 0.07149187 - samples/sec: 50.83 - lr: 0.050000\n",
            "2022-05-12 04:31:14,122 epoch 18 - iter 32/43 - loss 0.07265402 - samples/sec: 51.12 - lr: 0.050000\n",
            "2022-05-12 04:31:16,685 epoch 18 - iter 36/43 - loss 0.07356637 - samples/sec: 50.02 - lr: 0.050000\n",
            "2022-05-12 04:31:19,199 epoch 18 - iter 40/43 - loss 0.07530908 - samples/sec: 50.98 - lr: 0.050000\n",
            "2022-05-12 04:31:20,469 ----------------------------------------------------------------------------------------------------\n",
            "2022-05-12 04:31:20,470 EPOCH 18 done: loss 0.0751 - lr 0.050000\n"
          ]
        },
        {
          "output_type": "stream",
          "name": "stderr",
          "text": [
            "100%|██████████| 9/9 [00:03<00:00,  2.42it/s]"
          ]
        },
        {
          "output_type": "stream",
          "name": "stdout",
          "text": [
            "2022-05-12 04:31:24,207 Evaluating as a multi-label problem: False\n",
            "2022-05-12 04:31:24,232 DEV : loss 0.07808586210012436 - f1-score (micro avg)  0.698\n",
            "2022-05-12 04:31:24,246 BAD EPOCHS (no improvement): 2\n",
            "2022-05-12 04:31:24,248 ----------------------------------------------------------------------------------------------------\n"
          ]
        },
        {
          "output_type": "stream",
          "name": "stderr",
          "text": [
            "\n"
          ]
        },
        {
          "output_type": "stream",
          "name": "stdout",
          "text": [
            "2022-05-12 04:31:26,726 epoch 19 - iter 4/43 - loss 0.07077428 - samples/sec: 51.82 - lr: 0.050000\n",
            "2022-05-12 04:31:29,105 epoch 19 - iter 8/43 - loss 0.07895763 - samples/sec: 53.85 - lr: 0.050000\n",
            "2022-05-12 04:31:31,461 epoch 19 - iter 12/43 - loss 0.07552708 - samples/sec: 54.39 - lr: 0.050000\n",
            "2022-05-12 04:31:33,656 epoch 19 - iter 16/43 - loss 0.07705582 - samples/sec: 58.48 - lr: 0.050000\n",
            "2022-05-12 04:31:36,119 epoch 19 - iter 20/43 - loss 0.07723078 - samples/sec: 52.05 - lr: 0.050000\n",
            "2022-05-12 04:31:38,644 epoch 19 - iter 24/43 - loss 0.07531903 - samples/sec: 50.74 - lr: 0.050000\n",
            "2022-05-12 04:31:41,198 epoch 19 - iter 28/43 - loss 0.07692687 - samples/sec: 50.17 - lr: 0.050000\n",
            "2022-05-12 04:31:43,549 epoch 19 - iter 32/43 - loss 0.07515961 - samples/sec: 54.51 - lr: 0.050000\n",
            "2022-05-12 04:31:46,350 epoch 19 - iter 36/43 - loss 0.07385721 - samples/sec: 45.75 - lr: 0.050000\n",
            "2022-05-12 04:31:48,711 epoch 19 - iter 40/43 - loss 0.07202086 - samples/sec: 54.44 - lr: 0.050000\n",
            "2022-05-12 04:31:49,953 ----------------------------------------------------------------------------------------------------\n",
            "2022-05-12 04:31:49,955 EPOCH 19 done: loss 0.0715 - lr 0.050000\n"
          ]
        },
        {
          "output_type": "stream",
          "name": "stderr",
          "text": [
            "100%|██████████| 9/9 [00:03<00:00,  2.41it/s]"
          ]
        },
        {
          "output_type": "stream",
          "name": "stdout",
          "text": [
            "2022-05-12 04:31:53,704 Evaluating as a multi-label problem: False\n",
            "2022-05-12 04:31:53,733 DEV : loss 0.07343596965074539 - f1-score (micro avg)  0.7024\n",
            "2022-05-12 04:31:53,748 BAD EPOCHS (no improvement): 3\n",
            "2022-05-12 04:31:53,750 ----------------------------------------------------------------------------------------------------\n"
          ]
        },
        {
          "output_type": "stream",
          "name": "stderr",
          "text": [
            "\n"
          ]
        },
        {
          "output_type": "stream",
          "name": "stdout",
          "text": [
            "2022-05-12 04:31:56,254 epoch 20 - iter 4/43 - loss 0.08006343 - samples/sec: 51.26 - lr: 0.050000\n",
            "2022-05-12 04:31:58,608 epoch 20 - iter 8/43 - loss 0.08482827 - samples/sec: 54.43 - lr: 0.050000\n",
            "2022-05-12 04:32:01,082 epoch 20 - iter 12/43 - loss 0.07589390 - samples/sec: 51.78 - lr: 0.050000\n",
            "2022-05-12 04:32:03,498 epoch 20 - iter 16/43 - loss 0.06911066 - samples/sec: 53.05 - lr: 0.050000\n",
            "2022-05-12 04:32:05,937 epoch 20 - iter 20/43 - loss 0.06877364 - samples/sec: 52.55 - lr: 0.050000\n",
            "2022-05-12 04:32:08,601 epoch 20 - iter 24/43 - loss 0.07062892 - samples/sec: 48.10 - lr: 0.050000\n",
            "2022-05-12 04:32:10,815 epoch 20 - iter 28/43 - loss 0.07168971 - samples/sec: 57.88 - lr: 0.050000\n",
            "2022-05-12 04:32:13,193 epoch 20 - iter 32/43 - loss 0.07087352 - samples/sec: 53.90 - lr: 0.050000\n",
            "2022-05-12 04:32:15,495 epoch 20 - iter 36/43 - loss 0.06984637 - samples/sec: 55.64 - lr: 0.050000\n",
            "2022-05-12 04:32:17,901 epoch 20 - iter 40/43 - loss 0.06857543 - samples/sec: 53.25 - lr: 0.050000\n",
            "2022-05-12 04:32:19,202 ----------------------------------------------------------------------------------------------------\n",
            "2022-05-12 04:32:19,203 EPOCH 20 done: loss 0.0689 - lr 0.050000\n"
          ]
        },
        {
          "output_type": "stream",
          "name": "stderr",
          "text": [
            "100%|██████████| 9/9 [00:04<00:00,  2.20it/s]"
          ]
        },
        {
          "output_type": "stream",
          "name": "stdout",
          "text": [
            "2022-05-12 04:32:23,315 Evaluating as a multi-label problem: False\n",
            "2022-05-12 04:32:23,342 DEV : loss 0.07472072541713715 - f1-score (micro avg)  0.6973\n",
            "2022-05-12 04:32:23,356 Epoch    20: reducing learning rate of group 0 to 2.5000e-02.\n",
            "2022-05-12 04:32:23,358 BAD EPOCHS (no improvement): 4\n",
            "2022-05-12 04:32:23,360 ----------------------------------------------------------------------------------------------------\n"
          ]
        },
        {
          "output_type": "stream",
          "name": "stderr",
          "text": [
            "\n"
          ]
        },
        {
          "output_type": "stream",
          "name": "stdout",
          "text": [
            "2022-05-12 04:32:25,967 epoch 21 - iter 4/43 - loss 0.06986813 - samples/sec: 49.18 - lr: 0.025000\n",
            "2022-05-12 04:32:28,511 epoch 21 - iter 8/43 - loss 0.06447462 - samples/sec: 50.37 - lr: 0.025000\n",
            "2022-05-12 04:32:30,827 epoch 21 - iter 12/43 - loss 0.06036415 - samples/sec: 55.34 - lr: 0.025000\n",
            "2022-05-12 04:32:33,142 epoch 21 - iter 16/43 - loss 0.06315638 - samples/sec: 55.42 - lr: 0.025000\n",
            "2022-05-12 04:32:35,616 epoch 21 - iter 20/43 - loss 0.06475377 - samples/sec: 51.86 - lr: 0.025000\n",
            "2022-05-12 04:32:38,233 epoch 21 - iter 24/43 - loss 0.06425908 - samples/sec: 48.95 - lr: 0.025000\n",
            "2022-05-12 04:32:40,586 epoch 21 - iter 28/43 - loss 0.06612600 - samples/sec: 54.46 - lr: 0.025000\n",
            "2022-05-12 04:32:42,894 epoch 21 - iter 32/43 - loss 0.06593699 - samples/sec: 55.54 - lr: 0.025000\n",
            "2022-05-12 04:32:45,410 epoch 21 - iter 36/43 - loss 0.06695069 - samples/sec: 50.93 - lr: 0.025000\n",
            "2022-05-12 04:32:47,631 epoch 21 - iter 40/43 - loss 0.06603264 - samples/sec: 57.70 - lr: 0.025000\n",
            "2022-05-12 04:32:49,098 ----------------------------------------------------------------------------------------------------\n",
            "2022-05-12 04:32:49,099 EPOCH 21 done: loss 0.0669 - lr 0.025000\n"
          ]
        },
        {
          "output_type": "stream",
          "name": "stderr",
          "text": [
            "100%|██████████| 9/9 [00:03<00:00,  2.40it/s]"
          ]
        },
        {
          "output_type": "stream",
          "name": "stdout",
          "text": [
            "2022-05-12 04:32:52,866 Evaluating as a multi-label problem: False\n",
            "2022-05-12 04:32:52,895 DEV : loss 0.07477864623069763 - f1-score (micro avg)  0.699\n",
            "2022-05-12 04:32:52,914 BAD EPOCHS (no improvement): 1\n",
            "2022-05-12 04:32:52,917 ----------------------------------------------------------------------------------------------------\n"
          ]
        },
        {
          "output_type": "stream",
          "name": "stderr",
          "text": [
            "\n"
          ]
        },
        {
          "output_type": "stream",
          "name": "stdout",
          "text": [
            "2022-05-12 04:32:55,479 epoch 22 - iter 4/43 - loss 0.07705725 - samples/sec: 50.08 - lr: 0.025000\n",
            "2022-05-12 04:32:57,991 epoch 22 - iter 8/43 - loss 0.06707486 - samples/sec: 50.99 - lr: 0.025000\n",
            "2022-05-12 04:33:00,422 epoch 22 - iter 12/43 - loss 0.06641835 - samples/sec: 52.73 - lr: 0.025000\n",
            "2022-05-12 04:33:02,779 epoch 22 - iter 16/43 - loss 0.06520761 - samples/sec: 54.37 - lr: 0.025000\n",
            "2022-05-12 04:33:05,301 epoch 22 - iter 20/43 - loss 0.06494176 - samples/sec: 50.83 - lr: 0.025000\n",
            "2022-05-12 04:33:07,847 epoch 22 - iter 24/43 - loss 0.06170623 - samples/sec: 50.31 - lr: 0.025000\n",
            "2022-05-12 04:33:10,209 epoch 22 - iter 28/43 - loss 0.06164932 - samples/sec: 54.27 - lr: 0.025000\n",
            "2022-05-12 04:33:12,611 epoch 22 - iter 32/43 - loss 0.06185954 - samples/sec: 53.34 - lr: 0.025000\n",
            "2022-05-12 04:33:15,002 epoch 22 - iter 36/43 - loss 0.06207394 - samples/sec: 53.69 - lr: 0.025000\n",
            "2022-05-12 04:33:17,295 epoch 22 - iter 40/43 - loss 0.06342934 - samples/sec: 55.89 - lr: 0.025000\n",
            "2022-05-12 04:33:18,735 ----------------------------------------------------------------------------------------------------\n",
            "2022-05-12 04:33:18,738 EPOCH 22 done: loss 0.0636 - lr 0.025000\n"
          ]
        },
        {
          "output_type": "stream",
          "name": "stderr",
          "text": [
            "100%|██████████| 9/9 [00:03<00:00,  2.44it/s]"
          ]
        },
        {
          "output_type": "stream",
          "name": "stdout",
          "text": [
            "2022-05-12 04:33:22,444 Evaluating as a multi-label problem: False\n",
            "2022-05-12 04:33:22,464 DEV : loss 0.07967667281627655 - f1-score (micro avg)  0.6928\n",
            "2022-05-12 04:33:22,479 BAD EPOCHS (no improvement): 2\n",
            "2022-05-12 04:33:22,481 ----------------------------------------------------------------------------------------------------\n"
          ]
        },
        {
          "output_type": "stream",
          "name": "stderr",
          "text": [
            "\n"
          ]
        },
        {
          "output_type": "stream",
          "name": "stdout",
          "text": [
            "2022-05-12 04:33:25,074 epoch 23 - iter 4/43 - loss 0.05918645 - samples/sec: 49.52 - lr: 0.025000\n",
            "2022-05-12 04:33:28,009 epoch 23 - iter 8/43 - loss 0.06610480 - samples/sec: 43.63 - lr: 0.025000\n",
            "2022-05-12 04:33:30,392 epoch 23 - iter 12/43 - loss 0.06693996 - samples/sec: 53.79 - lr: 0.025000\n",
            "2022-05-12 04:33:32,908 epoch 23 - iter 16/43 - loss 0.06443486 - samples/sec: 51.00 - lr: 0.025000\n",
            "2022-05-12 04:33:35,195 epoch 23 - iter 20/43 - loss 0.06531736 - samples/sec: 56.02 - lr: 0.025000\n",
            "2022-05-12 04:33:37,608 epoch 23 - iter 24/43 - loss 0.06447833 - samples/sec: 53.09 - lr: 0.025000\n",
            "2022-05-12 04:33:40,134 epoch 23 - iter 28/43 - loss 0.06283233 - samples/sec: 50.79 - lr: 0.025000\n",
            "2022-05-12 04:33:42,629 epoch 23 - iter 32/43 - loss 0.06155946 - samples/sec: 51.39 - lr: 0.025000\n",
            "2022-05-12 04:33:45,070 epoch 23 - iter 36/43 - loss 0.06297825 - samples/sec: 52.50 - lr: 0.025000\n",
            "2022-05-12 04:33:47,480 epoch 23 - iter 40/43 - loss 0.06217009 - samples/sec: 53.24 - lr: 0.025000\n",
            "2022-05-12 04:33:48,900 ----------------------------------------------------------------------------------------------------\n",
            "2022-05-12 04:33:48,903 EPOCH 23 done: loss 0.0628 - lr 0.025000\n"
          ]
        },
        {
          "output_type": "stream",
          "name": "stderr",
          "text": [
            "100%|██████████| 9/9 [00:03<00:00,  2.40it/s]"
          ]
        },
        {
          "output_type": "stream",
          "name": "stdout",
          "text": [
            "2022-05-12 04:33:52,669 Evaluating as a multi-label problem: False\n",
            "2022-05-12 04:33:52,686 DEV : loss 0.08014415204524994 - f1-score (micro avg)  0.6698\n",
            "2022-05-12 04:33:52,701 BAD EPOCHS (no improvement): 3\n",
            "2022-05-12 04:33:52,705 ----------------------------------------------------------------------------------------------------\n"
          ]
        },
        {
          "output_type": "stream",
          "name": "stderr",
          "text": [
            "\n"
          ]
        },
        {
          "output_type": "stream",
          "name": "stdout",
          "text": [
            "2022-05-12 04:33:54,880 epoch 24 - iter 4/43 - loss 0.05591439 - samples/sec: 59.01 - lr: 0.025000\n",
            "2022-05-12 04:33:57,253 epoch 24 - iter 8/43 - loss 0.05441571 - samples/sec: 54.01 - lr: 0.025000\n",
            "2022-05-12 04:33:59,856 epoch 24 - iter 12/43 - loss 0.05171611 - samples/sec: 49.24 - lr: 0.025000\n",
            "2022-05-12 04:34:02,255 epoch 24 - iter 16/43 - loss 0.05713828 - samples/sec: 53.41 - lr: 0.025000\n",
            "2022-05-12 04:34:04,643 epoch 24 - iter 20/43 - loss 0.06137976 - samples/sec: 53.67 - lr: 0.025000\n",
            "2022-05-12 04:34:07,122 epoch 24 - iter 24/43 - loss 0.06230396 - samples/sec: 51.67 - lr: 0.025000\n",
            "2022-05-12 04:34:09,522 epoch 24 - iter 28/43 - loss 0.06333402 - samples/sec: 53.49 - lr: 0.025000\n",
            "2022-05-12 04:34:11,881 epoch 24 - iter 32/43 - loss 0.06320063 - samples/sec: 54.31 - lr: 0.025000\n",
            "2022-05-12 04:34:14,530 epoch 24 - iter 36/43 - loss 0.06204135 - samples/sec: 48.38 - lr: 0.025000\n",
            "2022-05-12 04:34:16,865 epoch 24 - iter 40/43 - loss 0.06076977 - samples/sec: 54.88 - lr: 0.025000\n",
            "2022-05-12 04:34:18,243 ----------------------------------------------------------------------------------------------------\n",
            "2022-05-12 04:34:18,244 EPOCH 24 done: loss 0.0597 - lr 0.025000\n"
          ]
        },
        {
          "output_type": "stream",
          "name": "stderr",
          "text": [
            "100%|██████████| 9/9 [00:03<00:00,  2.43it/s]"
          ]
        },
        {
          "output_type": "stream",
          "name": "stdout",
          "text": [
            "2022-05-12 04:34:21,975 Evaluating as a multi-label problem: False\n",
            "2022-05-12 04:34:21,993 DEV : loss 0.07370781898498535 - f1-score (micro avg)  0.7138\n",
            "2022-05-12 04:34:22,007 BAD EPOCHS (no improvement): 0\n",
            "2022-05-12 04:34:22,009 saving best model\n"
          ]
        },
        {
          "output_type": "stream",
          "name": "stderr",
          "text": [
            "\n"
          ]
        },
        {
          "output_type": "stream",
          "name": "stdout",
          "text": [
            "2022-05-12 04:34:31,827 ----------------------------------------------------------------------------------------------------\n",
            "2022-05-12 04:34:34,382 epoch 25 - iter 4/43 - loss 0.06888790 - samples/sec: 51.21 - lr: 0.025000\n",
            "2022-05-12 04:34:36,649 epoch 25 - iter 8/43 - loss 0.06457344 - samples/sec: 56.51 - lr: 0.025000\n",
            "2022-05-12 04:34:38,981 epoch 25 - iter 12/43 - loss 0.06578937 - samples/sec: 54.97 - lr: 0.025000\n",
            "2022-05-12 04:34:41,476 epoch 25 - iter 16/43 - loss 0.06641618 - samples/sec: 51.34 - lr: 0.025000\n",
            "2022-05-12 04:34:43,871 epoch 25 - iter 20/43 - loss 0.06228954 - samples/sec: 53.49 - lr: 0.025000\n",
            "2022-05-12 04:34:46,317 epoch 25 - iter 24/43 - loss 0.06516097 - samples/sec: 52.38 - lr: 0.025000\n",
            "2022-05-12 04:34:48,594 epoch 25 - iter 28/43 - loss 0.06602164 - samples/sec: 56.27 - lr: 0.025000\n",
            "2022-05-12 04:34:51,153 epoch 25 - iter 32/43 - loss 0.06440321 - samples/sec: 50.06 - lr: 0.025000\n",
            "2022-05-12 04:34:53,726 epoch 25 - iter 36/43 - loss 0.06276088 - samples/sec: 49.79 - lr: 0.025000\n",
            "2022-05-12 04:34:56,274 epoch 25 - iter 40/43 - loss 0.06099146 - samples/sec: 50.30 - lr: 0.025000\n",
            "2022-05-12 04:34:57,551 ----------------------------------------------------------------------------------------------------\n",
            "2022-05-12 04:34:57,553 EPOCH 25 done: loss 0.0606 - lr 0.025000\n"
          ]
        },
        {
          "output_type": "stream",
          "name": "stderr",
          "text": [
            "100%|██████████| 9/9 [00:04<00:00,  2.19it/s]"
          ]
        },
        {
          "output_type": "stream",
          "name": "stdout",
          "text": [
            "2022-05-12 04:35:01,694 Evaluating as a multi-label problem: False\n",
            "2022-05-12 04:35:01,713 DEV : loss 0.07259213179349899 - f1-score (micro avg)  0.7207\n",
            "2022-05-12 04:35:01,729 BAD EPOCHS (no improvement): 0\n",
            "2022-05-12 04:35:01,733 saving best model\n"
          ]
        },
        {
          "output_type": "stream",
          "name": "stderr",
          "text": [
            "\n"
          ]
        },
        {
          "output_type": "stream",
          "name": "stdout",
          "text": [
            "2022-05-12 04:35:11,523 ----------------------------------------------------------------------------------------------------\n",
            "2022-05-12 04:35:13,695 epoch 26 - iter 4/43 - loss 0.04234350 - samples/sec: 59.59 - lr: 0.025000\n",
            "2022-05-12 04:35:16,040 epoch 26 - iter 8/43 - loss 0.05350607 - samples/sec: 54.67 - lr: 0.025000\n",
            "2022-05-12 04:35:18,603 epoch 26 - iter 12/43 - loss 0.04893889 - samples/sec: 50.02 - lr: 0.025000\n",
            "2022-05-12 04:35:21,029 epoch 26 - iter 16/43 - loss 0.05225491 - samples/sec: 52.81 - lr: 0.025000\n",
            "2022-05-12 04:35:23,536 epoch 26 - iter 20/43 - loss 0.05501869 - samples/sec: 51.11 - lr: 0.025000\n",
            "2022-05-12 04:35:25,943 epoch 26 - iter 24/43 - loss 0.05517838 - samples/sec: 53.22 - lr: 0.025000\n",
            "2022-05-12 04:35:28,350 epoch 26 - iter 28/43 - loss 0.05701255 - samples/sec: 53.25 - lr: 0.025000\n",
            "2022-05-12 04:35:30,842 epoch 26 - iter 32/43 - loss 0.05895749 - samples/sec: 51.41 - lr: 0.025000\n",
            "2022-05-12 04:35:33,256 epoch 26 - iter 36/43 - loss 0.05931209 - samples/sec: 53.14 - lr: 0.025000\n",
            "2022-05-12 04:35:35,717 epoch 26 - iter 40/43 - loss 0.05841858 - samples/sec: 52.08 - lr: 0.025000\n",
            "2022-05-12 04:35:37,165 ----------------------------------------------------------------------------------------------------\n",
            "2022-05-12 04:35:37,167 EPOCH 26 done: loss 0.0586 - lr 0.025000\n"
          ]
        },
        {
          "output_type": "stream",
          "name": "stderr",
          "text": [
            "100%|██████████| 9/9 [00:03<00:00,  2.42it/s]"
          ]
        },
        {
          "output_type": "stream",
          "name": "stdout",
          "text": [
            "2022-05-12 04:35:40,897 Evaluating as a multi-label problem: False\n",
            "2022-05-12 04:35:40,923 DEV : loss 0.07197801768779755 - f1-score (micro avg)  0.7073\n",
            "2022-05-12 04:35:40,938 BAD EPOCHS (no improvement): 1\n",
            "2022-05-12 04:35:40,940 ----------------------------------------------------------------------------------------------------\n"
          ]
        },
        {
          "output_type": "stream",
          "name": "stderr",
          "text": [
            "\n"
          ]
        },
        {
          "output_type": "stream",
          "name": "stdout",
          "text": [
            "2022-05-12 04:35:43,440 epoch 27 - iter 4/43 - loss 0.07075373 - samples/sec: 51.36 - lr: 0.025000\n",
            "2022-05-12 04:35:45,827 epoch 27 - iter 8/43 - loss 0.06281384 - samples/sec: 53.67 - lr: 0.025000\n",
            "2022-05-12 04:35:48,344 epoch 27 - iter 12/43 - loss 0.05926535 - samples/sec: 50.91 - lr: 0.025000\n",
            "2022-05-12 04:35:50,937 epoch 27 - iter 16/43 - loss 0.05808614 - samples/sec: 49.39 - lr: 0.025000\n",
            "2022-05-12 04:35:53,361 epoch 27 - iter 20/43 - loss 0.05589545 - samples/sec: 52.85 - lr: 0.025000\n",
            "2022-05-12 04:35:55,754 epoch 27 - iter 24/43 - loss 0.05716795 - samples/sec: 53.57 - lr: 0.025000\n",
            "2022-05-12 04:35:58,194 epoch 27 - iter 28/43 - loss 0.05879735 - samples/sec: 52.50 - lr: 0.025000\n",
            "2022-05-12 04:36:00,669 epoch 27 - iter 32/43 - loss 0.05716393 - samples/sec: 51.78 - lr: 0.025000\n",
            "2022-05-12 04:36:03,127 epoch 27 - iter 36/43 - loss 0.05717017 - samples/sec: 52.13 - lr: 0.025000\n",
            "2022-05-12 04:36:05,522 epoch 27 - iter 40/43 - loss 0.05687930 - samples/sec: 53.48 - lr: 0.025000\n",
            "2022-05-12 04:36:06,790 ----------------------------------------------------------------------------------------------------\n",
            "2022-05-12 04:36:06,793 EPOCH 27 done: loss 0.0574 - lr 0.025000\n"
          ]
        },
        {
          "output_type": "stream",
          "name": "stderr",
          "text": [
            "100%|██████████| 9/9 [00:03<00:00,  2.43it/s]"
          ]
        },
        {
          "output_type": "stream",
          "name": "stdout",
          "text": [
            "2022-05-12 04:36:10,508 Evaluating as a multi-label problem: False\n",
            "2022-05-12 04:36:10,529 DEV : loss 0.07252401858568192 - f1-score (micro avg)  0.7062\n",
            "2022-05-12 04:36:10,544 BAD EPOCHS (no improvement): 2\n",
            "2022-05-12 04:36:10,546 ----------------------------------------------------------------------------------------------------\n"
          ]
        },
        {
          "output_type": "stream",
          "name": "stderr",
          "text": [
            "\n"
          ]
        },
        {
          "output_type": "stream",
          "name": "stdout",
          "text": [
            "2022-05-12 04:36:12,834 epoch 28 - iter 4/43 - loss 0.05187473 - samples/sec: 56.13 - lr: 0.025000\n",
            "2022-05-12 04:36:15,335 epoch 28 - iter 8/43 - loss 0.05258517 - samples/sec: 51.23 - lr: 0.025000\n",
            "2022-05-12 04:36:17,959 epoch 28 - iter 12/43 - loss 0.05990698 - samples/sec: 48.86 - lr: 0.025000\n",
            "2022-05-12 04:36:20,460 epoch 28 - iter 16/43 - loss 0.06105641 - samples/sec: 51.25 - lr: 0.025000\n",
            "2022-05-12 04:36:23,032 epoch 28 - iter 20/43 - loss 0.06055139 - samples/sec: 49.89 - lr: 0.025000\n",
            "2022-05-12 04:36:25,557 epoch 28 - iter 24/43 - loss 0.05878021 - samples/sec: 50.75 - lr: 0.025000\n",
            "2022-05-12 04:36:27,843 epoch 28 - iter 28/43 - loss 0.05790892 - samples/sec: 56.13 - lr: 0.025000\n",
            "2022-05-12 04:36:30,275 epoch 28 - iter 32/43 - loss 0.05724851 - samples/sec: 52.77 - lr: 0.025000\n",
            "2022-05-12 04:36:32,585 epoch 28 - iter 36/43 - loss 0.05884441 - samples/sec: 55.54 - lr: 0.025000\n",
            "2022-05-12 04:36:34,900 epoch 28 - iter 40/43 - loss 0.05737563 - samples/sec: 55.33 - lr: 0.025000\n",
            "2022-05-12 04:36:36,263 ----------------------------------------------------------------------------------------------------\n",
            "2022-05-12 04:36:36,266 EPOCH 28 done: loss 0.0561 - lr 0.025000\n"
          ]
        },
        {
          "output_type": "stream",
          "name": "stderr",
          "text": [
            "100%|██████████| 9/9 [00:04<00:00,  2.19it/s]"
          ]
        },
        {
          "output_type": "stream",
          "name": "stdout",
          "text": [
            "2022-05-12 04:36:40,383 Evaluating as a multi-label problem: False\n",
            "2022-05-12 04:36:40,413 DEV : loss 0.06987930834293365 - f1-score (micro avg)  0.7268\n",
            "2022-05-12 04:36:40,429 BAD EPOCHS (no improvement): 0\n",
            "2022-05-12 04:36:40,431 saving best model\n"
          ]
        },
        {
          "output_type": "stream",
          "name": "stderr",
          "text": [
            "\n"
          ]
        },
        {
          "output_type": "stream",
          "name": "stdout",
          "text": [
            "2022-05-12 04:36:50,184 ----------------------------------------------------------------------------------------------------\n",
            "2022-05-12 04:36:52,717 epoch 29 - iter 4/43 - loss 0.06259798 - samples/sec: 51.11 - lr: 0.025000\n",
            "2022-05-12 04:36:55,005 epoch 29 - iter 8/43 - loss 0.06089773 - samples/sec: 56.10 - lr: 0.025000\n",
            "2022-05-12 04:36:57,398 epoch 29 - iter 12/43 - loss 0.05681215 - samples/sec: 53.67 - lr: 0.025000\n",
            "2022-05-12 04:36:59,792 epoch 29 - iter 16/43 - loss 0.05574762 - samples/sec: 53.55 - lr: 0.025000\n",
            "2022-05-12 04:37:02,213 epoch 29 - iter 20/43 - loss 0.05400140 - samples/sec: 52.91 - lr: 0.025000\n",
            "2022-05-12 04:37:04,611 epoch 29 - iter 24/43 - loss 0.05330710 - samples/sec: 53.42 - lr: 0.025000\n",
            "2022-05-12 04:37:06,992 epoch 29 - iter 28/43 - loss 0.05199203 - samples/sec: 53.82 - lr: 0.025000\n",
            "2022-05-12 04:37:09,623 epoch 29 - iter 32/43 - loss 0.05377699 - samples/sec: 48.70 - lr: 0.025000\n",
            "2022-05-12 04:37:12,068 epoch 29 - iter 36/43 - loss 0.05462296 - samples/sec: 52.40 - lr: 0.025000\n",
            "2022-05-12 04:37:14,528 epoch 29 - iter 40/43 - loss 0.05638168 - samples/sec: 52.09 - lr: 0.025000\n",
            "2022-05-12 04:37:15,973 ----------------------------------------------------------------------------------------------------\n",
            "2022-05-12 04:37:15,974 EPOCH 29 done: loss 0.0571 - lr 0.025000\n"
          ]
        },
        {
          "output_type": "stream",
          "name": "stderr",
          "text": [
            "100%|██████████| 9/9 [00:03<00:00,  2.42it/s]"
          ]
        },
        {
          "output_type": "stream",
          "name": "stdout",
          "text": [
            "2022-05-12 04:37:19,716 Evaluating as a multi-label problem: False\n",
            "2022-05-12 04:37:19,735 DEV : loss 0.07443656027317047 - f1-score (micro avg)  0.716\n",
            "2022-05-12 04:37:19,749 BAD EPOCHS (no improvement): 1\n",
            "2022-05-12 04:37:19,755 ----------------------------------------------------------------------------------------------------\n"
          ]
        },
        {
          "output_type": "stream",
          "name": "stderr",
          "text": [
            "\n"
          ]
        },
        {
          "output_type": "stream",
          "name": "stdout",
          "text": [
            "2022-05-12 04:37:22,115 epoch 30 - iter 4/43 - loss 0.03572114 - samples/sec: 54.44 - lr: 0.025000\n",
            "2022-05-12 04:37:24,597 epoch 30 - iter 8/43 - loss 0.04787508 - samples/sec: 51.64 - lr: 0.025000\n",
            "2022-05-12 04:37:26,968 epoch 30 - iter 12/43 - loss 0.04965068 - samples/sec: 54.05 - lr: 0.025000\n",
            "2022-05-12 04:37:29,444 epoch 30 - iter 16/43 - loss 0.05041831 - samples/sec: 51.82 - lr: 0.025000\n",
            "2022-05-12 04:37:32,071 epoch 30 - iter 20/43 - loss 0.05077484 - samples/sec: 48.76 - lr: 0.025000\n",
            "2022-05-12 04:37:34,234 epoch 30 - iter 24/43 - loss 0.04858741 - samples/sec: 59.31 - lr: 0.025000\n",
            "2022-05-12 04:37:36,734 epoch 30 - iter 28/43 - loss 0.05143074 - samples/sec: 51.26 - lr: 0.025000\n",
            "2022-05-12 04:37:39,151 epoch 30 - iter 32/43 - loss 0.05205352 - samples/sec: 53.02 - lr: 0.025000\n",
            "2022-05-12 04:37:41,545 epoch 30 - iter 36/43 - loss 0.05365613 - samples/sec: 53.49 - lr: 0.025000\n",
            "2022-05-12 04:37:43,997 epoch 30 - iter 40/43 - loss 0.05395252 - samples/sec: 52.34 - lr: 0.025000\n",
            "2022-05-12 04:37:45,279 ----------------------------------------------------------------------------------------------------\n",
            "2022-05-12 04:37:45,281 EPOCH 30 done: loss 0.0531 - lr 0.025000\n"
          ]
        },
        {
          "output_type": "stream",
          "name": "stderr",
          "text": [
            "100%|██████████| 9/9 [00:03<00:00,  2.38it/s]"
          ]
        },
        {
          "output_type": "stream",
          "name": "stdout",
          "text": [
            "2022-05-12 04:37:49,090 Evaluating as a multi-label problem: False\n",
            "2022-05-12 04:37:49,114 DEV : loss 0.07247556000947952 - f1-score (micro avg)  0.7203\n",
            "2022-05-12 04:37:49,129 BAD EPOCHS (no improvement): 2\n",
            "2022-05-12 04:37:49,130 ----------------------------------------------------------------------------------------------------\n"
          ]
        },
        {
          "output_type": "stream",
          "name": "stderr",
          "text": [
            "\n"
          ]
        },
        {
          "output_type": "stream",
          "name": "stdout",
          "text": [
            "2022-05-12 04:37:51,503 epoch 31 - iter 4/43 - loss 0.06066360 - samples/sec: 54.13 - lr: 0.025000\n",
            "2022-05-12 04:37:54,382 epoch 31 - iter 8/43 - loss 0.05110993 - samples/sec: 44.49 - lr: 0.025000\n",
            "2022-05-12 04:37:56,651 epoch 31 - iter 12/43 - loss 0.05485902 - samples/sec: 56.50 - lr: 0.025000\n",
            "2022-05-12 04:37:58,893 epoch 31 - iter 16/43 - loss 0.05290303 - samples/sec: 57.18 - lr: 0.025000\n",
            "2022-05-12 04:38:01,197 epoch 31 - iter 20/43 - loss 0.05401297 - samples/sec: 55.59 - lr: 0.025000\n",
            "2022-05-12 04:38:03,567 epoch 31 - iter 24/43 - loss 0.05277892 - samples/sec: 54.09 - lr: 0.025000\n",
            "2022-05-12 04:38:06,364 epoch 31 - iter 28/43 - loss 0.05284737 - samples/sec: 45.79 - lr: 0.025000\n",
            "2022-05-12 04:38:08,707 epoch 31 - iter 32/43 - loss 0.05244831 - samples/sec: 54.79 - lr: 0.025000\n",
            "2022-05-12 04:38:11,145 epoch 31 - iter 36/43 - loss 0.05066656 - samples/sec: 52.57 - lr: 0.025000\n",
            "2022-05-12 04:38:13,546 epoch 31 - iter 40/43 - loss 0.05283228 - samples/sec: 53.37 - lr: 0.025000\n",
            "2022-05-12 04:38:15,055 ----------------------------------------------------------------------------------------------------\n",
            "2022-05-12 04:38:15,057 EPOCH 31 done: loss 0.0526 - lr 0.025000\n"
          ]
        },
        {
          "output_type": "stream",
          "name": "stderr",
          "text": [
            "100%|██████████| 9/9 [00:03<00:00,  2.42it/s]"
          ]
        },
        {
          "output_type": "stream",
          "name": "stdout",
          "text": [
            "2022-05-12 04:38:18,789 Evaluating as a multi-label problem: False\n",
            "2022-05-12 04:38:18,806 DEV : loss 0.0690680518746376 - f1-score (micro avg)  0.7148\n",
            "2022-05-12 04:38:18,824 BAD EPOCHS (no improvement): 3\n",
            "2022-05-12 04:38:18,827 ----------------------------------------------------------------------------------------------------\n"
          ]
        },
        {
          "output_type": "stream",
          "name": "stderr",
          "text": [
            "\n"
          ]
        },
        {
          "output_type": "stream",
          "name": "stdout",
          "text": [
            "2022-05-12 04:38:21,302 epoch 32 - iter 4/43 - loss 0.06660338 - samples/sec: 51.87 - lr: 0.025000\n",
            "2022-05-12 04:38:23,752 epoch 32 - iter 8/43 - loss 0.06537918 - samples/sec: 52.30 - lr: 0.025000\n",
            "2022-05-12 04:38:26,059 epoch 32 - iter 12/43 - loss 0.05876348 - samples/sec: 55.52 - lr: 0.025000\n",
            "2022-05-12 04:38:28,334 epoch 32 - iter 16/43 - loss 0.05895664 - samples/sec: 56.35 - lr: 0.025000\n",
            "2022-05-12 04:38:30,939 epoch 32 - iter 20/43 - loss 0.05524685 - samples/sec: 49.21 - lr: 0.025000\n",
            "2022-05-12 04:38:33,349 epoch 32 - iter 24/43 - loss 0.05463793 - samples/sec: 53.16 - lr: 0.025000\n",
            "2022-05-12 04:38:35,838 epoch 32 - iter 28/43 - loss 0.05464666 - samples/sec: 51.45 - lr: 0.025000\n",
            "2022-05-12 04:38:38,190 epoch 32 - iter 32/43 - loss 0.05386566 - samples/sec: 54.57 - lr: 0.025000\n",
            "2022-05-12 04:38:40,571 epoch 32 - iter 36/43 - loss 0.05340803 - samples/sec: 53.83 - lr: 0.025000\n",
            "2022-05-12 04:38:43,029 epoch 32 - iter 40/43 - loss 0.05147886 - samples/sec: 52.11 - lr: 0.025000\n",
            "2022-05-12 04:38:44,599 ----------------------------------------------------------------------------------------------------\n",
            "2022-05-12 04:38:44,604 EPOCH 32 done: loss 0.0508 - lr 0.025000\n"
          ]
        },
        {
          "output_type": "stream",
          "name": "stderr",
          "text": [
            "100%|██████████| 9/9 [00:03<00:00,  2.42it/s]"
          ]
        },
        {
          "output_type": "stream",
          "name": "stdout",
          "text": [
            "2022-05-12 04:38:48,347 Evaluating as a multi-label problem: False\n",
            "2022-05-12 04:38:48,366 DEV : loss 0.07429857552051544 - f1-score (micro avg)  0.7201\n",
            "2022-05-12 04:38:48,380 Epoch    32: reducing learning rate of group 0 to 1.2500e-02.\n",
            "2022-05-12 04:38:48,382 BAD EPOCHS (no improvement): 4\n",
            "2022-05-12 04:38:48,385 ----------------------------------------------------------------------------------------------------\n"
          ]
        },
        {
          "output_type": "stream",
          "name": "stderr",
          "text": [
            "\n"
          ]
        },
        {
          "output_type": "stream",
          "name": "stdout",
          "text": [
            "2022-05-12 04:38:50,925 epoch 33 - iter 4/43 - loss 0.04981993 - samples/sec: 50.55 - lr: 0.012500\n",
            "2022-05-12 04:38:53,366 epoch 33 - iter 8/43 - loss 0.04962391 - samples/sec: 52.51 - lr: 0.012500\n",
            "2022-05-12 04:38:55,718 epoch 33 - iter 12/43 - loss 0.04842701 - samples/sec: 54.46 - lr: 0.012500\n",
            "2022-05-12 04:38:58,176 epoch 33 - iter 16/43 - loss 0.04905182 - samples/sec: 52.16 - lr: 0.012500\n",
            "2022-05-12 04:39:00,634 epoch 33 - iter 20/43 - loss 0.05187512 - samples/sec: 52.12 - lr: 0.012500\n",
            "2022-05-12 04:39:03,100 epoch 33 - iter 24/43 - loss 0.05033639 - samples/sec: 51.98 - lr: 0.012500\n",
            "2022-05-12 04:39:05,435 epoch 33 - iter 28/43 - loss 0.05074574 - samples/sec: 54.87 - lr: 0.012500\n",
            "2022-05-12 04:39:07,845 epoch 33 - iter 32/43 - loss 0.05167545 - samples/sec: 53.16 - lr: 0.012500\n",
            "2022-05-12 04:39:10,391 epoch 33 - iter 36/43 - loss 0.05226735 - samples/sec: 50.33 - lr: 0.012500\n",
            "2022-05-12 04:39:12,850 epoch 33 - iter 40/43 - loss 0.05085547 - samples/sec: 52.10 - lr: 0.012500\n",
            "2022-05-12 04:39:14,026 ----------------------------------------------------------------------------------------------------\n",
            "2022-05-12 04:39:14,027 EPOCH 33 done: loss 0.0503 - lr 0.012500\n"
          ]
        },
        {
          "output_type": "stream",
          "name": "stderr",
          "text": [
            "100%|██████████| 9/9 [00:04<00:00,  2.18it/s]"
          ]
        },
        {
          "output_type": "stream",
          "name": "stdout",
          "text": [
            "2022-05-12 04:39:18,173 Evaluating as a multi-label problem: False\n",
            "2022-05-12 04:39:18,199 DEV : loss 0.07189839333295822 - f1-score (micro avg)  0.723\n",
            "2022-05-12 04:39:18,220 BAD EPOCHS (no improvement): 1\n",
            "2022-05-12 04:39:18,225 ----------------------------------------------------------------------------------------------------\n"
          ]
        },
        {
          "output_type": "stream",
          "name": "stderr",
          "text": [
            "\n"
          ]
        },
        {
          "output_type": "stream",
          "name": "stdout",
          "text": [
            "2022-05-12 04:39:20,717 epoch 34 - iter 4/43 - loss 0.04599800 - samples/sec: 51.54 - lr: 0.012500\n",
            "2022-05-12 04:39:23,254 epoch 34 - iter 8/43 - loss 0.04403298 - samples/sec: 50.49 - lr: 0.012500\n",
            "2022-05-12 04:39:25,654 epoch 34 - iter 12/43 - loss 0.04970996 - samples/sec: 53.39 - lr: 0.012500\n",
            "2022-05-12 04:39:28,126 epoch 34 - iter 16/43 - loss 0.05023417 - samples/sec: 51.81 - lr: 0.012500\n",
            "2022-05-12 04:39:30,761 epoch 34 - iter 20/43 - loss 0.05151926 - samples/sec: 48.62 - lr: 0.012500\n",
            "2022-05-12 04:39:33,315 epoch 34 - iter 24/43 - loss 0.05040709 - samples/sec: 50.15 - lr: 0.012500\n",
            "2022-05-12 04:39:35,786 epoch 34 - iter 28/43 - loss 0.05107133 - samples/sec: 51.85 - lr: 0.012500\n",
            "2022-05-12 04:39:38,081 epoch 34 - iter 32/43 - loss 0.05022410 - samples/sec: 55.83 - lr: 0.012500\n",
            "2022-05-12 04:39:40,577 epoch 34 - iter 36/43 - loss 0.05076213 - samples/sec: 51.32 - lr: 0.012500\n",
            "2022-05-12 04:39:42,890 epoch 34 - iter 40/43 - loss 0.04940307 - samples/sec: 55.40 - lr: 0.012500\n",
            "2022-05-12 04:39:44,110 ----------------------------------------------------------------------------------------------------\n",
            "2022-05-12 04:39:44,116 EPOCH 34 done: loss 0.0494 - lr 0.012500\n"
          ]
        },
        {
          "output_type": "stream",
          "name": "stderr",
          "text": [
            "100%|██████████| 9/9 [00:03<00:00,  2.39it/s]"
          ]
        },
        {
          "output_type": "stream",
          "name": "stdout",
          "text": [
            "2022-05-12 04:39:47,895 Evaluating as a multi-label problem: False\n",
            "2022-05-12 04:39:47,916 DEV : loss 0.07272768765687943 - f1-score (micro avg)  0.7117\n",
            "2022-05-12 04:39:47,930 BAD EPOCHS (no improvement): 2\n",
            "2022-05-12 04:39:47,932 ----------------------------------------------------------------------------------------------------\n"
          ]
        },
        {
          "output_type": "stream",
          "name": "stderr",
          "text": [
            "\n"
          ]
        },
        {
          "output_type": "stream",
          "name": "stdout",
          "text": [
            "2022-05-12 04:39:50,246 epoch 35 - iter 4/43 - loss 0.05639268 - samples/sec: 55.49 - lr: 0.012500\n",
            "2022-05-12 04:39:52,436 epoch 35 - iter 8/43 - loss 0.06052383 - samples/sec: 58.59 - lr: 0.012500\n",
            "2022-05-12 04:39:54,863 epoch 35 - iter 12/43 - loss 0.06161323 - samples/sec: 52.82 - lr: 0.012500\n",
            "2022-05-12 04:39:57,402 epoch 35 - iter 16/43 - loss 0.05306076 - samples/sec: 50.45 - lr: 0.012500\n",
            "2022-05-12 04:39:59,951 epoch 35 - iter 20/43 - loss 0.04997994 - samples/sec: 50.35 - lr: 0.012500\n",
            "2022-05-12 04:40:02,274 epoch 35 - iter 24/43 - loss 0.04912671 - samples/sec: 55.16 - lr: 0.012500\n",
            "2022-05-12 04:40:04,722 epoch 35 - iter 28/43 - loss 0.05080813 - samples/sec: 52.34 - lr: 0.012500\n",
            "2022-05-12 04:40:07,283 epoch 35 - iter 32/43 - loss 0.05047953 - samples/sec: 50.02 - lr: 0.012500\n",
            "2022-05-12 04:40:09,814 epoch 35 - iter 36/43 - loss 0.04922125 - samples/sec: 50.65 - lr: 0.012500\n",
            "2022-05-12 04:40:12,231 epoch 35 - iter 40/43 - loss 0.04816311 - samples/sec: 53.01 - lr: 0.012500\n",
            "2022-05-12 04:40:13,746 ----------------------------------------------------------------------------------------------------\n",
            "2022-05-12 04:40:13,748 EPOCH 35 done: loss 0.0485 - lr 0.012500\n"
          ]
        },
        {
          "output_type": "stream",
          "name": "stderr",
          "text": [
            "100%|██████████| 9/9 [00:03<00:00,  2.41it/s]"
          ]
        },
        {
          "output_type": "stream",
          "name": "stdout",
          "text": [
            "2022-05-12 04:40:17,503 Evaluating as a multi-label problem: False\n",
            "2022-05-12 04:40:17,523 DEV : loss 0.06971608847379684 - f1-score (micro avg)  0.7186\n",
            "2022-05-12 04:40:17,538 BAD EPOCHS (no improvement): 3\n",
            "2022-05-12 04:40:17,540 ----------------------------------------------------------------------------------------------------\n"
          ]
        },
        {
          "output_type": "stream",
          "name": "stderr",
          "text": [
            "\n"
          ]
        },
        {
          "output_type": "stream",
          "name": "stdout",
          "text": [
            "2022-05-12 04:40:19,805 epoch 36 - iter 4/43 - loss 0.04281324 - samples/sec: 56.71 - lr: 0.012500\n",
            "2022-05-12 04:40:22,351 epoch 36 - iter 8/43 - loss 0.04287678 - samples/sec: 50.33 - lr: 0.012500\n",
            "2022-05-12 04:40:24,766 epoch 36 - iter 12/43 - loss 0.04711016 - samples/sec: 53.07 - lr: 0.012500\n",
            "2022-05-12 04:40:27,225 epoch 36 - iter 16/43 - loss 0.04904407 - samples/sec: 52.17 - lr: 0.012500\n",
            "2022-05-12 04:40:29,765 epoch 36 - iter 20/43 - loss 0.04629740 - samples/sec: 50.46 - lr: 0.012500\n",
            "2022-05-12 04:40:32,121 epoch 36 - iter 24/43 - loss 0.04628827 - samples/sec: 54.39 - lr: 0.012500\n",
            "2022-05-12 04:40:34,613 epoch 36 - iter 28/43 - loss 0.04894604 - samples/sec: 51.40 - lr: 0.012500\n",
            "2022-05-12 04:40:37,069 epoch 36 - iter 32/43 - loss 0.04775541 - samples/sec: 52.24 - lr: 0.012500\n",
            "2022-05-12 04:40:39,394 epoch 36 - iter 36/43 - loss 0.04743329 - samples/sec: 55.27 - lr: 0.012500\n",
            "2022-05-12 04:40:41,937 epoch 36 - iter 40/43 - loss 0.04800210 - samples/sec: 50.38 - lr: 0.012500\n",
            "2022-05-12 04:40:43,260 ----------------------------------------------------------------------------------------------------\n",
            "2022-05-12 04:40:43,261 EPOCH 36 done: loss 0.0475 - lr 0.012500\n"
          ]
        },
        {
          "output_type": "stream",
          "name": "stderr",
          "text": [
            "100%|██████████| 9/9 [00:04<00:00,  2.21it/s]"
          ]
        },
        {
          "output_type": "stream",
          "name": "stdout",
          "text": [
            "2022-05-12 04:40:47,352 Evaluating as a multi-label problem: False\n",
            "2022-05-12 04:40:47,379 DEV : loss 0.07431035488843918 - f1-score (micro avg)  0.7162\n",
            "2022-05-12 04:40:47,394 Epoch    36: reducing learning rate of group 0 to 6.2500e-03.\n",
            "2022-05-12 04:40:47,396 BAD EPOCHS (no improvement): 4\n",
            "2022-05-12 04:40:47,398 ----------------------------------------------------------------------------------------------------\n"
          ]
        },
        {
          "output_type": "stream",
          "name": "stderr",
          "text": [
            "\n"
          ]
        },
        {
          "output_type": "stream",
          "name": "stdout",
          "text": [
            "2022-05-12 04:40:49,821 epoch 37 - iter 4/43 - loss 0.04954070 - samples/sec: 53.08 - lr: 0.006250\n",
            "2022-05-12 04:40:52,262 epoch 37 - iter 8/43 - loss 0.04904090 - samples/sec: 52.56 - lr: 0.006250\n",
            "2022-05-12 04:40:54,705 epoch 37 - iter 12/43 - loss 0.04377004 - samples/sec: 52.47 - lr: 0.006250\n",
            "2022-05-12 04:40:56,913 epoch 37 - iter 16/43 - loss 0.04660082 - samples/sec: 58.17 - lr: 0.006250\n",
            "2022-05-12 04:40:59,452 epoch 37 - iter 20/43 - loss 0.04598396 - samples/sec: 50.46 - lr: 0.006250\n",
            "2022-05-12 04:41:01,845 epoch 37 - iter 24/43 - loss 0.04524133 - samples/sec: 53.58 - lr: 0.006250\n",
            "2022-05-12 04:41:04,333 epoch 37 - iter 28/43 - loss 0.04688371 - samples/sec: 51.49 - lr: 0.006250\n",
            "2022-05-12 04:41:07,041 epoch 37 - iter 32/43 - loss 0.04601311 - samples/sec: 47.31 - lr: 0.006250\n",
            "2022-05-12 04:41:09,347 epoch 37 - iter 36/43 - loss 0.04642189 - samples/sec: 55.64 - lr: 0.006250\n",
            "2022-05-12 04:41:11,740 epoch 37 - iter 40/43 - loss 0.04695688 - samples/sec: 53.53 - lr: 0.006250\n",
            "2022-05-12 04:41:13,079 ----------------------------------------------------------------------------------------------------\n",
            "2022-05-12 04:41:13,081 EPOCH 37 done: loss 0.0462 - lr 0.006250\n"
          ]
        },
        {
          "output_type": "stream",
          "name": "stderr",
          "text": [
            "100%|██████████| 9/9 [00:03<00:00,  2.42it/s]"
          ]
        },
        {
          "output_type": "stream",
          "name": "stdout",
          "text": [
            "2022-05-12 04:41:16,825 Evaluating as a multi-label problem: False\n",
            "2022-05-12 04:41:16,851 DEV : loss 0.07199511677026749 - f1-score (micro avg)  0.7248\n",
            "2022-05-12 04:41:16,867 BAD EPOCHS (no improvement): 1\n",
            "2022-05-12 04:41:16,870 ----------------------------------------------------------------------------------------------------\n"
          ]
        },
        {
          "output_type": "stream",
          "name": "stderr",
          "text": [
            "\n"
          ]
        },
        {
          "output_type": "stream",
          "name": "stdout",
          "text": [
            "2022-05-12 04:41:19,543 epoch 38 - iter 4/43 - loss 0.05429821 - samples/sec: 47.97 - lr: 0.006250\n",
            "2022-05-12 04:41:22,087 epoch 38 - iter 8/43 - loss 0.04835604 - samples/sec: 50.43 - lr: 0.006250\n",
            "2022-05-12 04:41:24,577 epoch 38 - iter 12/43 - loss 0.04726321 - samples/sec: 51.48 - lr: 0.006250\n",
            "2022-05-12 04:41:26,939 epoch 38 - iter 16/43 - loss 0.05180665 - samples/sec: 54.25 - lr: 0.006250\n",
            "2022-05-12 04:41:29,336 epoch 38 - iter 20/43 - loss 0.05065117 - samples/sec: 53.49 - lr: 0.006250\n",
            "2022-05-12 04:41:31,753 epoch 38 - iter 24/43 - loss 0.04926475 - samples/sec: 53.07 - lr: 0.006250\n",
            "2022-05-12 04:41:34,140 epoch 38 - iter 28/43 - loss 0.04860061 - samples/sec: 53.66 - lr: 0.006250\n",
            "2022-05-12 04:41:36,566 epoch 38 - iter 32/43 - loss 0.04618169 - samples/sec: 52.85 - lr: 0.006250\n",
            "2022-05-12 04:41:38,941 epoch 38 - iter 36/43 - loss 0.04564956 - samples/sec: 53.96 - lr: 0.006250\n",
            "2022-05-12 04:41:41,448 epoch 38 - iter 40/43 - loss 0.04591496 - samples/sec: 51.11 - lr: 0.006250\n",
            "2022-05-12 04:41:42,813 ----------------------------------------------------------------------------------------------------\n",
            "2022-05-12 04:41:42,815 EPOCH 38 done: loss 0.0453 - lr 0.006250\n"
          ]
        },
        {
          "output_type": "stream",
          "name": "stderr",
          "text": [
            "100%|██████████| 9/9 [00:03<00:00,  2.39it/s]"
          ]
        },
        {
          "output_type": "stream",
          "name": "stdout",
          "text": [
            "2022-05-12 04:41:46,596 Evaluating as a multi-label problem: False\n",
            "2022-05-12 04:41:46,617 DEV : loss 0.07124228775501251 - f1-score (micro avg)  0.7204\n",
            "2022-05-12 04:41:46,632 BAD EPOCHS (no improvement): 2\n",
            "2022-05-12 04:41:46,634 ----------------------------------------------------------------------------------------------------\n"
          ]
        },
        {
          "output_type": "stream",
          "name": "stderr",
          "text": [
            "\n"
          ]
        },
        {
          "output_type": "stream",
          "name": "stdout",
          "text": [
            "2022-05-12 04:41:49,559 epoch 39 - iter 4/43 - loss 0.06118730 - samples/sec: 43.87 - lr: 0.006250\n",
            "2022-05-12 04:41:51,862 epoch 39 - iter 8/43 - loss 0.05288813 - samples/sec: 55.63 - lr: 0.006250\n",
            "2022-05-12 04:41:54,487 epoch 39 - iter 12/43 - loss 0.04885750 - samples/sec: 48.81 - lr: 0.006250\n",
            "2022-05-12 04:41:56,844 epoch 39 - iter 16/43 - loss 0.04677492 - samples/sec: 54.38 - lr: 0.006250\n",
            "2022-05-12 04:41:59,263 epoch 39 - iter 20/43 - loss 0.04503629 - samples/sec: 52.97 - lr: 0.006250\n",
            "2022-05-12 04:42:01,804 epoch 39 - iter 24/43 - loss 0.04438245 - samples/sec: 50.43 - lr: 0.006250\n",
            "2022-05-12 04:42:04,428 epoch 39 - iter 28/43 - loss 0.04405023 - samples/sec: 48.93 - lr: 0.006250\n",
            "2022-05-12 04:42:06,692 epoch 39 - iter 32/43 - loss 0.04355665 - samples/sec: 56.60 - lr: 0.006250\n",
            "2022-05-12 04:42:08,955 epoch 39 - iter 36/43 - loss 0.04422462 - samples/sec: 56.62 - lr: 0.006250\n",
            "2022-05-12 04:42:11,377 epoch 39 - iter 40/43 - loss 0.04493981 - samples/sec: 53.02 - lr: 0.006250\n",
            "2022-05-12 04:42:12,810 ----------------------------------------------------------------------------------------------------\n",
            "2022-05-12 04:42:12,816 EPOCH 39 done: loss 0.0458 - lr 0.006250\n"
          ]
        },
        {
          "output_type": "stream",
          "name": "stderr",
          "text": [
            "100%|██████████| 9/9 [00:03<00:00,  2.41it/s]"
          ]
        },
        {
          "output_type": "stream",
          "name": "stdout",
          "text": [
            "2022-05-12 04:42:16,561 Evaluating as a multi-label problem: False\n",
            "2022-05-12 04:42:16,579 DEV : loss 0.07089612632989883 - f1-score (micro avg)  0.7215\n",
            "2022-05-12 04:42:16,597 BAD EPOCHS (no improvement): 3\n",
            "2022-05-12 04:42:16,599 ----------------------------------------------------------------------------------------------------\n"
          ]
        },
        {
          "output_type": "stream",
          "name": "stderr",
          "text": [
            "\n"
          ]
        },
        {
          "output_type": "stream",
          "name": "stdout",
          "text": [
            "2022-05-12 04:42:19,041 epoch 40 - iter 4/43 - loss 0.04345172 - samples/sec: 52.52 - lr: 0.006250\n",
            "2022-05-12 04:42:21,313 epoch 40 - iter 8/43 - loss 0.04022908 - samples/sec: 56.57 - lr: 0.006250\n",
            "2022-05-12 04:42:23,740 epoch 40 - iter 12/43 - loss 0.04605564 - samples/sec: 52.78 - lr: 0.006250\n",
            "2022-05-12 04:42:26,100 epoch 40 - iter 16/43 - loss 0.04492951 - samples/sec: 54.38 - lr: 0.006250\n",
            "2022-05-12 04:42:28,735 epoch 40 - iter 20/43 - loss 0.04315957 - samples/sec: 48.62 - lr: 0.006250\n",
            "2022-05-12 04:42:31,202 epoch 40 - iter 24/43 - loss 0.04333135 - samples/sec: 51.93 - lr: 0.006250\n",
            "2022-05-12 04:42:33,836 epoch 40 - iter 28/43 - loss 0.04349218 - samples/sec: 48.64 - lr: 0.006250\n",
            "2022-05-12 04:42:36,342 epoch 40 - iter 32/43 - loss 0.04344630 - samples/sec: 51.25 - lr: 0.006250\n",
            "2022-05-12 04:42:38,794 epoch 40 - iter 36/43 - loss 0.04479528 - samples/sec: 52.24 - lr: 0.006250\n",
            "2022-05-12 04:42:41,179 epoch 40 - iter 40/43 - loss 0.04421007 - samples/sec: 53.72 - lr: 0.006250\n",
            "2022-05-12 04:42:42,480 ----------------------------------------------------------------------------------------------------\n",
            "2022-05-12 04:42:42,482 EPOCH 40 done: loss 0.0440 - lr 0.006250\n"
          ]
        },
        {
          "output_type": "stream",
          "name": "stderr",
          "text": [
            "100%|██████████| 9/9 [00:03<00:00,  2.45it/s]"
          ]
        },
        {
          "output_type": "stream",
          "name": "stdout",
          "text": [
            "2022-05-12 04:42:46,179 Evaluating as a multi-label problem: False\n",
            "2022-05-12 04:42:46,202 DEV : loss 0.07174701988697052 - f1-score (micro avg)  0.7179\n",
            "2022-05-12 04:42:46,222 Epoch    40: reducing learning rate of group 0 to 3.1250e-03.\n",
            "2022-05-12 04:42:46,224 BAD EPOCHS (no improvement): 4\n",
            "2022-05-12 04:42:46,225 ----------------------------------------------------------------------------------------------------\n"
          ]
        },
        {
          "output_type": "stream",
          "name": "stderr",
          "text": [
            "\n"
          ]
        },
        {
          "output_type": "stream",
          "name": "stdout",
          "text": [
            "2022-05-12 04:42:48,553 epoch 41 - iter 4/43 - loss 0.04579519 - samples/sec: 55.19 - lr: 0.003125\n",
            "2022-05-12 04:42:50,909 epoch 41 - iter 8/43 - loss 0.04368910 - samples/sec: 54.42 - lr: 0.003125\n",
            "2022-05-12 04:42:53,448 epoch 41 - iter 12/43 - loss 0.04098166 - samples/sec: 50.53 - lr: 0.003125\n",
            "2022-05-12 04:42:56,041 epoch 41 - iter 16/43 - loss 0.04021544 - samples/sec: 49.43 - lr: 0.003125\n",
            "2022-05-12 04:42:58,762 epoch 41 - iter 20/43 - loss 0.04099829 - samples/sec: 47.15 - lr: 0.003125\n",
            "2022-05-12 04:43:01,109 epoch 41 - iter 24/43 - loss 0.04573214 - samples/sec: 54.61 - lr: 0.003125\n",
            "2022-05-12 04:43:03,496 epoch 41 - iter 28/43 - loss 0.04488853 - samples/sec: 53.67 - lr: 0.003125\n",
            "2022-05-12 04:43:05,763 epoch 41 - iter 32/43 - loss 0.04497858 - samples/sec: 56.61 - lr: 0.003125\n",
            "2022-05-12 04:43:08,067 epoch 41 - iter 36/43 - loss 0.04424053 - samples/sec: 55.67 - lr: 0.003125\n",
            "2022-05-12 04:43:10,373 epoch 41 - iter 40/43 - loss 0.04378772 - samples/sec: 55.60 - lr: 0.003125\n",
            "2022-05-12 04:43:11,811 ----------------------------------------------------------------------------------------------------\n",
            "2022-05-12 04:43:11,813 EPOCH 41 done: loss 0.0450 - lr 0.003125\n"
          ]
        },
        {
          "output_type": "stream",
          "name": "stderr",
          "text": [
            "100%|██████████| 9/9 [00:04<00:00,  2.19it/s]"
          ]
        },
        {
          "output_type": "stream",
          "name": "stdout",
          "text": [
            "2022-05-12 04:43:15,955 Evaluating as a multi-label problem: False\n",
            "2022-05-12 04:43:15,981 DEV : loss 0.07229874283075333 - f1-score (micro avg)  0.72\n",
            "2022-05-12 04:43:15,995 BAD EPOCHS (no improvement): 1\n",
            "2022-05-12 04:43:15,997 ----------------------------------------------------------------------------------------------------\n"
          ]
        },
        {
          "output_type": "stream",
          "name": "stderr",
          "text": [
            "\n"
          ]
        },
        {
          "output_type": "stream",
          "name": "stdout",
          "text": [
            "2022-05-12 04:43:18,314 epoch 42 - iter 4/43 - loss 0.04793810 - samples/sec: 55.40 - lr: 0.003125\n",
            "2022-05-12 04:43:20,763 epoch 42 - iter 8/43 - loss 0.04181330 - samples/sec: 52.37 - lr: 0.003125\n",
            "2022-05-12 04:43:23,120 epoch 42 - iter 12/43 - loss 0.04170236 - samples/sec: 54.35 - lr: 0.003125\n",
            "2022-05-12 04:43:25,538 epoch 42 - iter 16/43 - loss 0.04455708 - samples/sec: 53.06 - lr: 0.003125\n",
            "2022-05-12 04:43:27,947 epoch 42 - iter 20/43 - loss 0.04392484 - samples/sec: 53.27 - lr: 0.003125\n",
            "2022-05-12 04:43:30,470 epoch 42 - iter 24/43 - loss 0.04312991 - samples/sec: 50.77 - lr: 0.003125\n",
            "2022-05-12 04:43:32,789 epoch 42 - iter 28/43 - loss 0.04282009 - samples/sec: 55.24 - lr: 0.003125\n",
            "2022-05-12 04:43:35,238 epoch 42 - iter 32/43 - loss 0.04448609 - samples/sec: 52.31 - lr: 0.003125\n",
            "2022-05-12 04:43:37,695 epoch 42 - iter 36/43 - loss 0.04399995 - samples/sec: 52.29 - lr: 0.003125\n",
            "2022-05-12 04:43:40,210 epoch 42 - iter 40/43 - loss 0.04377494 - samples/sec: 50.94 - lr: 0.003125\n",
            "2022-05-12 04:43:41,586 ----------------------------------------------------------------------------------------------------\n",
            "2022-05-12 04:43:41,591 EPOCH 42 done: loss 0.0435 - lr 0.003125\n"
          ]
        },
        {
          "output_type": "stream",
          "name": "stderr",
          "text": [
            "100%|██████████| 9/9 [00:03<00:00,  2.44it/s]"
          ]
        },
        {
          "output_type": "stream",
          "name": "stdout",
          "text": [
            "2022-05-12 04:43:45,307 Evaluating as a multi-label problem: False\n",
            "2022-05-12 04:43:45,336 DEV : loss 0.07175947725772858 - f1-score (micro avg)  0.7171\n",
            "2022-05-12 04:43:45,353 BAD EPOCHS (no improvement): 2\n",
            "2022-05-12 04:43:45,355 ----------------------------------------------------------------------------------------------------\n"
          ]
        },
        {
          "output_type": "stream",
          "name": "stderr",
          "text": [
            "\n"
          ]
        },
        {
          "output_type": "stream",
          "name": "stdout",
          "text": [
            "2022-05-12 04:43:47,861 epoch 43 - iter 4/43 - loss 0.04144404 - samples/sec: 51.21 - lr: 0.003125\n",
            "2022-05-12 04:43:50,323 epoch 43 - iter 8/43 - loss 0.04275267 - samples/sec: 52.11 - lr: 0.003125\n",
            "2022-05-12 04:43:52,652 epoch 43 - iter 12/43 - loss 0.04248108 - samples/sec: 55.03 - lr: 0.003125\n",
            "2022-05-12 04:43:54,940 epoch 43 - iter 16/43 - loss 0.04536386 - samples/sec: 56.00 - lr: 0.003125\n",
            "2022-05-12 04:43:57,375 epoch 43 - iter 20/43 - loss 0.04240501 - samples/sec: 52.60 - lr: 0.003125\n",
            "2022-05-12 04:43:59,909 epoch 43 - iter 24/43 - loss 0.04249594 - samples/sec: 50.56 - lr: 0.003125\n",
            "2022-05-12 04:44:02,375 epoch 43 - iter 28/43 - loss 0.04400844 - samples/sec: 51.96 - lr: 0.003125\n",
            "2022-05-12 04:44:04,892 epoch 43 - iter 32/43 - loss 0.04479211 - samples/sec: 50.92 - lr: 0.003125\n",
            "2022-05-12 04:44:07,123 epoch 43 - iter 36/43 - loss 0.04400053 - samples/sec: 57.55 - lr: 0.003125\n",
            "2022-05-12 04:44:09,539 epoch 43 - iter 40/43 - loss 0.04375876 - samples/sec: 53.05 - lr: 0.003125\n",
            "2022-05-12 04:44:10,997 ----------------------------------------------------------------------------------------------------\n",
            "2022-05-12 04:44:10,998 EPOCH 43 done: loss 0.0429 - lr 0.003125\n"
          ]
        },
        {
          "output_type": "stream",
          "name": "stderr",
          "text": [
            "100%|██████████| 9/9 [00:03<00:00,  2.42it/s]"
          ]
        },
        {
          "output_type": "stream",
          "name": "stdout",
          "text": [
            "2022-05-12 04:44:14,744 Evaluating as a multi-label problem: False\n",
            "2022-05-12 04:44:14,764 DEV : loss 0.07187793403863907 - f1-score (micro avg)  0.7262\n",
            "2022-05-12 04:44:14,778 BAD EPOCHS (no improvement): 3\n",
            "2022-05-12 04:44:14,780 ----------------------------------------------------------------------------------------------------\n"
          ]
        },
        {
          "output_type": "stream",
          "name": "stderr",
          "text": [
            "\n"
          ]
        },
        {
          "output_type": "stream",
          "name": "stdout",
          "text": [
            "2022-05-12 04:44:17,156 epoch 44 - iter 4/43 - loss 0.04950230 - samples/sec: 54.06 - lr: 0.003125\n",
            "2022-05-12 04:44:19,486 epoch 44 - iter 8/43 - loss 0.05415376 - samples/sec: 55.09 - lr: 0.003125\n",
            "2022-05-12 04:44:22,061 epoch 44 - iter 12/43 - loss 0.04884177 - samples/sec: 49.76 - lr: 0.003125\n",
            "2022-05-12 04:44:24,630 epoch 44 - iter 16/43 - loss 0.04782373 - samples/sec: 49.87 - lr: 0.003125\n",
            "2022-05-12 04:44:27,026 epoch 44 - iter 20/43 - loss 0.04719081 - samples/sec: 53.46 - lr: 0.003125\n",
            "2022-05-12 04:44:29,348 epoch 44 - iter 24/43 - loss 0.04696415 - samples/sec: 55.21 - lr: 0.003125\n",
            "2022-05-12 04:44:31,721 epoch 44 - iter 28/43 - loss 0.04510627 - samples/sec: 54.01 - lr: 0.003125\n",
            "2022-05-12 04:44:34,077 epoch 44 - iter 32/43 - loss 0.04486441 - samples/sec: 54.38 - lr: 0.003125\n",
            "2022-05-12 04:44:36,548 epoch 44 - iter 36/43 - loss 0.04424296 - samples/sec: 51.89 - lr: 0.003125\n",
            "2022-05-12 04:44:38,999 epoch 44 - iter 40/43 - loss 0.04466374 - samples/sec: 52.27 - lr: 0.003125\n",
            "2022-05-12 04:44:40,379 ----------------------------------------------------------------------------------------------------\n",
            "2022-05-12 04:44:40,381 EPOCH 44 done: loss 0.0442 - lr 0.003125\n"
          ]
        },
        {
          "output_type": "stream",
          "name": "stderr",
          "text": [
            "100%|██████████| 9/9 [00:04<00:00,  2.18it/s]"
          ]
        },
        {
          "output_type": "stream",
          "name": "stdout",
          "text": [
            "2022-05-12 04:44:44,538 Evaluating as a multi-label problem: False\n",
            "2022-05-12 04:44:44,559 DEV : loss 0.07234007120132446 - f1-score (micro avg)  0.7183\n",
            "2022-05-12 04:44:44,575 Epoch    44: reducing learning rate of group 0 to 1.5625e-03.\n",
            "2022-05-12 04:44:44,578 BAD EPOCHS (no improvement): 4\n",
            "2022-05-12 04:44:44,580 ----------------------------------------------------------------------------------------------------\n"
          ]
        },
        {
          "output_type": "stream",
          "name": "stderr",
          "text": [
            "\n"
          ]
        },
        {
          "output_type": "stream",
          "name": "stdout",
          "text": [
            "2022-05-12 04:44:47,051 epoch 45 - iter 4/43 - loss 0.05543232 - samples/sec: 52.02 - lr: 0.001563\n",
            "2022-05-12 04:44:49,397 epoch 45 - iter 8/43 - loss 0.04783076 - samples/sec: 54.60 - lr: 0.001563\n",
            "2022-05-12 04:44:51,792 epoch 45 - iter 12/43 - loss 0.04493778 - samples/sec: 53.49 - lr: 0.001563\n",
            "2022-05-12 04:44:54,240 epoch 45 - iter 16/43 - loss 0.04422297 - samples/sec: 52.34 - lr: 0.001563\n",
            "2022-05-12 04:44:56,705 epoch 45 - iter 20/43 - loss 0.04498293 - samples/sec: 52.04 - lr: 0.001563\n",
            "2022-05-12 04:44:59,138 epoch 45 - iter 24/43 - loss 0.04368862 - samples/sec: 52.65 - lr: 0.001563\n",
            "2022-05-12 04:45:01,627 epoch 45 - iter 28/43 - loss 0.04214536 - samples/sec: 51.50 - lr: 0.001563\n",
            "2022-05-12 04:45:03,896 epoch 45 - iter 32/43 - loss 0.04243842 - samples/sec: 56.45 - lr: 0.001563\n",
            "2022-05-12 04:45:06,414 epoch 45 - iter 36/43 - loss 0.04227530 - samples/sec: 50.89 - lr: 0.001563\n",
            "2022-05-12 04:45:08,915 epoch 45 - iter 40/43 - loss 0.04312954 - samples/sec: 51.24 - lr: 0.001563\n",
            "2022-05-12 04:45:10,383 ----------------------------------------------------------------------------------------------------\n",
            "2022-05-12 04:45:10,385 EPOCH 45 done: loss 0.0424 - lr 0.001563\n"
          ]
        },
        {
          "output_type": "stream",
          "name": "stderr",
          "text": [
            "100%|██████████| 9/9 [00:03<00:00,  2.43it/s]"
          ]
        },
        {
          "output_type": "stream",
          "name": "stdout",
          "text": [
            "2022-05-12 04:45:14,109 Evaluating as a multi-label problem: False\n",
            "2022-05-12 04:45:14,131 DEV : loss 0.0716363713145256 - f1-score (micro avg)  0.7202\n",
            "2022-05-12 04:45:14,150 BAD EPOCHS (no improvement): 1\n",
            "2022-05-12 04:45:14,152 ----------------------------------------------------------------------------------------------------\n"
          ]
        },
        {
          "output_type": "stream",
          "name": "stderr",
          "text": [
            "\n"
          ]
        },
        {
          "output_type": "stream",
          "name": "stdout",
          "text": [
            "2022-05-12 04:45:16,681 epoch 46 - iter 4/43 - loss 0.04480624 - samples/sec: 50.79 - lr: 0.001563\n",
            "2022-05-12 04:45:19,083 epoch 46 - iter 8/43 - loss 0.05277853 - samples/sec: 53.36 - lr: 0.001563\n",
            "2022-05-12 04:45:21,497 epoch 46 - iter 12/43 - loss 0.04827734 - samples/sec: 53.09 - lr: 0.001563\n",
            "2022-05-12 04:45:24,015 epoch 46 - iter 16/43 - loss 0.04495723 - samples/sec: 50.88 - lr: 0.001563\n",
            "2022-05-12 04:45:26,330 epoch 46 - iter 20/43 - loss 0.04446487 - samples/sec: 55.35 - lr: 0.001563\n",
            "2022-05-12 04:45:28,845 epoch 46 - iter 24/43 - loss 0.04618041 - samples/sec: 50.95 - lr: 0.001563\n",
            "2022-05-12 04:45:31,195 epoch 46 - iter 28/43 - loss 0.04389508 - samples/sec: 54.54 - lr: 0.001563\n",
            "2022-05-12 04:45:33,632 epoch 46 - iter 32/43 - loss 0.04407570 - samples/sec: 52.64 - lr: 0.001563\n",
            "2022-05-12 04:45:36,058 epoch 46 - iter 36/43 - loss 0.04468100 - samples/sec: 52.89 - lr: 0.001563\n",
            "2022-05-12 04:45:38,535 epoch 46 - iter 40/43 - loss 0.04423632 - samples/sec: 51.72 - lr: 0.001563\n",
            "2022-05-12 04:45:39,881 ----------------------------------------------------------------------------------------------------\n",
            "2022-05-12 04:45:39,883 EPOCH 46 done: loss 0.0441 - lr 0.001563\n"
          ]
        },
        {
          "output_type": "stream",
          "name": "stderr",
          "text": [
            "100%|██████████| 9/9 [00:03<00:00,  2.41it/s]"
          ]
        },
        {
          "output_type": "stream",
          "name": "stdout",
          "text": [
            "2022-05-12 04:45:43,642 Evaluating as a multi-label problem: False\n",
            "2022-05-12 04:45:43,664 DEV : loss 0.0719904750585556 - f1-score (micro avg)  0.7193\n",
            "2022-05-12 04:45:43,681 BAD EPOCHS (no improvement): 2\n",
            "2022-05-12 04:45:43,684 ----------------------------------------------------------------------------------------------------\n"
          ]
        },
        {
          "output_type": "stream",
          "name": "stderr",
          "text": [
            "\n"
          ]
        },
        {
          "output_type": "stream",
          "name": "stdout",
          "text": [
            "2022-05-12 04:45:46,513 epoch 47 - iter 4/43 - loss 0.04613527 - samples/sec: 45.36 - lr: 0.001563\n",
            "2022-05-12 04:45:49,027 epoch 47 - iter 8/43 - loss 0.05042609 - samples/sec: 51.02 - lr: 0.001563\n",
            "2022-05-12 04:45:51,567 epoch 47 - iter 12/43 - loss 0.04405820 - samples/sec: 50.50 - lr: 0.001563\n",
            "2022-05-12 04:45:54,142 epoch 47 - iter 16/43 - loss 0.04444794 - samples/sec: 49.76 - lr: 0.001563\n",
            "2022-05-12 04:45:56,708 epoch 47 - iter 20/43 - loss 0.04361859 - samples/sec: 49.94 - lr: 0.001563\n",
            "2022-05-12 04:45:58,882 epoch 47 - iter 24/43 - loss 0.04208398 - samples/sec: 58.92 - lr: 0.001563\n",
            "2022-05-12 04:46:01,331 epoch 47 - iter 28/43 - loss 0.04353763 - samples/sec: 52.33 - lr: 0.001563\n",
            "2022-05-12 04:46:03,622 epoch 47 - iter 32/43 - loss 0.04331420 - samples/sec: 55.93 - lr: 0.001563\n",
            "2022-05-12 04:46:06,040 epoch 47 - iter 36/43 - loss 0.04375974 - samples/sec: 52.99 - lr: 0.001563\n",
            "2022-05-12 04:46:08,406 epoch 47 - iter 40/43 - loss 0.04305141 - samples/sec: 54.16 - lr: 0.001563\n",
            "2022-05-12 04:46:09,761 ----------------------------------------------------------------------------------------------------\n",
            "2022-05-12 04:46:09,763 EPOCH 47 done: loss 0.0430 - lr 0.001563\n"
          ]
        },
        {
          "output_type": "stream",
          "name": "stderr",
          "text": [
            "100%|██████████| 9/9 [00:03<00:00,  2.42it/s]"
          ]
        },
        {
          "output_type": "stream",
          "name": "stdout",
          "text": [
            "2022-05-12 04:46:13,509 Evaluating as a multi-label problem: False\n",
            "2022-05-12 04:46:13,530 DEV : loss 0.07184717804193497 - f1-score (micro avg)  0.7193\n",
            "2022-05-12 04:46:13,550 BAD EPOCHS (no improvement): 3\n",
            "2022-05-12 04:46:13,553 ----------------------------------------------------------------------------------------------------\n"
          ]
        },
        {
          "output_type": "stream",
          "name": "stderr",
          "text": [
            "\n"
          ]
        },
        {
          "output_type": "stream",
          "name": "stdout",
          "text": [
            "2022-05-12 04:46:16,003 epoch 48 - iter 4/43 - loss 0.04717669 - samples/sec: 52.39 - lr: 0.001563\n",
            "2022-05-12 04:46:18,207 epoch 48 - iter 8/43 - loss 0.04467156 - samples/sec: 58.22 - lr: 0.001563\n",
            "2022-05-12 04:46:20,542 epoch 48 - iter 12/43 - loss 0.04513595 - samples/sec: 54.95 - lr: 0.001563\n",
            "2022-05-12 04:46:22,944 epoch 48 - iter 16/43 - loss 0.04242929 - samples/sec: 53.34 - lr: 0.001563\n",
            "2022-05-12 04:46:25,605 epoch 48 - iter 20/43 - loss 0.04190041 - samples/sec: 48.13 - lr: 0.001563\n",
            "2022-05-12 04:46:28,183 epoch 48 - iter 24/43 - loss 0.04170335 - samples/sec: 49.73 - lr: 0.001563\n",
            "2022-05-12 04:46:30,600 epoch 48 - iter 28/43 - loss 0.04372709 - samples/sec: 53.01 - lr: 0.001563\n",
            "2022-05-12 04:46:33,076 epoch 48 - iter 32/43 - loss 0.04415918 - samples/sec: 51.81 - lr: 0.001563\n",
            "2022-05-12 04:46:35,571 epoch 48 - iter 36/43 - loss 0.04393196 - samples/sec: 51.36 - lr: 0.001563\n",
            "2022-05-12 04:46:37,787 epoch 48 - iter 40/43 - loss 0.04354939 - samples/sec: 57.82 - lr: 0.001563\n",
            "2022-05-12 04:46:39,204 ----------------------------------------------------------------------------------------------------\n",
            "2022-05-12 04:46:39,206 EPOCH 48 done: loss 0.0431 - lr 0.001563\n"
          ]
        },
        {
          "output_type": "stream",
          "name": "stderr",
          "text": [
            "100%|██████████| 9/9 [00:03<00:00,  2.41it/s]"
          ]
        },
        {
          "output_type": "stream",
          "name": "stdout",
          "text": [
            "2022-05-12 04:46:42,967 Evaluating as a multi-label problem: False\n",
            "2022-05-12 04:46:42,987 DEV : loss 0.07182146608829498 - f1-score (micro avg)  0.7193\n",
            "2022-05-12 04:46:43,004 Epoch    48: reducing learning rate of group 0 to 7.8125e-04.\n",
            "2022-05-12 04:46:43,006 BAD EPOCHS (no improvement): 4\n",
            "2022-05-12 04:46:43,011 ----------------------------------------------------------------------------------------------------\n"
          ]
        },
        {
          "output_type": "stream",
          "name": "stderr",
          "text": [
            "\n"
          ]
        },
        {
          "output_type": "stream",
          "name": "stdout",
          "text": [
            "2022-05-12 04:46:45,495 epoch 49 - iter 4/43 - loss 0.03985238 - samples/sec: 51.64 - lr: 0.000781\n",
            "2022-05-12 04:46:47,768 epoch 49 - iter 8/43 - loss 0.03996679 - samples/sec: 56.39 - lr: 0.000781\n",
            "2022-05-12 04:46:50,141 epoch 49 - iter 12/43 - loss 0.04822485 - samples/sec: 53.97 - lr: 0.000781\n",
            "2022-05-12 04:46:52,631 epoch 49 - iter 16/43 - loss 0.04376983 - samples/sec: 51.53 - lr: 0.000781\n",
            "2022-05-12 04:46:54,951 epoch 49 - iter 20/43 - loss 0.04231442 - samples/sec: 55.26 - lr: 0.000781\n",
            "2022-05-12 04:46:57,314 epoch 49 - iter 24/43 - loss 0.04133181 - samples/sec: 54.29 - lr: 0.000781\n",
            "2022-05-12 04:46:59,803 epoch 49 - iter 28/43 - loss 0.04249488 - samples/sec: 51.47 - lr: 0.000781\n",
            "2022-05-12 04:47:02,273 epoch 49 - iter 32/43 - loss 0.04280280 - samples/sec: 51.86 - lr: 0.000781\n",
            "2022-05-12 04:47:04,679 epoch 49 - iter 36/43 - loss 0.04166278 - samples/sec: 53.26 - lr: 0.000781\n",
            "2022-05-12 04:47:07,136 epoch 49 - iter 40/43 - loss 0.04166457 - samples/sec: 52.18 - lr: 0.000781\n",
            "2022-05-12 04:47:08,647 ----------------------------------------------------------------------------------------------------\n",
            "2022-05-12 04:47:08,650 EPOCH 49 done: loss 0.0434 - lr 0.000781\n"
          ]
        },
        {
          "output_type": "stream",
          "name": "stderr",
          "text": [
            "100%|██████████| 9/9 [00:04<00:00,  2.18it/s]"
          ]
        },
        {
          "output_type": "stream",
          "name": "stdout",
          "text": [
            "2022-05-12 04:47:12,809 Evaluating as a multi-label problem: False\n",
            "2022-05-12 04:47:12,831 DEV : loss 0.0718083381652832 - f1-score (micro avg)  0.7211\n",
            "2022-05-12 04:47:12,845 BAD EPOCHS (no improvement): 1\n",
            "2022-05-12 04:47:12,848 ----------------------------------------------------------------------------------------------------\n"
          ]
        },
        {
          "output_type": "stream",
          "name": "stderr",
          "text": [
            "\n"
          ]
        },
        {
          "output_type": "stream",
          "name": "stdout",
          "text": [
            "2022-05-12 04:47:15,195 epoch 50 - iter 4/43 - loss 0.05001491 - samples/sec: 54.72 - lr: 0.000781\n",
            "2022-05-12 04:47:17,725 epoch 50 - iter 8/43 - loss 0.04753024 - samples/sec: 50.63 - lr: 0.000781\n",
            "2022-05-12 04:47:20,258 epoch 50 - iter 12/43 - loss 0.04570481 - samples/sec: 50.64 - lr: 0.000781\n",
            "2022-05-12 04:47:22,540 epoch 50 - iter 16/43 - loss 0.04347355 - samples/sec: 56.24 - lr: 0.000781\n",
            "2022-05-12 04:47:25,083 epoch 50 - iter 20/43 - loss 0.04217056 - samples/sec: 50.38 - lr: 0.000781\n",
            "2022-05-12 04:47:27,436 epoch 50 - iter 24/43 - loss 0.04139660 - samples/sec: 54.45 - lr: 0.000781\n",
            "2022-05-12 04:47:29,755 epoch 50 - iter 28/43 - loss 0.04205671 - samples/sec: 55.24 - lr: 0.000781\n",
            "2022-05-12 04:47:31,994 epoch 50 - iter 32/43 - loss 0.04178084 - samples/sec: 57.21 - lr: 0.000781\n",
            "2022-05-12 04:47:34,377 epoch 50 - iter 36/43 - loss 0.04323299 - samples/sec: 53.78 - lr: 0.000781\n",
            "2022-05-12 04:47:36,695 epoch 50 - iter 40/43 - loss 0.04381199 - samples/sec: 55.29 - lr: 0.000781\n",
            "2022-05-12 04:47:38,197 ----------------------------------------------------------------------------------------------------\n",
            "2022-05-12 04:47:38,199 EPOCH 50 done: loss 0.0435 - lr 0.000781\n"
          ]
        },
        {
          "output_type": "stream",
          "name": "stderr",
          "text": [
            "100%|██████████| 9/9 [00:03<00:00,  2.43it/s]"
          ]
        },
        {
          "output_type": "stream",
          "name": "stdout",
          "text": [
            "2022-05-12 04:47:41,934 Evaluating as a multi-label problem: False\n",
            "2022-05-12 04:47:41,955 DEV : loss 0.07134849578142166 - f1-score (micro avg)  0.7246\n",
            "2022-05-12 04:47:41,970 BAD EPOCHS (no improvement): 2\n"
          ]
        },
        {
          "output_type": "stream",
          "name": "stderr",
          "text": [
            "\n"
          ]
        },
        {
          "output_type": "stream",
          "name": "stdout",
          "text": [
            "2022-05-12 04:47:51,638 ----------------------------------------------------------------------------------------------------\n",
            "2022-05-12 04:47:51,642 loading file /content/model/best-model.pt\n",
            "2022-05-12 04:48:03,411 SequenceTagger predicts: Dictionary with 35 tags: O, S-PER.NOM, B-PER.NOM, E-PER.NOM, I-PER.NOM, S-PER.NAM, B-PER.NAM, E-PER.NAM, I-PER.NAM, S-GPE.NAM, B-GPE.NAM, E-GPE.NAM, I-GPE.NAM, S-ORG.NAM, B-ORG.NAM, E-ORG.NAM, I-ORG.NAM, S-LOC.NAM, B-LOC.NAM, E-LOC.NAM, I-LOC.NAM, S-LOC.NOM, B-LOC.NOM, E-LOC.NOM, I-LOC.NOM, S-ORG.NOM, B-ORG.NOM, E-ORG.NOM, I-ORG.NOM, S-GPE.NOM, B-GPE.NOM, E-GPE.NOM, I-GPE.NOM, <START>, <STOP>\n"
          ]
        },
        {
          "output_type": "stream",
          "name": "stderr",
          "text": [
            "100%|██████████| 9/9 [00:11<00:00,  1.24s/it]"
          ]
        },
        {
          "output_type": "stream",
          "name": "stdout",
          "text": [
            "2022-05-12 04:48:15,590 Evaluating as a multi-label problem: False\n",
            "2022-05-12 04:48:15,616 0.6759\t0.6388\t0.6568\t0.5047\n",
            "2022-05-12 04:48:15,617 \n",
            "Results:\n",
            "- F-score (micro) 0.6568\n",
            "- F-score (macro) 0.38\n",
            "- Accuracy 0.5047\n",
            "\n",
            "By class:\n",
            "              precision    recall  f1-score   support\n",
            "\n",
            "     PER.NOM     0.6872    0.7151    0.7009       172\n",
            "     PER.NAM     0.8317    0.7434    0.7850       113\n",
            "     GPE.NAM     0.6909    0.8085    0.7451        47\n",
            "     ORG.NAM     0.4048    0.4359    0.4198        39\n",
            "     LOC.NAM     0.1000    0.0526    0.0690        19\n",
            "     ORG.NOM     0.5000    0.2353    0.3200        17\n",
            "     LOC.NOM     0.0000    0.0000    0.0000         9\n",
            "     GPE.NOM     0.0000    0.0000    0.0000         2\n",
            "\n",
            "   micro avg     0.6759    0.6388    0.6568       418\n",
            "   macro avg     0.4018    0.3739    0.3800       418\n",
            "weighted avg     0.6479    0.6388    0.6397       418\n",
            "\n",
            "2022-05-12 04:48:15,618 ----------------------------------------------------------------------------------------------------\n"
          ]
        },
        {
          "output_type": "stream",
          "name": "stderr",
          "text": [
            "\n"
          ]
        },
        {
          "output_type": "execute_result",
          "data": {
            "text/plain": [
              "{'dev_loss_history': [0.3250114917755127,\n",
              "  0.3100951910018921,\n",
              "  0.16189177334308624,\n",
              "  0.1266089230775833,\n",
              "  0.11853788793087006,\n",
              "  0.10589036345481873,\n",
              "  0.10579219460487366,\n",
              "  0.10286907106637955,\n",
              "  0.0973888412117958,\n",
              "  0.08998274058103561,\n",
              "  0.10971860587596893,\n",
              "  0.08272195607423782,\n",
              "  0.10471440106630325,\n",
              "  0.08189141750335693,\n",
              "  0.07838036119937897,\n",
              "  0.0815553218126297,\n",
              "  0.07177051156759262,\n",
              "  0.07808586210012436,\n",
              "  0.07343596965074539,\n",
              "  0.07472072541713715,\n",
              "  0.07477864623069763,\n",
              "  0.07967667281627655,\n",
              "  0.08014415204524994,\n",
              "  0.07370781898498535,\n",
              "  0.07259213179349899,\n",
              "  0.07197801768779755,\n",
              "  0.07252401858568192,\n",
              "  0.06987930834293365,\n",
              "  0.07443656027317047,\n",
              "  0.07247556000947952,\n",
              "  0.0690680518746376,\n",
              "  0.07429857552051544,\n",
              "  0.07189839333295822,\n",
              "  0.07272768765687943,\n",
              "  0.06971608847379684,\n",
              "  0.07431035488843918,\n",
              "  0.07199511677026749,\n",
              "  0.07124228775501251,\n",
              "  0.07089612632989883,\n",
              "  0.07174701988697052,\n",
              "  0.07229874283075333,\n",
              "  0.07175947725772858,\n",
              "  0.07187793403863907,\n",
              "  0.07234007120132446,\n",
              "  0.0716363713145256,\n",
              "  0.0719904750585556,\n",
              "  0.07184717804193497,\n",
              "  0.07182146608829498,\n",
              "  0.0718083381652832,\n",
              "  0.07134849578142166],\n",
              " 'dev_score_history': [0.00847457627118644,\n",
              "  0.0,\n",
              "  0.4961636828644502,\n",
              "  0.5731166912850812,\n",
              "  0.625748502994012,\n",
              "  0.6144927536231883,\n",
              "  0.654292343387471,\n",
              "  0.6493150684931508,\n",
              "  0.6855123674911661,\n",
              "  0.6828675577156743,\n",
              "  0.6260683760683761,\n",
              "  0.6835443037974683,\n",
              "  0.6397449521785334,\n",
              "  0.6826347305389222,\n",
              "  0.7071240105540897,\n",
              "  0.7112970711297072,\n",
              "  0.7072847682119205,\n",
              "  0.6980023501762632,\n",
              "  0.7023661270236613,\n",
              "  0.6972704714640198,\n",
              "  0.6990291262135923,\n",
              "  0.6927502876869965,\n",
              "  0.6697782963827305,\n",
              "  0.7137546468401488,\n",
              "  0.7206771463119709,\n",
              "  0.7073170731707318,\n",
              "  0.706166868198307,\n",
              "  0.7268170426065164,\n",
              "  0.7159904534606205,\n",
              "  0.7202881152460985,\n",
              "  0.7148288973384029,\n",
              "  0.7200956937799043,\n",
              "  0.7229813664596272,\n",
              "  0.7117008443908324,\n",
              "  0.7185929648241207,\n",
              "  0.7161676646706587,\n",
              "  0.7248484848484849,\n",
              "  0.7203907203907205,\n",
              "  0.7214723926380369,\n",
              "  0.717948717948718,\n",
              "  0.72,\n",
              "  0.7170731707317073,\n",
              "  0.7261613691931539,\n",
              "  0.7182587666263602,\n",
              "  0.7201946472019464,\n",
              "  0.7193195625759418,\n",
              "  0.7193195625759418,\n",
              "  0.7193195625759418,\n",
              "  0.7210718635809988,\n",
              "  0.7246022031823746],\n",
              " 'test_score': 0.6568265682656826,\n",
              " 'train_loss_history': [0.7055550228599651,\n",
              "  0.3981157554298241,\n",
              "  0.2906480176117457,\n",
              "  0.2240261781173334,\n",
              "  0.1940174540725216,\n",
              "  0.17311274842792737,\n",
              "  0.15654633214466032,\n",
              "  0.1372746763834578,\n",
              "  0.13281692099101358,\n",
              "  0.12290330530230896,\n",
              "  0.11407285888493182,\n",
              "  0.1100935235499573,\n",
              "  0.10692868300848492,\n",
              "  0.08708700730040629,\n",
              "  0.0843619130724098,\n",
              "  0.08216385325740735,\n",
              "  0.07902147505650398,\n",
              "  0.07513144969642882,\n",
              "  0.07145652738938946,\n",
              "  0.06893806816352775,\n",
              "  0.066947589760413,\n",
              "  0.06355960830125512,\n",
              "  0.06280627606531589,\n",
              "  0.059734617175004744,\n",
              "  0.060629844691379886,\n",
              "  0.058611437273179336,\n",
              "  0.05742797504104374,\n",
              "  0.05605767630170918,\n",
              "  0.05709358464964149,\n",
              "  0.05311824342855424,\n",
              "  0.05260702332398377,\n",
              "  0.05080521468332362,\n",
              "  0.050347774478418365,\n",
              "  0.04942079259844567,\n",
              "  0.04853115750333772,\n",
              "  0.047462852821555886,\n",
              "  0.04618776753613882,\n",
              "  0.045293529448141724,\n",
              "  0.04584596801383881,\n",
              "  0.04396219234667686,\n",
              "  0.04497158467590271,\n",
              "  0.04345377838011501,\n",
              "  0.04294425585667475,\n",
              "  0.04418793423662033,\n",
              "  0.042407403269775545,\n",
              "  0.04414938623937691,\n",
              "  0.04300346933960666,\n",
              "  0.0431315424048751,\n",
              "  0.04343543590018366,\n",
              "  0.043506628415652365]}"
            ]
          },
          "metadata": {},
          "execution_count": 11
        }
      ]
    },
    {
      "cell_type": "markdown",
      "metadata": {
        "id": "zX1abswOTdfl"
      },
      "source": [
        "We see that the output accuracy (F1-score) for our new model is **67.5%** (F1-score (micro) 0.6748). We use micro F1-score (rather than macro F1-score) as there are multiple entity classes in this setup with [class imbalance](https://datascience.stackexchange.com/questions/15989/micro-average-vs-macro-average-performance-in-a-multiclass-classification-settin).\n",
        "\n",
        "> We have a new SOTA NER model in mandarin, over 20 percentage points (absolute) better than the previous SOTA for this Weibo dataset!"
      ]
    },
    {
      "cell_type": "markdown",
      "metadata": {
        "id": "IbaB4a27Tq7P"
      },
      "source": [
        "## Using the Model (Running Inference)\n",
        "\n",
        "Running the model to do some predictions/inference is as simple as calling `tagger.predict(sentence)`. Do note that for mandarin each character needs to be split with spaces between each character (e.g. `一 节 课 的 时 间`) so that the tokenizer will work properly to split them to tokens (if you're processing them for input into the model when building an app). For more information on this, check out the [flair tutorial on tokenization](https://github.com/flairNLP/flair/blob/master/resources/docs/TUTORIAL_1_BASICS.md#tokenization)."
      ]
    },
    {
      "cell_type": "code",
      "metadata": {
        "colab": {
          "base_uri": "https://localhost:8080/"
        },
        "id": "BOtVbbI1Jsdz",
        "outputId": "db5779af-03b1-408f-b875-c55fd0edd0ba"
      },
      "source": [
        "from flair.data import Sentence\n",
        "from flair.models import SequenceTagger\n",
        "from flair.data import Corpus\n",
        "\n",
        "# Load the model that we trained, you can comment this out if you already have \n",
        "# the model loaded (e.g. if you just ran the training)\n",
        "tagger: SequenceTagger = SequenceTagger.load(\"/content/model/final-model.pt\")\n",
        "\n",
        "# Load the WEIBO corpus and use the first 5 sentences from the test set\n",
        "corpus = flair.datasets.NER_CHINESE_WEIBO()\n",
        "for idx in range(0, 5):\n",
        "  sentence = corpus.test[idx]\n",
        "  tagger.predict(sentence)\n",
        "  print(sentence.to_tagged_string())"
      ],
      "execution_count": 13,
      "outputs": [
        {
          "output_type": "stream",
          "name": "stdout",
          "text": [
            "2022-05-12 05:23:53,792 loading file /content/model/final-model.pt\n",
            "2022-05-12 05:24:00,123 SequenceTagger predicts: Dictionary with 35 tags: O, S-PER.NOM, B-PER.NOM, E-PER.NOM, I-PER.NOM, S-PER.NAM, B-PER.NAM, E-PER.NAM, I-PER.NAM, S-GPE.NAM, B-GPE.NAM, E-GPE.NAM, I-GPE.NAM, S-ORG.NAM, B-ORG.NAM, E-ORG.NAM, I-ORG.NAM, S-LOC.NAM, B-LOC.NAM, E-LOC.NAM, I-LOC.NAM, S-LOC.NOM, B-LOC.NOM, E-LOC.NOM, I-LOC.NOM, S-ORG.NOM, B-ORG.NOM, E-ORG.NOM, I-ORG.NOM, S-GPE.NOM, B-GPE.NOM, E-GPE.NOM, I-GPE.NOM, <START>, <STOP>\n",
            "2022-05-12 05:24:00,766 Reading data from /root/.flair/datasets/ner_chinese_weibo\n",
            "2022-05-12 05:24:00,767 Train: /root/.flair/datasets/ner_chinese_weibo/weiboNER_2nd_conll_format.train\n",
            "2022-05-12 05:24:00,771 Dev: /root/.flair/datasets/ner_chinese_weibo/weiboNER_2nd_conll_format.dev\n",
            "2022-05-12 05:24:00,774 Test: /root/.flair/datasets/ner_chinese_weibo/weiboNER_2nd_conll_format.test\n",
            "Sentence: \"一 节 课 的 时 间 真 心 感 动 了 李 开 复 感 动\" → [\"李 开 复\"/PER.NAM]\n",
            "Sentence: \"回 复 支 持 ， 赞 成 ， 哈 哈 米 八 吴 够 历 史 要 的 陈 小 奥 丁 丁 我 爱 小 肥 肥 一 族 大 头 仔 大 家 团 结 一 致 ， 誓 要 去 台 湾 饮 喜 酒 ， 由 包 机 ， 团 结 的 力 量 大\" → [\"陈 小 奥\"/PER.NAM, \"台 湾\"/GPE.NAM]\n",
            "Sentence: \"剑 网 乱 世 长 安 公 测 盛 典 今 日 开 启 ， 海 量 豪 礼 火 爆 开 送 精 美 挂 件 、 听 雨 · 汉 服 娃 娃 、 诙 谐 双 骑 独 轮 车 等 你 来 拿 ， 更 有 千 台 红 米 手 机 、 等 十 四 重 惊 喜 转 发 即 抽 活 动 地 址 ： 已 有 人 参 与 剑 网 官 方 微 博 剑 网 客 户 服 务\"\n",
            "Sentence: \"在 街 上 听 见 音 乐 我 舞 动 起 来 很 丢 人 ？ 真 的 很 丢 人 吗 ？\"\n",
            "Sentence: \"三 毛 说 我 唯 一 锲 而 不 舍 ， 愿 意 以 自 己 的 生 命 去 努 力 的 ， 只 不 过 是 保 守 我 个 人 的 心 怀 意 念 ， 在 我 有 生 之 日 ， 做 一 个 真 诚 的 人 ， 不 放 弃 对 生 活 的 热 爱 和 执 着 ， 在 有 限 的 时 空 里 ， 过 无 限 广\"\n"
          ]
        }
      ]
    },
    {
      "cell_type": "markdown",
      "metadata": {
        "id": "5_PbWkOxUoXk"
      },
      "source": [
        "We can connect to Google Drive with the following code to save any files you want to persist. You can also click the `Files` icon on the left panel and click `Mount Drive` to mount your Google Drive.\n",
        "\n",
        "The root of your Google Drive will be mounted to `/content/drive/My Drive/`. If you have problems mounting the drive, you can check out this [tutorial](https://towardsdatascience.com/downloading-datasets-into-google-drive-via-google-colab-bcb1b30b0166)."
      ]
    },
    {
      "cell_type": "code",
      "metadata": {
        "id": "MGqgwwvkUuNv",
        "colab": {
          "base_uri": "https://localhost:8080/"
        },
        "outputId": "a4771811-00e8-4b97-d924-3d247e475a33"
      },
      "source": [
        "from google.colab import drive\n",
        "drive.mount('/content/drive/')"
      ],
      "execution_count": 14,
      "outputs": [
        {
          "output_type": "stream",
          "name": "stdout",
          "text": [
            "Mounted at /content/drive/\n"
          ]
        }
      ]
    },
    {
      "cell_type": "markdown",
      "metadata": {
        "id": "kh9_zd6aUqMG"
      },
      "source": [
        "You can move the model files from our local directory to your Google Drive."
      ]
    },
    {
      "cell_type": "code",
      "metadata": {
        "id": "0P7UpDkVUyQQ",
        "colab": {
          "base_uri": "https://localhost:8080/",
          "height": 35
        },
        "outputId": "9d1cd704-32b2-4a89-c0c9-05a3b2da0645"
      },
      "source": [
        "import shutil\n",
        "shutil.move('/content/model/', \"/content/drive/My Drive/model/\")"
      ],
      "execution_count": 15,
      "outputs": [
        {
          "output_type": "execute_result",
          "data": {
            "text/plain": [
              "'/content/drive/My Drive/model/'"
            ],
            "application/vnd.google.colaboratory.intrinsic+json": {
              "type": "string"
            }
          },
          "metadata": {},
          "execution_count": 15
        }
      ]
    },
    {
      "cell_type": "markdown",
      "metadata": {
        "id": "Bpu244PQUyso"
      },
      "source": [
        "More Notebooks @ [eugenesiow/practical-ml](https://github.com/eugenesiow/practical-ml) and do drop us some feedback on how to improve the notebooks on the [Github repo](https://github.com/eugenesiow/practical-ml/)."
      ]
    }
  ]
}